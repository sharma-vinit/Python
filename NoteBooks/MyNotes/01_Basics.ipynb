{
 "cells": [
  {
   "cell_type": "code",
   "execution_count": 2,
   "metadata": {},
   "outputs": [
    {
     "data": {
      "text/html": [
       "<script>\n",
       "code_show=true; \n",
       "function code_toggle() {\n",
       "    if (code_show){\n",
       "        $('div.cell.code_cell.rendered.selected div.input').hide();\n",
       "    } else {\n",
       "        $('div.cell.code_cell.rendered.selected div.input').show();\n",
       "    }\n",
       "    code_show = !code_show\n",
       "} \n",
       "$( document ).ready(code_toggle);\n",
       "</script>\n",
       "<style>\n",
       "    @import url('https://fonts.googleapis.com/css?family=Raleway&display=swap');\n",
       "    \n",
       "    div.text_cell_render h1 { /* Main titles bigger, centered */\n",
       "        font-size: 2.2em;\n",
       "        line-height:1.4em;\n",
       "        text-align:center;\n",
       "        color: #00090d;\n",
       "    }\n",
       "    div.text_cell_render h2 { /*  Parts names nearer from text */\n",
       "        font-size: 1.8em;\n",
       "        color:#f2f2f2;;\n",
       "        border-radius: 3px;\n",
       "        background: #2b916a;\n",
       "        padding: 15px;\n",
       "        width: 99%;\n",
       "        height: 2em;\n",
       "    }\n",
       "    div.text_cell_render h3 { /*  Parts names nearer from text */\n",
       "        font-size: 1.5em;\n",
       "        color:#f2f2f2;\n",
       "        background: #1eb4a6;\n",
       "        border-radius: 3px;\n",
       "        padding: 15px;\n",
       "        width: 99%;\n",
       "        height: 2em;\n",
       "    }\n",
       "    div.text_cell_render h4 { /*  Parts names nearer from text */\n",
       "        font-size: 1.2em; \n",
       "        font-style: normal;\n",
       "        color:#f2f2f2;;\n",
       "        border-radius: 3px;\n",
       "        background: #008874;\n",
       "        padding: 5px;\n",
       "        display: inline-block;\n",
       "    }\n",
       "    div.text_cell_render h5 { /*  Parts names nearer from text */\n",
       "        font-size: 1em;\n",
       "        font-style: normal;\n",
       "        color:#f2f2f2;;\n",
       "        border-radius: 3px;\n",
       "        background: #0070b8;\n",
       "        padding: 5px;\n",
       "        display: inline-block;\n",
       "    }\n",
       "    div.text_cell_render h6 { /*  Parts names nearer from text */\n",
       "        font-size: 1em;\n",
       "        color: #0082a3;\n",
       "        font-style: normal;\n",
       "    }\n",
       "    \n",
       "    /* Customize text cells */\n",
       "    div.text_cell_render { \n",
       "        font-family: 'Raleway', sans-serif;\n",
       "        text-align: justify;\n",
       "    }    \n",
       "    \n",
       "    p,li,span {\n",
       "        color:#0f0f0f;\n",
       "        text-align: justify;\n",
       "    }\n",
       "       \n",
       "    .text_cell_render,.rendered_html {\n",
       "        font-style: normal;\n",
       "        text-align: justify;\n",
       "    }\n",
       "    \n",
       "    .link_background {\n",
       "        color: #f2f2f2;\n",
       "    }\n",
       "\n",
       "    .box {\n",
       "      border-radius: 3px;\n",
       "      border: 2px solid #60b985;\n",
       "      padding: 20px;\n",
       "      width: 99%;\n",
       "      height: 2em;\n",
       "    }\n",
       "\n",
       "    .key {\n",
       "        color: #b31919;\n",
       "        text-decoration: underline;\n",
       "    }\n",
       "    .highlight{\n",
       "        color:#b31919;\n",
       "        font-weight: bold;\n",
       "    }\n",
       "    .note{\n",
       "        background-color: #d9f3d8;\n",
       "    }\n",
       "</style>\n",
       "To show/hide this cell's raw code input, click <a href=\"javascript:code_toggle()\">here</a>."
      ],
      "text/plain": [
       "<IPython.core.display.HTML object>"
      ]
     },
     "metadata": {},
     "output_type": "display_data"
    }
   ],
   "source": [
    "from IPython.display import HTML\n",
    "from IPython.display import display\n",
    "\n",
    "# Taken from https://stackoverflow.com/questions/31517194/how-to-hide-one-specific-cell-input-or-output-in-ipython-notebook\n",
    "tag = HTML('''<script>\n",
    "code_show=true; \n",
    "function code_toggle() {\n",
    "    if (code_show){\n",
    "        $('div.cell.code_cell.rendered.selected div.input').hide();\n",
    "    } else {\n",
    "        $('div.cell.code_cell.rendered.selected div.input').show();\n",
    "    }\n",
    "    code_show = !code_show\n",
    "} \n",
    "$( document ).ready(code_toggle);\n",
    "</script>\n",
    "<style>\n",
    "    @import url('https://fonts.googleapis.com/css?family=Raleway&display=swap');\n",
    "    \n",
    "    div.text_cell_render h1 { /* Main titles bigger, centered */\n",
    "        font-size: 2.2em;\n",
    "        line-height:1.4em;\n",
    "        text-align:center;\n",
    "        color: #00090d;\n",
    "    }\n",
    "    div.text_cell_render h2 { /*  Parts names nearer from text */\n",
    "        font-size: 1.8em;\n",
    "        color:#f2f2f2;;\n",
    "        border-radius: 3px;\n",
    "        background: #2b916a;\n",
    "        padding: 15px;\n",
    "        width: 99%;\n",
    "        height: 2em;\n",
    "    }\n",
    "    div.text_cell_render h3 { /*  Parts names nearer from text */\n",
    "        font-size: 1.5em;\n",
    "        color:#f2f2f2;\n",
    "        background: #1eb4a6;\n",
    "        border-radius: 3px;\n",
    "        padding: 15px;\n",
    "        width: 99%;\n",
    "        height: 2em;\n",
    "    }\n",
    "    div.text_cell_render h4 { /*  Parts names nearer from text */\n",
    "        font-size: 1.2em; \n",
    "        font-style: normal;\n",
    "        color:#f2f2f2;;\n",
    "        border-radius: 3px;\n",
    "        background: #008874;\n",
    "        padding: 5px;\n",
    "        display: inline-block;\n",
    "    }\n",
    "    div.text_cell_render h5 { /*  Parts names nearer from text */\n",
    "        font-size: 1em;\n",
    "        font-style: normal;\n",
    "        color:#f2f2f2;;\n",
    "        border-radius: 3px;\n",
    "        background: #0070b8;\n",
    "        padding: 5px;\n",
    "        display: inline-block;\n",
    "    }\n",
    "    div.text_cell_render h6 { /*  Parts names nearer from text */\n",
    "        font-size: 1em;\n",
    "        color: #0082a3;\n",
    "        font-style: normal;\n",
    "    }\n",
    "    \n",
    "    /* Customize text cells */\n",
    "    div.text_cell_render { \n",
    "        font-family: 'Raleway', sans-serif;\n",
    "        text-align: justify;\n",
    "    }    \n",
    "    \n",
    "    p,li,span {\n",
    "        color:#0f0f0f;\n",
    "        text-align: justify;\n",
    "    }\n",
    "       \n",
    "    .text_cell_render,.rendered_html {\n",
    "        font-style: normal;\n",
    "        text-align: justify;\n",
    "    }\n",
    "    \n",
    "    .link_background {\n",
    "        color: #f2f2f2;\n",
    "    }\n",
    "\n",
    "    .box {\n",
    "      border-radius: 3px;\n",
    "      border: 2px solid #60b985;\n",
    "      padding: 20px;\n",
    "      width: 99%;\n",
    "      height: 2em;\n",
    "    }\n",
    "\n",
    "    .key {\n",
    "        color: #b31919;\n",
    "        text-decoration: underline;\n",
    "    }\n",
    "    .highlight{\n",
    "        color:#b31919;\n",
    "        font-weight: bold;\n",
    "    }\n",
    "    .note{\n",
    "        background-color: #d9f3d8;\n",
    "    }\n",
    "</style>\n",
    "To show/hide this cell's raw code input, click <a href=\"javascript:code_toggle()\">here</a>.''')\n",
    "display(tag)\n",
    "\n",
    "############### Write code below ##################"
   ]
  },
  {
   "cell_type": "markdown",
   "metadata": {},
   "source": [
    "# Python 3.x"
   ]
  },
  {
   "cell_type": "markdown",
   "metadata": {},
   "source": [
    "## Table Of Contents\n",
    "\n",
    "\n",
    "<ol>\n",
    "  <li type=\"1\"><a href='#History'>History</a>\n",
    "      <ol>\n",
    "        <li type=\"a\"><a href='#Development-Steps-of-Python'>Development Steps of Python</a>\n",
    "            <ol>\n",
    "                <li type=\"i\"><a href='#Some-changes-in-Python-3.0'>Changes in Python 3.0</a></li>\n",
    "            </ol>\n",
    "        </li>\n",
    "      </ol>\n",
    "  </li>\n",
    "  <li type=\"1\"><a href='#Features-of-Python'>Features of Python</a>\n",
    "      <ol>\n",
    "        <li type=\"a\"><a href='#Easy'>Easy</a>\n",
    "            <ol>\n",
    "                <li type=\"i\"><a href='#Easy-to-Code'>Easy to Code</a></li>\n",
    "                <li type=\"i\"><a href='#Easy-to-Read'>Easy to Read</a></li>\n",
    "            </ol>\n",
    "        </li>\n",
    "      </ol>\n",
    "  </li>\n",
    "  <li type=\"1\"><a href='#Basics'>Basics</a></li>\n",
    "  <li type=\"1\"><a href='#Syntax-Roles'>Syntax Roles</a>\n",
    "      <ol>\n",
    "        <li type=\"a\"><a href='#Structuring-with-Indentation'>Structuring with Indentation</a>\n",
    "            <ol>\n",
    "                <li type=\"i\"><a href='#Blocks'>Blocks</a></li>\n",
    "                <li type=\"i\"><a href='#Indenting-Code'>Indenting Code</a></li>\n",
    "            </ol>\n",
    "        </li>\n",
    "        <li type=\"a\"><a href='#Comments'>Comments</a>\n",
    "            <ol>\n",
    "                <li type=\"i\"><a href='#Single-Line-Comment'>Single-Line-Comment</a></li>\n",
    "                <li type=\"i\"><a href='#Multi-line-comment'>Multi-line comment</a></li>\n",
    "                <li type=\"i\"><a href='#Docstring-in-Python'>Docstring in Python</a></li>\n",
    "            </ol>\n",
    "        </li>\n",
    "        <li type=\"a\"><a href='#Python-Keywords-and-Identifiers'>Python Keywords and Identifiers</a>\n",
    "            <ol>\n",
    "                <li type=\"i\"><a href='#Python-Keywords'>Python Keywords</a></li>\n",
    "                <li type=\"i\"><a href='#Python-Identifiers'>Python-Identifiers</a>\n",
    "                    <ol>\n",
    "                        <li type=\"i\"><a href='#Rules-for-writing-identifiers'>Rules for writing identifiers</a></li>\n",
    "                    </ol>\n",
    "                </li>\n",
    "                <li type=\"i\"><a href='#Python-Variables-and-Constants'>Python Variables and Constants</a>\n",
    "                    <ol>\n",
    "                        <li type=\"i\"><a href='#Python-Variables'>Python Variables</a>\n",
    "                            <ol>\n",
    "                                    <li type=\"i\"><a href=\"#Assigning-multiple-values-to-multiple-variables\">Assigning multiple values to multiple variables</a></li>\n",
    "                            </ol>\n",
    "                        </li>\n",
    "                        <li type=\"i\"><a href='#Constants'>Constants</a>\n",
    "                    </ol>\n",
    "                </li>\n",
    "            </ol>\n",
    "        </li>\n",
    "      </ol>\n",
    "  </li>\n",
    "</ol>"
   ]
  },
  {
   "cell_type": "markdown",
   "metadata": {},
   "source": [
    "<a id='1_history'></a>\n",
    "## History"
   ]
  },
  {
   "cell_type": "markdown",
   "metadata": {},
   "source": [
    "Python is a high-level, structured, open-source programming language that can be used for a wide variety of programming tasks. \n",
    "Python was created by Guido Van Rossum in the early 1990s; its following has grown steadily and interest has increased markedly in the last few years or so. It is named after Monty Python's Flying Circus comedy program."
   ]
  },
  {
   "cell_type": "markdown",
   "metadata": {},
   "source": [
    "### Development Steps of Python\n",
    "\n",
    "<div style=\"margin-top: -1.5em; margin-right:1em;\" align=\"right\">\n",
    "    <a class=\"link_background\" href=\"https://en.wikipedia.org/wiki/History_of_Python\">Refer Wikipedia for details</a>\n",
    "</div>"
   ]
  },
  {
   "cell_type": "markdown",
   "metadata": {},
   "source": [
    "Guido Van Rossum published the <b>first version of Python code (version 0.9.0) at alt.sources in February 1991.</b><br>\n",
    "This release included already \n",
    "1. exception handling, \n",
    "1. functions, and \n",
    "1. the core data types of list, dict, str and others. \n",
    "\n",
    "It was also object oriented and had a module system.\n",
    "\n",
    "<b>Python version 1.0 was released in January 1994.</b><br>\n",
    "The major new features included in this release were the functional programming tools lambda, map, filter and reduce, which Guido Van Rossum never liked.\n",
    "\n",
    "<b>Six and a half years later in October 2000, Python 2.0 was introduced.</b><br> \n",
    "This release included \n",
    "1. list comprehensions, \n",
    "1. a full garbage collector and \n",
    "1. it was supporting unicode.\n",
    "\n",
    "<b>Python flourished for another 8 years in the versions 2.x before the next major release as Python 3.0 (also known as \"Python 3000\" and \"Py3K\") was released.</b><br> \n",
    "<p>\n",
    "Python 3 is not backwards compatible with Python 2.x. The emphasis in Python 3 had been on the removal of duplicate programming constructs and modules, thus fulfilling or coming close to fulfilling the 13th law of the Zen of Python: \"There should be one -- and preferably only one -- obvious way to do it.</p>\n",
    "\n",
    "<a id='2_1_history'></a>\n",
    "<h5 style=\"font-style: none;\">Some changes in Python 3.0</h5>\n",
    "<ul>\n",
    "    <li>\n",
    "        Print is now a function.<br>\n",
    "        <code># Try your first Python output</code><br>\n",
    "        <code>print('Hello, Python!')</code>\n",
    "        <div class=\"alert alert-success alertsuccess\" style=\"margin-top: 20px\">\n",
    "            [Tip:] <code>print()</code> is a function. You passed the string <code>'Hello, Python!'</code> as an argument to instruct Python on what to print.\n",
    "        </div>\n",
    "    </li>\n",
    "    <li>Views and iterators instead of lists</li>\n",
    "    <li>The rules for ordering comparisons have been simplified. E.g. a heterogeneous list cannot be sorted, because all the elements of a list must be comparable to each other.</li>\n",
    "    <li>There is only one integer type left, i.e. int. long is int as well.</li>\n",
    "    <li>The division of two integers returns a float instead of an integer. \"//\" can be used to have the \"old\" behaviour.</li>\n",
    "    <li>Text Vs. Data Instead Of Unicode Vs. 8-bit</li>\n",
    "</ul>"
   ]
  },
  {
   "cell_type": "markdown",
   "metadata": {},
   "source": [
    "Guido developed Python language by taking almost all programming features from different languages:\n",
    "<ol>\n",
    "    <li>Functional Programming Features from C </li>\n",
    "    <li>Object Oriented Programming Features from C++</li>\n",
    "    <li>Scripting Language Features from Perl and Shell Script</li>\n",
    "    <li>Modular Programming Features from Modula-3</li>\n",
    "</ol>\n",
    "\n",
    "Most of syntax in Python Derived from C and ABC languages."
   ]
  },
  {
   "cell_type": "markdown",
   "metadata": {},
   "source": [
    "## Features of Python"
   ]
  },
  {
   "cell_type": "markdown",
   "metadata": {},
   "source": [
    "<ol>\n",
    "    <li>\n",
    "        <h4>Easy</h4>\n",
    "        When we say the word ‘easy’, we mean it in different contexts.\n",
    "        <ol>\n",
    "            <li type=\"i\">\n",
    "                <h5>Easy to Code</h5>\n",
    "                Python is very easy to code. Compared to other popular languages like Java and C++, it is easier to code in Python.Thus, it is programmer-friendly.\n",
    "            </li>\n",
    "            <li type=\"i\">\n",
    "                <h5>Easy to Read</h5>\n",
    "                Being a high-level language, Python code is quite like English. Also, since it is <span class=\"key\">dynamically-typed</span>, it mandates indentation. This aids readability.\n",
    "            </li>\n",
    "        </ol>\n",
    "    </li>\n",
    "    <li>\n",
    "        <h4>Expressive</h4>\n",
    "        Suppose we have two languages A and B, and all programs that can be made in A can be made in B using local transformations. However, there are some programs that can be made in B, but not in A, using local transformations. Then, B is said to be more expressive than A.\n",
    "    </li>\n",
    "    <li>\n",
    "        <h4>Free and Open Source</h4>\n",
    "        <ol>\n",
    "            <li type=\"i\">\n",
    "                <h5>Free</h5>\n",
    "                Python is <strong>freely available</strong>. You can download it from the&nbsp;<a href=\"https://www.python.org/downloads/\" onclick=\"javascript:window.open('https://www.python.org/downloads/'); return false;\">Python Website</a>.\n",
    "            </li>\n",
    "            <li type=\"i\">\n",
    "                <h5>Open Source</h5>\n",
    "                This means that its source code is available to the public. You can download it, change it, use it, and distribute it. This is called <strong>FLOSS(Free/Libre and Open Source Software)</strong>. As the Python community, we’re all headed toward one goal- an ever-bettering Python.\n",
    "            </li>\n",
    "        </ol>\n",
    "    </li>\n",
    "    <li>\n",
    "        <h4>High-Level</h4>\n",
    "        This means that as programmers, we don’t need to remember the system architecture. Nor do we need to manage the memory. This makes it more <strong>programmer-friendly</strong> and is one of the key python features.\n",
    "    </li>\n",
    "    <li>\n",
    "        <h4>Portable</h4>\n",
    "        Let’s assume we’ve written a Python code for our Windows machine. Now, if we want to run it on a Mac, we don’t need to make changes to it for the same. In other words, we can take one code and run it on any machine, there is no need to write different code for different machines. This makes Python a <strong>portable language</strong>. However, we must avoid any system-dependent features in this case.\n",
    "    </li>\n",
    "    <li>\n",
    "        <h4>Interpreted</h4>\n",
    "        If you’re familiar with any languages like C++ or Java, you must first compile it, and then run it. But in Python, there is no need to compile it. Internally, its source code is converted into an immediate form called <strong>bytecode</strong>. So, all you need to do is to run your Python code without worrying about linking to libraries, and a few other things.\n",
    "    </li>\n",
    "    <li>\n",
    "        <h4>Object-Oriented</h4>\n",
    "        A programming language that can model the real world is said to be object-oriented. It focuses on objects and combines data and functions. Contrarily, a procedure-oriented language revolves around functions, which are code that can be reused. Python supports both procedure-oriented and object-oriented programming which is one of the key python features. It also supports multiple inheritances, unlike Java. A class is a blueprint for such an object. It is an abstract data type and holds no values.\n",
    "    </li>\n",
    "    <li>\n",
    "        <h4>Extensible</h4>\n",
    "        If needed, you can write some of your Python code in other languages like C++. This makes Python an extensible language, meaning that it can be extended to other languages.\n",
    "    </li>\n",
    "    <li>\n",
    "        <h4>Large Standard Library</h4>\n",
    "        Python downloads with a large library that you can use so you don’t have to write your own code for every single thing. There are libraries for regular expressions, documentation-generation, unit-testing, web browsers, threading, databases, CGI, email, image manipulation, and a lot of other functionality.\n",
    "    </li>\n",
    "    <li>\n",
    "        <h4>Dynamically Typed</h4>\n",
    "        Python is dynamically-typed language. That means the type (for example- int, double, long etc) for a variable is decided at run time not in advance.because of this feature we don’t need to specify the type of variable.\n",
    "    </li>\n",
    "</ol>"
   ]
  },
  {
   "cell_type": "markdown",
   "metadata": {},
   "source": [
    "## Basics"
   ]
  },
  {
   "cell_type": "code",
   "execution_count": null,
   "metadata": {},
   "outputs": [],
   "source": [
    "# Check the installed Python Version\n",
    "import sys\n",
    "print(sys.version)"
   ]
  },
  {
   "cell_type": "markdown",
   "metadata": {},
   "source": [
    "<div class=\"alert alert-success alertsuccess\" style=\"margin-top: 20px\">\n",
    "    [Tip:] <code>sys</code> is a built-in module that contains many system-specific parameters and functions, including the Python version in use. Before using it, we must explictly <code>import</code> it.\n",
    "</div>"
   ]
  },
  {
   "cell_type": "markdown",
   "metadata": {},
   "source": [
    "<span class=\"note\">Python is an <span class=\"highlight\">interpreted programming language</span></span>. Your Python code actually gets compiled down to more computer-readable instructions called <span class=\"highlight\">bytecode</span>. These instructions get interpreted by a virtual machine when you run your code.\n",
    "\n",
    "Have you ever seen a <b><code>.pyc</code></b> file or a <b><code>&lowbar;&lowbar;pycache&lowbar;&lowbar;</code></b> folder? That’s the bytecode that gets interpreted by the virtual machine.\n",
    "\n",
    "The bytecode is also cached in <b><code>.pyc</code></b> files so that executing the same file is faster the second time (recompilation from source to bytecode can be avoided). This “intermediate language” is said to run on a virtual machine that executes the machine code corresponding to each bytecode. Do note that <i>bytecodes are not expected to work between different Python virtual machines, nor to be stable between Python releases</i>."
   ]
  },
  {
   "cell_type": "markdown",
   "metadata": {},
   "source": [
    "<img src=\"https://upload.wikimedia.org/wikipedia/commons/thumb/8/84/Third-party_JVM-targeted_Compilation.svg/508px-Third-party_JVM-targeted_Compilation.svg.png\" width=\"508\" height=\"240\" align=\"center\"><br>\n",
    "<b>Refer: </b> \n",
    "<ul>\n",
    "<li><a style=\"text-decoration: none;\" href=\"https://leanpub.com/insidethepythonvirtualmachine/read_full\">Inside The Python Virtual Machine</a></li>\n",
    "<li><a style=\"\" href:\"http://jasonleaster.github.io/2016/02/21/architecture-of-python-virtual-machine/\">Architecture of Python Virtual Machine</a></li>\n",
    "</ul>"
   ]
  },
  {
   "cell_type": "code",
   "execution_count": null,
   "metadata": {},
   "outputs": [],
   "source": [
    "import this"
   ]
  },
  {
   "cell_type": "markdown",
   "metadata": {},
   "source": [
    "## Syntax Roles"
   ]
  },
  {
   "cell_type": "markdown",
   "metadata": {},
   "source": [
    "### Structuring with Indentation"
   ]
  },
  {
   "cell_type": "markdown",
   "metadata": {},
   "source": [
    "#### Blocks"
   ]
  },
  {
   "cell_type": "markdown",
   "metadata": {},
   "source": [
    "A block is a group of statements in a program or script. A block in a script or program functions as a mean to group statements to be treated as if they were one statement. \n",
    "In many cases, it also serves as a way to limit the lexical scope of variables and functions.\n",
    "Generally, blocks can contain blocks as well, so we get a nested block structure."
   ]
  },
  {
   "cell_type": "markdown",
   "metadata": {},
   "source": [
    "#### Indenting Code"
   ]
  },
  {
   "cell_type": "markdown",
   "metadata": {},
   "source": [
    "Python structures by <span class=\"key\">colons</span> and <span class=\"key\">indentation</span><br>\n",
    "<ol>\n",
    "    <li>Python programs get structured through indentation, i.e. code blocks are defined by their indentation.</li>\n",
    "    <li>Loops and Conditional statements end with a colon \"<code>:</code>\" - the same is true for functions and other structures introducing blocks.</li>\n",
    "</ol>\n",
    "<br> \n",
    "<img src=\"https://www.python-course.eu/images/blocks.png\" height=\"196\" width=\"323\" align=\"center\">"
   ]
  },
  {
   "cell_type": "markdown",
   "metadata": {},
   "source": [
    "### Comments"
   ]
  },
  {
   "cell_type": "markdown",
   "metadata": {},
   "source": [
    "It describes what's going on inside a program so that a person looking at the source code does not have a hard time figuring it out. You might forget the key details of the program you just wrote in a month's time. So taking time to explain these concepts in form of comments is always fruitful.\n",
    "\n",
    "In Python, we use the hash (<span class=\"highlight\">#</span>) symbol to start writing a comment.\n",
    "\n",
    "It extends up to the newline character. Comments are for programmers for better understanding of a program. <span class=\"note\">Python Interpreter ignores comment. </span>"
   ]
  },
  {
   "cell_type": "markdown",
   "metadata": {},
   "source": [
    "#### Single Line Comment"
   ]
  },
  {
   "cell_type": "code",
   "execution_count": null,
   "metadata": {},
   "outputs": [],
   "source": [
    "#This is a comment\n",
    "#print out Hello\n",
    "print('Hello')"
   ]
  },
  {
   "cell_type": "markdown",
   "metadata": {},
   "source": [
    "#### Multi-line comment\n",
    "If we have comments that extend multiple lines, one way of doing it is to use hash (#) in the beginning of each line. For example:"
   ]
  },
  {
   "cell_type": "code",
   "execution_count": null,
   "metadata": {},
   "outputs": [],
   "source": [
    "#This is a long comment\n",
    "#and it extends\n",
    "#to multiple lines"
   ]
  },
  {
   "cell_type": "markdown",
   "metadata": {},
   "source": [
    "Another way of doing this is to use triple quotes, either <code>'''</code> or <code>\"\"\"</code>.<br>\n",
    "These triple quotes are generally used for multi-line strings. But they can be used as multi-line comment as well. Unless they are not docstrings, they do not generate any extra code."
   ]
  },
  {
   "cell_type": "code",
   "execution_count": null,
   "metadata": {},
   "outputs": [],
   "source": [
    "\"\"\"This is also a\n",
    "perfect example of\n",
    "multi-line comments\"\"\""
   ]
  },
  {
   "cell_type": "markdown",
   "metadata": {},
   "source": [
    "#### Docstring in Python"
   ]
  },
  {
   "cell_type": "markdown",
   "metadata": {},
   "source": [
    "Docstring is short for documentation string.\n",
    "\n",
    "It is a string that occurs as the first statement in a module, function, class, or method definition. We must write what a function/class does in the docstring.\n",
    "\n",
    "Triple quotes are used while writing docstrings. For example:"
   ]
  },
  {
   "cell_type": "code",
   "execution_count": null,
   "metadata": {},
   "outputs": [],
   "source": [
    "def double(num):\n",
    "    \"\"\"Function to double the value\"\"\"\n",
    "    return 2*num"
   ]
  },
  {
   "cell_type": "markdown",
   "metadata": {},
   "source": [
    "Docstring is available to us as the attribute <code>&lowbar;&lowbar;doc&lowbar;&lowbar;</code> of the function. Issue the following code in shell once you run the above program."
   ]
  },
  {
   "cell_type": "code",
   "execution_count": null,
   "metadata": {},
   "outputs": [],
   "source": [
    "print(double.__doc__)"
   ]
  },
  {
   "cell_type": "markdown",
   "metadata": {},
   "source": [
    "### Python Keywords and Identifiers"
   ]
  },
  {
   "cell_type": "markdown",
   "metadata": {},
   "source": [
    "#### Python Keywords"
   ]
  },
  {
   "cell_type": "markdown",
   "metadata": {},
   "source": [
    "Keywords are the reserved words in Python. Which means we cannot use a keyword as a variable name, function name or any other identifier. They are used to define the syntax and structure of the Python language.\n",
    "\n",
    "<span class=\"note\">In Python, <b>keywords are case sensitive.</b> There are <b>33 keywords in Python 3.7.</b></span><br>\n",
    "\n",
    "All the keywords except <code>True</code>, <code>False</code> and <code>None</code> are in lowercase and they must be written as it is. <br>\n",
    "<b>Keywords in Python</b>\n",
    "```python\n",
    "help()   #execute help() in terminal\n",
    "keywords # type kewords to get all the keywords in python\n",
    "```\n",
    "<img src=\"https://cdn.journaldev.com/wp-content/uploads/2017/05/python-keywords.png\" height=\"225\" width=\"560\" align=\"left\">"
   ]
  },
  {
   "cell_type": "code",
   "execution_count": null,
   "metadata": {},
   "outputs": [],
   "source": [
    "help()"
   ]
  },
  {
   "cell_type": "markdown",
   "metadata": {},
   "source": [
    "#### Python Identifiers"
   ]
  },
  {
   "cell_type": "markdown",
   "metadata": {},
   "source": [
    "An identifier is a name given to entities like class, functions, variables, etc. It helps to differentiate one entity from another."
   ]
  },
  {
   "cell_type": "markdown",
   "metadata": {},
   "source": [
    "##### Rules for writing identifiers\n",
    "1. Identifiers can be a combination of letters in lowercase <span class=\"note\"><b>(a to z)</b></span> or uppercase <span class=\"note\"><b>(A to Z)</b></span> or digits <span class=\"note\"><b>(0 to 9)</b></span> or an underscore <b>_</b>. Names like <code>myClass</code>, <code>var_1</code> and <code>print_this_to_screen</code>, all are valid example.\n",
    "1. <span class=\"note\">An identifier cannot start with a digit.</span> <code>1variable</code> is invalid, but <code>variable1</code> is perfectly fine.\n",
    "1. <span class=\"note\">Keywords cannot be used as identifiers.</span> \n",
    "```python\n",
    "global = 1\n",
    "  File \"<interactive input>\", line 1\n",
    "    global = 1\n",
    "           ^\n",
    "SyntaxError: invalid syntax\n",
    "```\n",
    "1. <span class=\"note\">We cannot use special symbols like <span class=\"highlight\">!</span>, <span class=\"highlight\">@</span>, <span class=\"highlight\">#</span>, <span class=\"highlight\">$</span>, <span class=\"highlight\">%</span> etc. in our identifier. </span>\n",
    "```python\n",
    "a@ = 0\n",
    "  File \"<interactive input>\", line 1\n",
    "    a@ = 0\n",
    "     ^\n",
    "SyntaxError: invalid syntax\n",
    "```\n",
    "1. <span class=\"note\">Identifier can be of any length.</span>\n",
    "1. <span class=\"note\">Identifiers are Case sensitive.</span>\n",
    "```python\n",
    "a = 1\n",
    "A = 1\n",
    "print(a is not A)  # True\n",
    "```\n",
    "1. <span class=\"note\">Use capital letters possible to declare a constant.</span>"
   ]
  },
  {
   "cell_type": "code",
   "execution_count": null,
   "metadata": {},
   "outputs": [],
   "source": [
    "global = 1"
   ]
  },
  {
   "cell_type": "code",
   "execution_count": null,
   "metadata": {},
   "outputs": [],
   "source": [
    "a@ = 0"
   ]
  },
  {
   "cell_type": "code",
   "execution_count": null,
   "metadata": {},
   "outputs": [],
   "source": [
    "a = 1\n",
    "A = 2\n",
    "print(a is not A)  # True"
   ]
  },
  {
   "cell_type": "markdown",
   "metadata": {},
   "source": [
    "Though these are hard rules for writing identifiers, also there are some naming conventions which are not mandatory but rather good practices to follow.\n",
    "\n",
    "1. <span class=\"note\">Class names start with an uppercase letter. All other identifiers start with a lowercase letter.</span>\n",
    "1. <span class=\"note\">Don't start a variable name with a digit.</span>\n",
    "1. <span class=\"note\">Starting an identifier with a single leading underscore indicates the identifier is <span class=\"key\">private</span>.</span>\n",
    "1. <span class=\"note\">If the identifier starts and ends with two underscores, than means the identifier is <span class=\"key\">language-defined special name</span>.</span>\n",
    "1. While <code>c = 10</code> is valid, writing <code>count = 10</code> would make more sense and it would be easier to figure out what it does even when you look at your code after a long time.\n",
    "1. Multiple words can be separated using an underscore, for example <code>this_is_a_variable</code>.\n"
   ]
  },
  {
   "cell_type": "markdown",
   "metadata": {},
   "source": [
    "### Python Variables and Constants"
   ]
  },
  {
   "cell_type": "markdown",
   "metadata": {},
   "source": [
    "#### Python Variables"
   ]
  },
  {
   "cell_type": "markdown",
   "metadata": {},
   "source": [
    "A variable is a named location used to store data in the memory. It is helpful to think of variables as a container that holds data which can be changed later throughout programming. For example,"
   ]
  },
  {
   "cell_type": "code",
   "execution_count": null,
   "metadata": {},
   "outputs": [],
   "source": [
    "number = 10\n",
    "number = 1.1"
   ]
  },
  {
   "cell_type": "markdown",
   "metadata": {},
   "source": [
    "Here, we have created a named <code>number</code>. We have assigned value <code>10</code> to the variable. Initially, the value of number was <code>10</code>. Later it's changed to <code>1.1</code>."
   ]
  },
  {
   "cell_type": "markdown",
   "metadata": {},
   "source": [
    "As you can see from the above example, you can use the assignment operator <code>=</code> to assign a value to a variable."
   ]
  },
  {
   "cell_type": "markdown",
   "metadata": {},
   "source": [
    "##### Assigning multiple values to multiple variables"
   ]
  },
  {
   "cell_type": "code",
   "execution_count": null,
   "metadata": {},
   "outputs": [],
   "source": [
    "a, b, c = 5, 3.2, \"Hello\"\n",
    "\n",
    "print (a)\n",
    "print (b)\n",
    "print (c)"
   ]
  },
  {
   "cell_type": "markdown",
   "metadata": {},
   "source": [
    "If we want to assign the same value to multiple variables at once, we can do this as"
   ]
  },
  {
   "cell_type": "code",
   "execution_count": null,
   "metadata": {},
   "outputs": [],
   "source": [
    "x = y = z = \"same\"\n",
    "\n",
    "print (x)\n",
    "print (y)\n",
    "print (z)"
   ]
  },
  {
   "cell_type": "markdown",
   "metadata": {},
   "source": [
    "<span class=\"note\"><b>Note :</b> Python is a <span class=\"highlight\">type inferred</span> language; it can automatically know apple.com is a string and declare website as a string.</span>"
   ]
  },
  {
   "cell_type": "code",
   "execution_count": null,
   "metadata": {},
   "outputs": [],
   "source": [
    "data = 1;\n",
    "print(type(data))\n",
    "\n",
    "data = \"Greeting!\"\n",
    "print(type(data))"
   ]
  },
  {
   "cell_type": "markdown",
   "metadata": {},
   "source": [
    "#### Constants"
   ]
  },
  {
   "cell_type": "markdown",
   "metadata": {},
   "source": [
    "A constant is a type of variable whose value cannot be changed later.<br>\n",
    "In Python, constants are usually declared and assigned on a module. Here, the module means a new file containing variables, functions etc which is imported to main file. Inside the module, constants are written in all capital letters and underscores separating the words. For example:"
   ]
  },
  {
   "cell_type": "code",
   "execution_count": null,
   "metadata": {},
   "outputs": [],
   "source": [
    "# Create a constant.py\n",
    "PI = 3.14\n",
    "GRAVITY = 9.8"
   ]
  },
  {
   "cell_type": "markdown",
   "metadata": {},
   "source": [
    "<a href=\"https://stackoverflow.com/questions/49264194/import-py-file-in-another-directory-in-jupyter-notebook#answer-49264448\">How to import py file in another directory in Jupyter notebook</a>\n",
    "```python\n",
    "import sys  \n",
    "sys.path.insert(0, '/path/to/application/app/folder')\n",
    "```"
   ]
  },
  {
   "cell_type": "code",
   "execution_count": null,
   "metadata": {},
   "outputs": [],
   "source": [
    "# Create a main.py\n",
    "import sys  \n",
    "sys.path.insert(0, '/SupportingFiles/')\n",
    "\n",
    "import constant\n",
    "\n",
    "print(constant.PI)\n",
    "print(constant.GRAVITY)"
   ]
  },
  {
   "cell_type": "markdown",
   "metadata": {},
   "source": [
    "In the above program, we create a constant.py module file. Then, we assign the constant value to PI and GRAVITY. After that, we create a main.py file and import the constant module. Finally, we print the constant value.\n",
    "\n",
    "<span class=\"note\"><b>Note :</b> In reality, we don't use constants in Python. The globals or constants module is used throughout the Python programs.</span>"
   ]
  }
 ],
 "metadata": {
  "kernelspec": {
   "display_name": "Python 3",
   "language": "python",
   "name": "python3"
  },
  "language_info": {
   "codemirror_mode": {
    "name": "ipython",
    "version": 3
   },
   "file_extension": ".py",
   "mimetype": "text/x-python",
   "name": "python",
   "nbconvert_exporter": "python",
   "pygments_lexer": "ipython3",
   "version": "3.7.4"
  }
 },
 "nbformat": 4,
 "nbformat_minor": 2
}
