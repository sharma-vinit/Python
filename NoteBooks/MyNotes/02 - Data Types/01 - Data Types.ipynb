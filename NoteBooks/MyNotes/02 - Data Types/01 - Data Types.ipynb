{
 "cells": [
  {
   "cell_type": "code",
   "execution_count": 1,
   "metadata": {},
   "outputs": [
    {
     "data": {
      "text/html": [
       "<script>\n",
       "code_show=true; \n",
       "function code_toggle() {\n",
       "    if (code_show){\n",
       "        $('div.cell.code_cell.rendered.selected div.input').hide();\n",
       "    } else {\n",
       "        $('div.cell.code_cell.rendered.selected div.input').show();\n",
       "    }\n",
       "    code_show = !code_show\n",
       "} \n",
       "$( document ).ready(code_toggle);\n",
       "</script>\n",
       "<style>\n",
       "    @import url('https://fonts.googleapis.com/css?family=Raleway&display=swap');\n",
       "    \n",
       "    div.text_cell_render h1 { /* Main titles bigger, centered */\n",
       "        font-size: 2.2em;\n",
       "        line-height:1.4em;\n",
       "        text-align:center;\n",
       "        color: #00090d;\n",
       "    }\n",
       "    div.text_cell_render h2 { /*  Parts names nearer from text */\n",
       "        font-size: 1.8em;\n",
       "        color:#f2f2f2;;\n",
       "        border-radius: 3px;\n",
       "        background: #2b916a;\n",
       "        padding: 15px;\n",
       "        width: 99%;\n",
       "        height: 2em;\n",
       "    }\n",
       "    div.text_cell_render h3 { /*  Parts names nearer from text */\n",
       "        font-size: 1.5em;\n",
       "        color:#f2f2f2;\n",
       "        background: #1eb4a6;\n",
       "        border-radius: 3px;\n",
       "        padding: 15px;\n",
       "        width: 99%;\n",
       "        height: 2em;\n",
       "    }\n",
       "    div.text_cell_render h4 { /*  Parts names nearer from text */\n",
       "        font-size: 1.2em; \n",
       "        font-style: normal;\n",
       "        color:#f2f2f2;\n",
       "        border-radius: 3px;\n",
       "        background: #008874;\n",
       "        padding: 5px;\n",
       "        display: inline-block;\n",
       "    }\n",
       "    div.text_cell_render h5 { /*  Parts names nearer from text */\n",
       "        font-size: 1em;\n",
       "        font-style: normal;\n",
       "        color:#f2f2f2;;\n",
       "        border-radius: 3px;\n",
       "        background: #0070b8;\n",
       "        padding: 5px;\n",
       "        display: inline-block;\n",
       "    }\n",
       "    div.text_cell_render h6 { /*  Parts names nearer from text */\n",
       "        font-size: 1em;\n",
       "        color: #0082a3;\n",
       "        font-style: normal;\n",
       "    }\n",
       "    \n",
       "    /* Customize text cells */\n",
       "    div.text_cell_render { \n",
       "        font-family: 'Raleway', sans-serif;\n",
       "        text-align: justify;\n",
       "    }    \n",
       "    \n",
       "    p,li,span {\n",
       "        color:#0f0f0f;\n",
       "        text-align: justify;\n",
       "    }\n",
       "       \n",
       "    .text_cell_render,.rendered_html {\n",
       "        font-style: normal;\n",
       "        text-align: justify;\n",
       "    }\n",
       "    \n",
       "    .link_background {\n",
       "        color: #f2f2f2;\n",
       "    }\n",
       "\n",
       "    .box {\n",
       "      border-radius: 3px;\n",
       "      border: 2px solid #60b985;\n",
       "      padding: 20px;\n",
       "      width: 99%;\n",
       "      height: 2em;\n",
       "    }\n",
       "\n",
       "    .key {\n",
       "        color: #b31919;\n",
       "        text-decoration: underline;\n",
       "    }\n",
       "    .highlight{\n",
       "        color:#b31919;\n",
       "        font-weight: bold;\n",
       "    }\n",
       "    .note{\n",
       "        background-color: #d9f3d8;\n",
       "    }\n",
       "    \n",
       "    .custom_table {\n",
       "        width: auto;\n",
       "        border-collapse:collapse;\n",
       "        border-spacing:0;\n",
       "        border-color:#4d9bcd;\n",
       "        font-size: 1.2em;\n",
       "    }\n",
       "    .custom_table td{\n",
       "        padding:10px 5px;\n",
       "        border-style:solid;\n",
       "        border-width:1px;\n",
       "        overflow:hidden;\n",
       "        word-break:normal;\n",
       "        border-color:#4d9bcd;\n",
       "    }\n",
       "    .custom_table th{\n",
       "        padding:3px 3px;\n",
       "        border-style:solid;\n",
       "        border-width:1px;\n",
       "        overflow:hidden;\n",
       "        word-break:normal;\n",
       "        border-color:#bbb;\n",
       "        color:#f2f2f2;\n",
       "        background-color:#4d9bcd;\n",
       "    }\n",
       "\n",
       "    .custom_table .table-head{\n",
       "        font-weight:bold;\n",
       "        text-align:justify;\n",
       "        vertical-align:middle\n",
       "    }\n",
       "    .custom_table .table_row{\n",
       "        text-align:justify;\n",
       "        font-size: 0.9em;\n",
       "        vertical-align:top\n",
       "    }\n",
       "    .custom_table .table_row_first{\n",
       "        font-family: 'consolas';\n",
       "        font-weight:bold;\n",
       "        text-align:justify;\n",
       "        vertical-align:top\n",
       "    }\n",
       "    .custom_table .table_row_last{\n",
       "        width: 120px;\n",
       "        font-weight:bold;\n",
       "        text-align:justify;\n",
       "        vertical-align:top\n",
       "    }\n",
       "    @media screen and (max-width: 900px) {\n",
       "        .custom_table {width: auto !important;}\n",
       "        .custom_table col {width: auto !important;}\n",
       "        .custom_table-wrap {overflow-x: auto;-webkit-overflow-scrolling: touch;}\n",
       "    }\n",
       "    \n",
       "</style>\n",
       "To show/hide this cell's raw code input, click <a href=\"javascript:code_toggle()\">here</a>."
      ],
      "text/plain": [
       "<IPython.core.display.HTML object>"
      ]
     },
     "metadata": {},
     "output_type": "display_data"
    }
   ],
   "source": [
    "from IPython.display import HTML\n",
    "from IPython.display import display\n",
    "\n",
    "# Taken from https://stackoverflow.com/questions/31517194/how-to-hide-one-specific-cell-input-or-output-in-ipython-notebook\n",
    "tag = HTML('''<script>\n",
    "code_show=true; \n",
    "function code_toggle() {\n",
    "    if (code_show){\n",
    "        $('div.cell.code_cell.rendered.selected div.input').hide();\n",
    "    } else {\n",
    "        $('div.cell.code_cell.rendered.selected div.input').show();\n",
    "    }\n",
    "    code_show = !code_show\n",
    "} \n",
    "$( document ).ready(code_toggle);\n",
    "</script>\n",
    "<style>\n",
    "    @import url('https://fonts.googleapis.com/css?family=Raleway&display=swap');\n",
    "    \n",
    "    div.text_cell_render h1 { /* Main titles bigger, centered */\n",
    "        font-size: 2.2em;\n",
    "        line-height:1.4em;\n",
    "        text-align:center;\n",
    "        color: #00090d;\n",
    "    }\n",
    "    div.text_cell_render h2 { /*  Parts names nearer from text */\n",
    "        font-size: 1.8em;\n",
    "        color:#f2f2f2;;\n",
    "        border-radius: 3px;\n",
    "        background: #2b916a;\n",
    "        padding: 15px;\n",
    "        width: 99%;\n",
    "        height: 2em;\n",
    "    }\n",
    "    div.text_cell_render h3 { /*  Parts names nearer from text */\n",
    "        font-size: 1.5em;\n",
    "        color:#f2f2f2;\n",
    "        background: #1eb4a6;\n",
    "        border-radius: 3px;\n",
    "        padding: 15px;\n",
    "        width: 99%;\n",
    "        height: 2em;\n",
    "    }\n",
    "    div.text_cell_render h4 { /*  Parts names nearer from text */\n",
    "        font-size: 1.2em; \n",
    "        font-style: normal;\n",
    "        color:#f2f2f2;\n",
    "        border-radius: 3px;\n",
    "        background: #008874;\n",
    "        padding: 5px;\n",
    "        display: inline-block;\n",
    "    }\n",
    "    div.text_cell_render h5 { /*  Parts names nearer from text */\n",
    "        font-size: 1em;\n",
    "        font-style: normal;\n",
    "        color:#f2f2f2;;\n",
    "        border-radius: 3px;\n",
    "        background: #0070b8;\n",
    "        padding: 5px;\n",
    "        display: inline-block;\n",
    "    }\n",
    "    div.text_cell_render h6 { /*  Parts names nearer from text */\n",
    "        font-size: 1em;\n",
    "        color: #0082a3;\n",
    "        font-style: normal;\n",
    "    }\n",
    "    \n",
    "    /* Customize text cells */\n",
    "    div.text_cell_render { \n",
    "        font-family: 'Raleway', sans-serif;\n",
    "        text-align: justify;\n",
    "    }    \n",
    "    \n",
    "    p,li,span {\n",
    "        color:#0f0f0f;\n",
    "        text-align: justify;\n",
    "    }\n",
    "       \n",
    "    .text_cell_render,.rendered_html {\n",
    "        font-style: normal;\n",
    "        text-align: justify;\n",
    "    }\n",
    "    \n",
    "    .link_background {\n",
    "        color: #f2f2f2;\n",
    "    }\n",
    "\n",
    "    .box {\n",
    "      border-radius: 3px;\n",
    "      border: 2px solid #60b985;\n",
    "      padding: 20px;\n",
    "      width: 99%;\n",
    "      height: 2em;\n",
    "    }\n",
    "\n",
    "    .key {\n",
    "        color: #b31919;\n",
    "        text-decoration: underline;\n",
    "    }\n",
    "    .highlight{\n",
    "        color:#b31919;\n",
    "        font-weight: bold;\n",
    "    }\n",
    "    .note{\n",
    "        background-color: #d9f3d8;\n",
    "    }\n",
    "    \n",
    "    .custom_table {\n",
    "        width: auto;\n",
    "        border-collapse:collapse;\n",
    "        border-spacing:0;\n",
    "        border-color:#4d9bcd;\n",
    "        font-size: 1.2em;\n",
    "    }\n",
    "    .custom_table td{\n",
    "        padding:10px 5px;\n",
    "        border-style:solid;\n",
    "        border-width:1px;\n",
    "        overflow:hidden;\n",
    "        word-break:normal;\n",
    "        border-color:#4d9bcd;\n",
    "    }\n",
    "    .custom_table th{\n",
    "        padding:3px 3px;\n",
    "        border-style:solid;\n",
    "        border-width:1px;\n",
    "        overflow:hidden;\n",
    "        word-break:normal;\n",
    "        border-color:#bbb;\n",
    "        color:#f2f2f2;\n",
    "        background-color:#4d9bcd;\n",
    "    }\n",
    "\n",
    "    .custom_table .table-head{\n",
    "        font-weight:bold;\n",
    "        text-align:justify;\n",
    "        vertical-align:middle\n",
    "    }\n",
    "    .custom_table .table_row{\n",
    "        text-align:justify;\n",
    "        font-size: 0.9em;\n",
    "        vertical-align:top\n",
    "    }\n",
    "    .custom_table .table_row_first{\n",
    "        font-family: 'consolas';\n",
    "        font-weight:bold;\n",
    "        text-align:justify;\n",
    "        vertical-align:top\n",
    "    }\n",
    "    .custom_table .table_row_last{\n",
    "        width: 120px;\n",
    "        font-weight:bold;\n",
    "        text-align:justify;\n",
    "        vertical-align:top\n",
    "    }\n",
    "    @media screen and (max-width: 900px) {\n",
    "        .custom_table {width: auto !important;}\n",
    "        .custom_table col {width: auto !important;}\n",
    "        .custom_table-wrap {overflow-x: auto;-webkit-overflow-scrolling: touch;}\n",
    "    }\n",
    "    \n",
    "</style>\n",
    "To show/hide this cell's raw code input, click <a href=\"javascript:code_toggle()\">here</a>.''')\n",
    "display(tag)\n",
    "\n",
    "############### Write code below ##################"
   ]
  },
  {
   "cell_type": "markdown",
   "metadata": {},
   "source": [
    "## Table Of Contents\n",
    "\n",
    "\n",
    "<ol>\n",
    "  <li type=\"1\"><a href='#Definitions'>Definitions</a>\n",
    "      <ol>\n",
    "        <li type=\"a\"><a href='#Object-level-trace'>Object-level trace</a></li>\n",
    "        <li type=\"a\"><a href='#Objects'>Objects</a>\n",
    "            <ol>\n",
    "                <li type=\"i\"><a href='#Object-references'>Object references</a></li>\n",
    "                <li type=\"i\"><a href='#Object:-Memory-of-C-structure-with-common-header'>Memory of C structure with common header</a></li>\n",
    "            </ol>\n",
    "        </li>\n",
    "      </ol>\n",
    "  </li>\n",
    "  <li type=\"1\"><a href='#Pyhton-Literals'>Pyhton Literals</a>\n",
    "    <ol>\n",
    "        <li type=\"a\"><a href='#Numeric-Literals'>Numeric Literals</a></li>\n",
    "        <li type=\"a\"><a href='#Boolean-literals'>Boolean literals</a></li>\n",
    "        <li type=\"a\"><a href='#String-literals'>String literals</a>\n",
    "            <ol><li type=\"i\"><a href='#Character-literals'>Character literals</a></li></ol>\n",
    "        </li>\n",
    "        <li type=\"a\"><a href='#Special-literals'>Special literals</a></li>\n",
    "        <li type=\"a\"><a href='#Literal-Collections'>Literal Collections</a></li>\n",
    "    </ol>\n",
    "  </li>\n",
    "\n",
    "  <li type=\"1\"><a href='#Mutable-vs-Immutable-Objects-in-Python'>Mutable vs Immutable Objects in Python</a>\n",
    "    <ol>\n",
    "        <li type=\"a\">\n",
    "            <a href='#How-do-we-find-out-if-our-variable-is-a-mutable-or-immutable-object.'>How do we find out if our variable is a mutable or immutable object.</a>\n",
    "            <ol>\n",
    "                <li type=\"i\"><a href='#ID-and-TYPE'>ID and TYPE</a></li>\n",
    "            </ol>\n",
    "        </li>\n",
    "        <li type=\"a\"><a href='#Mutable-and-Immutable-Objects'>Mutable and Immutable Objects</a>\n",
    "            <ol>\n",
    "                <li type=\"i\"><a href='#In-the-case-of-mutable-objects'>In the case of mutable objects</a></li>\n",
    "                <li type=\"i\"><a href='#Python-handles-mutable-and-immutable-objects-differently.'>Python handles mutable and immutable objects differently.</a></li>\n",
    "                <li type=\"i\"><a href='#Exceptions-in-immutability'>Exceptions in immutability</a></li>\n",
    "                <li type=\"i\"><a href='#How-objects-are-passed-to-Functions-?'>How objects are passed to Functions ?</a></li>\n",
    "            </ol>\n",
    "        </li>\n",
    "    </ol>\n",
    "  </li>\n",
    "</ol>"
   ]
  },
  {
   "cell_type": "markdown",
   "metadata": {},
   "source": [
    "A data type is a set of values and a set of operations defined on those values. Many data types are built into the Python language. In this section, we consider Python's built-in data types."
   ]
  },
  {
   "cell_type": "markdown",
   "metadata": {},
   "source": [
    "### Definitions"
   ]
  },
  {
   "cell_type": "markdown",
   "metadata": {},
   "source": [
    "To talk about data types, we need to introduce some terminology. To do so, we start with the following code fragment:"
   ]
  },
  {
   "cell_type": "code",
   "execution_count": null,
   "metadata": {},
   "outputs": [],
   "source": [
    "a = 1234\n",
    "b = 99\n",
    "c = a + b"
   ]
  },
  {
   "cell_type": "markdown",
   "metadata": {},
   "source": [
    "This code creates three objects, each of type <code>int</code>, using the literals <code>1234</code> and <code>99</code> and the expression <code>a + b</code>, and binds variables <code>a</code>, <code>b</code>, and <code>c</code> to those objects using assignment statements. The end result is that variable <code>c</code> is bound to an object of type <code>int</code> whose value is <code>1333</code>."
   ]
  },
  {
   "cell_type": "markdown",
   "metadata": {},
   "source": [
    "#### Object-level trace\n",
    "For a more complete understanding, we sometimes keep track of objects and references in traces. The object-level trace at right illustrates the full effect of our three assignment statements."
   ]
  },
  {
   "cell_type": "markdown",
   "metadata": {},
   "source": [
    "<img src=\"https://introcs.cs.princeton.edu/python/12types/images/Trace.png\">\n",
    "<img src=\"https://introcs.cs.princeton.edu/python/12types/images/TraceFormal.png\">"
   ]
  },
  {
   "cell_type": "markdown",
   "metadata": {},
   "source": [
    "#### Objects"
   ]
  },
  {
   "cell_type": "markdown",
   "metadata": {},
   "source": [
    "All data values in a Python program are represented by <i>objects</i> and relationships among objects. An object is an in-computer-memory representation of a value from a particular data type. Each object is characterized by its <span class=\"highlight\">identity</span>, <span class=\"highlight\">type</span>, and <span class=\"highlight\">value</span>.\n",
    "1. The <span class=\"highlight\">identity</span> uniquely identifies an object. You should think of it as the location in the computer's memory (or memory address) where the object is stored.\n",
    "1. The <span class=\"highlight\">type</span> of an object completely specifies its behavior — the set of values it might represent and the set of operations that can be performed on it.\n",
    "1. The <span class=\"highlight\">value</span> of an object is the data-type value that it represents.\n",
    "\n",
    "Each object stores one value; We can apply to an object any of the operations defined by its type (and only those operations). "
   ]
  },
  {
   "cell_type": "markdown",
   "metadata": {},
   "source": [
    "Refer: <a href=\"https://www.slideshare.net/introom/intro-pythonobjectprotocol\">Python-Object-Protocol</a>"
   ]
  },
  {
   "cell_type": "markdown",
   "metadata": {},
   "source": [
    "##### Object references\n",
    "An <i>object reference</i> is nothing more than a concrete representation of the object's identity (the memory address where the object is stored). Python programs use object references either to access the object's value or to manipulate the object references themselves."
   ]
  },
  {
   "cell_type": "markdown",
   "metadata": {},
   "source": [
    "<div class=\"alert alert-success alertsuccess\" style=\"margin-top: 20px; color: #00090d;\">\n",
    "    The default Python implementation, <span class=\"highlight\">CPython</span>, is actually written in the C programming language. It’s important to note that there are implementations other than CPython. \n",
    "    <ul>\n",
    "        <li><span class=\"highlight\">IronPython</span> compiles down to run on Microsoft’s Common Language Runtime.</li>\n",
    "            <li><span class=\"highlight\">Jython</span> compiles down to Java bytecode to run on the Java Virtual Machine.</li>\n",
    "            <li>Then there’s <span class=\"highlight\">PyPy</span> which is an alternative implementation of the Python programming language to CPython. PyPy often runs faster than CPython because PyPy is a just-in-time compiler while CPython is an interpreter. Most Python code runs well on PyPy except for code that depends on CPython extensions, which either doesn't work or incurs some overhead when run in PyPy. Internally, PyPy uses a technique known as meta-tracing, which transforms an interpreter into a tracing just-in-time compiler. Since interpreters are usually easier to write than compilers, but run slower, this technique can make it easier to produce efficient implementations of programming languages. PyPy's meta-tracing toolchain is called <span class=\"highlight\">RPython</span>.</li>\n",
    "    </ul>\n",
    "</div>"
   ]
  },
  {
   "cell_type": "markdown",
   "metadata": {},
   "source": [
    "CPython is written in C, which does not natively support object-oriented programming. Because of that, there are quite a bit of interesting designs in the CPython code."
   ]
  },
  {
   "cell_type": "markdown",
   "metadata": {},
   "source": [
    "Now we know that everything in Python is an object, even types such as <code>int</code> and <code>str</code>. Well, it’s true on an implementation level in CPython. There is a <code>struct</code> called a <code>PyObject</code>, which every other object in CPython uses."
   ]
  },
  {
   "cell_type": "markdown",
   "metadata": {},
   "source": [
    "<span class=\"note\"><b>Note:</b> A <code>struct</code>, or <code>structure</code>, in C is a custom data type that groups together different data types. To compare to object-oriented languages, it’s like a class with attributes and no methods.</span><br>\n",
    "Reference: <a href=\"http://www.pybloggers.com/2018/11/memory-management-in-python/\">Memory Management in Python</a>"
   ]
  },
  {
   "cell_type": "markdown",
   "metadata": {},
   "source": [
    "The <code>PyObject</code>, the grand-daddy of all objects in Python, contains only two things:\n",
    "1. <code>ob_refcnt</code>: reference count\n",
    "1. <code>ob_type</code>: pointer to another type\n",
    "\n",
    "<span class=\"note\">The reference count is used for garbage collection. Then you have a pointer to the actual object type. That object type is just another struct that describes a Python object (such as a dict or int).</span>\n",
    "\n",
    "Each object has its own object-specific memory allocator that knows how to get the memory to store that object. Each object also has an object-specific memory deallocator that “frees” the memory once it’s no longer needed."
   ]
  },
  {
   "cell_type": "markdown",
   "metadata": {},
   "source": [
    "##### Object: Memory of C structure with common header"
   ]
  },
  {
   "cell_type": "markdown",
   "metadata": {},
   "source": [
    "<img src=\"../resources/images/object.png\">"
   ]
  },
  {
   "cell_type": "markdown",
   "metadata": {},
   "source": [
    "<img src=\"../resources/images/ob_type.png\">"
   ]
  },
  {
   "cell_type": "markdown",
   "metadata": {},
   "source": [
    "### Pyhton Literals"
   ]
  },
  {
   "cell_type": "markdown",
   "metadata": {},
   "source": [
    "Literal is a raw data given in a variable or constant. In Python, there are various types of literals they are as follows:"
   ]
  },
  {
   "cell_type": "markdown",
   "metadata": {},
   "source": [
    "#### Numeric Literals\n",
    "<span class=\"note\">Numeric Literals are immutable (unchangeable).</span> Numeric literals can belong to 3 different numerical types \n",
    "1. Integer, \n",
    "1. Float, and \n",
    "1. Complex."
   ]
  },
  {
   "cell_type": "markdown",
   "metadata": {},
   "source": [
    "<img src=\"../resources/images/Integers.png\">"
   ]
  },
  {
   "cell_type": "code",
   "execution_count": 3,
   "metadata": {},
   "outputs": [
    {
     "name": "stdout",
     "output_type": "stream",
     "text": [
      "inf\n"
     ]
    }
   ],
   "source": [
    "# Number 1.8 * 10^308 or greater will print 'inf' \n",
    "print(1.82e308)"
   ]
  },
  {
   "cell_type": "markdown",
   "metadata": {},
   "source": [
    "#### Boolean literals\n",
    "A Boolean literal can have any of the two values: <code>True</code> or <code>False</code>.<br>\n",
    "<p>We can cast boolean objects to other data types. If we cast a boolean with a value of <code>True</code> to an integer or float we will get a one. If we cast a boolean with a value of <code>False</code> to an integer or float we will get a zero. Similarly, if we cast a 1 to a Boolean, you get a <code>True</code>. And if we cast a 0 to a Boolean we will get a <code>False</code>."
   ]
  },
  {
   "cell_type": "markdown",
   "metadata": {},
   "source": [
    "#### String literals\n",
    "<span class=\"note\">A string literal is a sequence of characters surrounded by quotes and are are immutable</span>. We can use both single, double or triple quotes for a string. \n",
    "\n",
    "##### Character literals\n",
    "A character literal is a single character surrounded by single or double quotes."
   ]
  },
  {
   "cell_type": "markdown",
   "metadata": {},
   "source": [
    "#### Special literals\n",
    "Python contains one special literal i.e. <code>None</code>. We use it to specify to that field that is not created."
   ]
  },
  {
   "cell_type": "markdown",
   "metadata": {},
   "source": [
    "#### Literal Collections\n",
    "There are four different literal collections <code>List</code> literals, <code>Tuple</code> literals, <code>Dict</code> literals, and <code>Set</code> literals."
   ]
  },
  {
   "cell_type": "markdown",
   "metadata": {},
   "source": [
    "### Mutable vs Immutable Objects in Python"
   ]
  },
  {
   "cell_type": "markdown",
   "metadata": {},
   "source": [
    "Since everything in Python is an Object, every variable holds an object instance. <span class=\"note\">When an object is initiated, it is assigned a unique object id. Its type is defined at runtime and once set can never change, however its state can be changed if it is mutable.</span>"
   ]
  },
  {
   "cell_type": "markdown",
   "metadata": {},
   "source": [
    "Objects of built-in types like (<code>int</code>, <code>float</code>, <code>bool</code>, <code>str</code>, <code>tuple</code>, <code>unicode</code>) are <span class=\"note\">immutable</span>. <br>\n",
    "Objects of built-in types like (<code>list</code>, <code>set</code>, <code>dict</code>) are <span class=\"note\">mutable</span>. <br>\n",
    "<span class=\"note\">Custom classes are generally mutable.</span> <br>\n",
    "<br>\n",
    "To simulate immutability in a class, one should override attribute setting and deletion to raise exceptions."
   ]
  },
  {
   "cell_type": "markdown",
   "metadata": {},
   "source": [
    "<div class=\"custom_table-wrap\">\n",
    "\t<table class=\"custom_table\" style=\"font-size: 1.2em;\">\n",
    "\t  <tr>\n",
    "\t\t<th class=\"table-head\">Class</th>\n",
    "\t\t<th class=\"table-head\">Description</th>\n",
    "\t\t<th class=\"table-head\">Immutable ?</th>\n",
    "\t  </tr>\n",
    "\t  <tr>\n",
    "\t\t<td class=\"table_row_first\">bool<br></td>\n",
    "          <td class=\"table_row\">Data with one of two built-in values <code>True</code> or <code>False</code></td>\n",
    "\t\t<td class=\"table_row_last\">&#x2714;</td>\n",
    "\t  </tr>\n",
    "\t  <tr>\n",
    "\t\t<td class=\"table_row_first\">int</td>\n",
    "\t\t<td class=\"table_row\">Integer: Positive or negative whole numbers (without a fractional part)</td>\n",
    "\t\t<td class=\"table_row_last\">&#x2714;</td>\n",
    "\t  </tr>\n",
    "\t  <tr>\n",
    "\t\t<td class=\"table_row_first\">float</td>\n",
    "\t\t<td class=\"table_row\">Any real number with a floating point representation in which a fractional component is denoted by a decimal symbol or scientific notation</td>\n",
    "\t\t<td class=\"table_row_last\">&#x2714;</td>\n",
    "\t  </tr>\n",
    "\t  <tr>\n",
    "\t\t<td class=\"table_row_first\">complex</td>\n",
    "\t\t<td class=\"table_row\">A number with a real and imaginary component represented as <code>x+yj</code>. <code>x</code> and <code>y</code> are floats and <code>j</code> is <code>-1</code>.<br>Square root of <code>-1</code> (<span style=\"font-size: 1.2em; font-weight:bold;\">√<span style=\"border-top:1px solid; padding:0 0.1em;\">−1</span></span>) called an imaginary number.</td>\n",
    "\t\t<td class=\"table_row_last\">&#x2714;</td>\n",
    "\t  </tr>\n",
    "\t  <tr>\n",
    "\t\t<td class=\"table_row_first\">list</td>\n",
    "\t\t<td class=\"table_row\">A list object is an ordered collection of one or more data items, not necessarily of the same type, put in square brackets.</td>\n",
    "\t\t<td class=\"table_row_last\"></td>\n",
    "\t  </tr>\n",
    "\t  <tr>\n",
    "\t\t<td class=\"table_row_first\">tuple</td>\n",
    "\t\t<td class=\"table_row\">A Tuple object is an ordered collection of one or more data items, not necessarily of the same type, put in parentheses.</td>\n",
    "\t\t<td class=\"table_row_last\">&#x2714;</td>\n",
    "\t  </tr>\n",
    "\t  <tr>\n",
    "\t\t<td class=\"table_row_first\">str</td>\n",
    "\t\t<td class=\"table_row\">A string value is a collection of one or more characters put in single, double or triple quotes.</td>\n",
    "\t\t<td class=\"table_row_last\">&#x2714;</td>\n",
    "\t  </tr>\n",
    "\t  <tr>\n",
    "\t\t<td class=\"table_row_first\">set</td>\n",
    "\t\t<td class=\"table_row\">A set is a collection which is unordered and unindexed. In Python sets are written with curly brackets.</td>\n",
    "\t\t<td class=\"table_row_last\"></td>\n",
    "\t  </tr>\n",
    "\t  <tr>\n",
    "\t\t<td class=\"table_row_first\">frozenset</td>\n",
    "\t\t<td class=\"table_row\">It is same as <code>set</code> except its elements are immutable. This function takes input as any iterable object and converts them into immutable object. The order of element is not guaranteed to be preserved.</td>\n",
    "\t\t<td class=\"table_row_last\">&#x2714;</td>\n",
    "\t  </tr>\n",
    "\t  <tr>\n",
    "\t\t<td class=\"table_row_first\">dict</td>\n",
    "\t\t<td class=\"table_row\">A dictionary object is an unordered collection of data in a <span style=\"font-weight:bold;\">key : value</span> pair form. A collection of such pairs is enclosed in curly brackets.</td>\n",
    "\t\t<td class=\"table_row_last\"></td>\n",
    "\t  </tr>\n",
    "\t</table>\n",
    "</div>"
   ]
  },
  {
   "cell_type": "markdown",
   "metadata": {},
   "source": [
    "#### How do we find out if our variable is a mutable or immutable object. \n",
    "For this we should understand what <code>‘ID’</code> and <code>‘TYPE’</code> functions are for."
   ]
  },
  {
   "cell_type": "markdown",
   "metadata": {},
   "source": [
    "##### ID and TYPE"
   ]
  },
  {
   "cell_type": "markdown",
   "metadata": {},
   "source": [
    "The built-in function <code>id()</code> returns the identity of an object as an integer. This integer usually corresponds to the object’s location in memory, although this is specific to the Python implementation and the platform being used."
   ]
  },
  {
   "cell_type": "code",
   "execution_count": null,
   "metadata": {},
   "outputs": [],
   "source": [
    "CythonIs = \"Python\"\n",
    "JythonIs = \"Python\"\n",
    "current_version = 3.7\n",
    "stable_version = 3.7\n",
    "\n",
    "'''print IDs'''\n",
    "print(id(CythonIs))\n",
    "print(id(JythonIs))\n",
    "\n",
    "print(id(current_version))\n",
    "print(id(stable_version))"
   ]
  },
  {
   "cell_type": "markdown",
   "metadata": {},
   "source": [
    "The <code>is</code> operator compares the identity of two objects."
   ]
  },
  {
   "cell_type": "code",
   "execution_count": null,
   "metadata": {},
   "outputs": [],
   "source": [
    "'''comparing the types'''\n",
    "print(CythonIs is JythonIs)\n",
    "print(current_version is stable_version)"
   ]
  },
  {
   "cell_type": "markdown",
   "metadata": {},
   "source": [
    "The built-in function <code>type()</code> returns the type of an object. "
   ]
  },
  {
   "cell_type": "code",
   "execution_count": null,
   "metadata": {},
   "outputs": [],
   "source": [
    "'''print Data Type'''\n",
    "print(type(CythonIs))\n",
    "print(type(current_version))"
   ]
  },
  {
   "cell_type": "markdown",
   "metadata": {},
   "source": [
    "##### Learn More here\n",
    "\n",
    "<img src='../resources/images/info_red.png' width='32px;' height='32px;' style='float:left;'><span style='margin-left:10px;'><a href='http://www.informit.com/articles/article.aspx?p=453682'>Types and Objects in Python <img src='../resources/images/outside.png' width='28px;' height='28px;' style='float:right;margin-right:600px;'></a></span>\n",
    "<hr>"
   ]
  },
  {
   "cell_type": "markdown",
   "metadata": {},
   "source": [
    "#### Mutable and Immutable Objects\n",
    "\n",
    "So as we discussed earlier, a mutable object can change its state or contents and immutable objects cannot."
   ]
  },
  {
   "cell_type": "markdown",
   "metadata": {},
   "source": [
    "A practical example to find out the mutability of object types."
   ]
  },
  {
   "cell_type": "code",
   "execution_count": null,
   "metadata": {},
   "outputs": [],
   "source": [
    "x = 10\n",
    "y = x"
   ]
  },
  {
   "cell_type": "markdown",
   "metadata": {},
   "source": [
    "We are creating an object of type <code>int</code>. identifiers <code>x</code> and <code>y</code> points to the same object."
   ]
  },
  {
   "cell_type": "code",
   "execution_count": null,
   "metadata": {},
   "outputs": [],
   "source": [
    "print(id(x) == id(y))\n",
    "print(id(y) == id(10))"
   ]
  },
  {
   "cell_type": "markdown",
   "metadata": {},
   "source": [
    "if we do a simple operation."
   ]
  },
  {
   "cell_type": "code",
   "execution_count": null,
   "metadata": {},
   "outputs": [],
   "source": [
    "x = x + 1"
   ]
  },
  {
   "cell_type": "markdown",
   "metadata": {},
   "source": [
    "Now,"
   ]
  },
  {
   "cell_type": "code",
   "execution_count": null,
   "metadata": {},
   "outputs": [],
   "source": [
    "print(id(x) != id(y))\n",
    "print(id(x) != id(10))"
   ]
  },
  {
   "cell_type": "markdown",
   "metadata": {},
   "source": [
    "The object in which <code>x</code> was tagged is changed. object <code>10</code> was never modified. \n",
    "<div class=\"alert alert-success alertsuccess\" style=\"margin-top: 20px\">Immutable objects doesn’t allow modification after creation.</div>"
   ]
  },
  {
   "cell_type": "markdown",
   "metadata": {},
   "source": [
    "##### In the case of mutable objects"
   ]
  },
  {
   "cell_type": "code",
   "execution_count": null,
   "metadata": {},
   "outputs": [],
   "source": [
    "m = list([1, 2, 3])\n",
    "n = m"
   ]
  },
  {
   "cell_type": "markdown",
   "metadata": {},
   "source": [
    "We are creating an object of type <code>list</code>. identifiers <code>m</code> and <code>m</code> tagged to the same list object, which is a collection of 3 immutable <code>int</code> objects."
   ]
  },
  {
   "cell_type": "code",
   "execution_count": null,
   "metadata": {},
   "outputs": [],
   "source": [
    "print(id(m))\n",
    "print(id(n))\n",
    "print(id(m) == id(n))"
   ]
  },
  {
   "cell_type": "markdown",
   "metadata": {},
   "source": [
    "Now poping an item from list object does change the object,"
   ]
  },
  {
   "cell_type": "code",
   "execution_count": null,
   "metadata": {},
   "outputs": [],
   "source": [
    "m.pop()"
   ]
  },
  {
   "cell_type": "markdown",
   "metadata": {},
   "source": [
    "object id will not be changed"
   ]
  },
  {
   "cell_type": "code",
   "execution_count": null,
   "metadata": {},
   "outputs": [],
   "source": [
    "print(id(m) == id(n))"
   ]
  },
  {
   "cell_type": "markdown",
   "metadata": {},
   "source": [
    "<code>m</code> and <code>n</code> will be pointing to the same list object after the modification. The list object will now contain <code>[1, 2]</code>."
   ]
  },
  {
   "cell_type": "code",
   "execution_count": null,
   "metadata": {},
   "outputs": [],
   "source": [
    "print(m)"
   ]
  },
  {
   "cell_type": "markdown",
   "metadata": {},
   "source": [
    "<div class=\"alert alert-success alertsuccess\" style=\"margin-top: 20px\">\n",
    "    <h5>Python handles mutable and immutable objects differently.</h5>\n",
    "    <ul>\n",
    "        <li>Immutable are quicker to access than mutable objects.</li>\n",
    "        <li>Mutable objects are great to use when you need to change the size of the object, example list, dict etc.. </li>\n",
    "        <li>Immutables are used when you need to ensure that the object you made will always stay the same.</li>\n",
    "        <li>Immutable objects are fundamentally expensive to “change”, because doing so involves creating a copy. Changing mutable objects is cheap.</li>\n",
    "    </ul>\n",
    "</div>"
   ]
  },
  {
   "cell_type": "markdown",
   "metadata": {},
   "source": [
    "##### Exceptions in immutability"
   ]
  },
  {
   "cell_type": "markdown",
   "metadata": {},
   "source": [
    "Not all of the immutable objects are actually immutable.<br>\n",
    "Python containers liked <code>tuples</code> are immutable. That means value of a <code>tuple</code> can't be changed after it is created. But the \"value\" of a tuple is infact a sequence of names with unchangeable bindings to objects. <span class=\"note\">The key thing to note is that the bindings are unchangeable, not the objects they are bound to.</span>"
   ]
  },
  {
   "cell_type": "markdown",
   "metadata": {},
   "source": [
    "Let us consider a tuple"
   ]
  },
  {
   "cell_type": "code",
   "execution_count": null,
   "metadata": {},
   "outputs": [],
   "source": [
    "t = (\"Hello\", [1, 2, 3])"
   ]
  },
  {
   "cell_type": "markdown",
   "metadata": {},
   "source": [
    "The above tuple <code>t</code> contains elements of different data types, <br>\n",
    "1. the first one is an <span class=\"highlight\">immutable string</span> and \n",
    "1. the second one is a <span class=\"highlight\">mutable list</span>."
   ]
  },
  {
   "cell_type": "markdown",
   "metadata": {},
   "source": [
    "The tuple itself isn’t mutable . i.e. it doesn’t have any methods for changing its contents. Likewise, the string is immutable because strings don’t have any mutating methods. But the list object does have mutating methods, so it can be changed. This is a subtle point, but nonetheless important:<span class=\"note\"> the “value” of an immutable object can’t change, but it’s constituent objects can.</span>"
   ]
  },
  {
   "cell_type": "markdown",
   "metadata": {},
   "source": [
    "##### How objects are passed to Functions ?"
   ]
  },
  {
   "cell_type": "markdown",
   "metadata": {},
   "source": [
    "Its important for us to know difference between mutable and immutable types and how they are treated when passed onto functions .Memory efficiency is highly affected when the proper objects are used.\n",
    "<br>\n",
    "For example<span class=\"note\"> if a mutable object is called by reference in a function, it can change the original variable itself. Hence to avoid this, the original variable needs to be copied to another variable. <i>Immutable objects can be called by reference because its value cannot be changed anyways</i>.</span>"
   ]
  },
  {
   "cell_type": "code",
   "execution_count": null,
   "metadata": {},
   "outputs": [],
   "source": [
    "def updateList(list1):\n",
    "    list1 += [10]\n",
    "\n",
    "n = [5, 6]\n",
    "\n",
    "print(id(n))                  \n",
    "\n",
    "updateList(n)\n",
    "\n",
    "print(n)\n",
    "print(id(n))"
   ]
  },
  {
   "cell_type": "markdown",
   "metadata": {},
   "source": [
    "As we can see from the above example, we have called the list via <b>call by reference</b>, so the changes are made to the original list itself.\n",
    "<br>\n",
    "Lets take a look at another example:"
   ]
  },
  {
   "cell_type": "code",
   "execution_count": null,
   "metadata": {},
   "outputs": [],
   "source": [
    "def updateNumber(n):\n",
    "    print(id(n))\n",
    "    n += 10\n",
    "    b = 5\n",
    "    \n",
    "print(id(b))\n",
    "updateNumber(b)\n",
    "print(b)"
   ]
  },
  {
   "cell_type": "markdown",
   "metadata": {},
   "source": [
    "In the above example the same object is passed to the function, but the variables value doesn’t change even though the object is identical. This is called <b>pass by value</b>. <br>\n",
    "So what is exactly happening here? When the value is called by the function, only the value of the variable is passed, not the object itself. So the variable referencing the object is not changed, but the object itself is being changed but within the function scope only. Hence the change is not reflected."
   ]
  }
 ],
 "metadata": {
  "kernelspec": {
   "display_name": "Python 3",
   "language": "python",
   "name": "python3"
  },
  "language_info": {
   "codemirror_mode": {
    "name": "ipython",
    "version": 3
   },
   "file_extension": ".py",
   "mimetype": "text/x-python",
   "name": "python",
   "nbconvert_exporter": "python",
   "pygments_lexer": "ipython3",
   "version": "3.7.4"
  }
 },
 "nbformat": 4,
 "nbformat_minor": 2
}
