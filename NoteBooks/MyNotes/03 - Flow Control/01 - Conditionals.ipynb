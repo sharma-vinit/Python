{
 "cells": [
  {
   "cell_type": "code",
   "execution_count": 1,
   "metadata": {},
   "outputs": [
    {
     "data": {
      "text/html": [
       "<script>\n",
       "code_show=true; \n",
       "function code_toggle() {\n",
       "    if (code_show){\n",
       "        $('div.cell.code_cell.rendered.selected div.input').hide();\n",
       "    } else {\n",
       "        $('div.cell.code_cell.rendered.selected div.input').show();\n",
       "    }\n",
       "    code_show = !code_show\n",
       "} \n",
       "$( document ).ready(code_toggle);\n",
       "</script>\n",
       "<style>\n",
       "    @import url('https://fonts.googleapis.com/css?family=Raleway&display=swap');\n",
       "    \n",
       "    div.text_cell_render h1 { /* Main titles bigger, centered */\n",
       "        font-size: 2.2em;\n",
       "        line-height:1.4em;\n",
       "        text-align:center;\n",
       "        color: #00090d;\n",
       "    }\n",
       "    div.text_cell_render h2 { /*  Parts names nearer from text */\n",
       "        font-size: 1.8em;\n",
       "        color:#f2f2f2;;\n",
       "        border-radius: 3px;\n",
       "        background: #2b916a;\n",
       "        padding: 15px;\n",
       "        width: 99%;\n",
       "        height: 2em;\n",
       "    }\n",
       "    div.text_cell_render h3 { /*  Parts names nearer from text */\n",
       "        font-size: 1.5em;\n",
       "        color:#f2f2f2;\n",
       "        background: #1eb4a6;\n",
       "        border-radius: 3px;\n",
       "        padding: 15px;\n",
       "        width: 99%;\n",
       "        height: 2em;\n",
       "    }\n",
       "    div.text_cell_render h4 { /*  Parts names nearer from text */\n",
       "        font-size: 1.2em; \n",
       "        font-style: normal;\n",
       "        color:#f2f2f2;\n",
       "        border-radius: 3px;\n",
       "        background: #008874;\n",
       "        padding: 5px;\n",
       "        display: inline-block;\n",
       "    }\n",
       "    div.text_cell_render h5 { /*  Parts names nearer from text */\n",
       "        font-size: 1em;\n",
       "        font-style: normal;\n",
       "        color:#f2f2f2;;\n",
       "        border-radius: 3px;\n",
       "        background: #0070b8;\n",
       "        padding: 5px;\n",
       "        display: inline-block;\n",
       "    }\n",
       "    div.text_cell_render h6 { /*  Parts names nearer from text */\n",
       "        font-size: 1em;\n",
       "        color: #0082a3;\n",
       "        font-style: normal;\n",
       "    }\n",
       "    \n",
       "    /* Customize text cells */\n",
       "    div.text_cell_render { \n",
       "        font-family: 'Raleway', sans-serif;\n",
       "        text-align: justify;\n",
       "    }    \n",
       "    \n",
       "    p,li,span {\n",
       "        color:#0f0f0f;\n",
       "        text-align: justify;\n",
       "    }\n",
       "       \n",
       "    .text_cell_render,.rendered_html {\n",
       "        font-style: normal;\n",
       "        text-align: justify;\n",
       "    }\n",
       "    \n",
       "    .link_background {\n",
       "        color: #f2f2f2;\n",
       "    }\n",
       "\n",
       "    .box {\n",
       "      border-radius: 3px;\n",
       "      border: 2px solid #60b985;\n",
       "      padding: 20px;\n",
       "      width: 99%;\n",
       "      height: 2em;\n",
       "    }\n",
       "\n",
       "    .key {\n",
       "        color: #b31919;\n",
       "        text-decoration: underline;\n",
       "    }\n",
       "    .highlight{\n",
       "        color:#b31919;\n",
       "        font-weight: bold;\n",
       "    }\n",
       "    .note{\n",
       "        background-color: #d9f3d8;\n",
       "    }\n",
       "    \n",
       "    .custom_table {\n",
       "        width: auto;\n",
       "        border-collapse:collapse;\n",
       "        border-spacing:0;\n",
       "        border-color:#4d9bcd;\n",
       "        font-size: 1.2em;\n",
       "    }\n",
       "    .custom_table td{\n",
       "        padding:10px 5px;\n",
       "        border-style:solid;\n",
       "        border-width:1px;\n",
       "        overflow:hidden;\n",
       "        word-break:normal;\n",
       "        border-color:#4d9bcd;\n",
       "    }\n",
       "    .custom_table th{\n",
       "        padding:3px 3px;\n",
       "        border-style:solid;\n",
       "        border-width:1px;\n",
       "        overflow:hidden;\n",
       "        word-break:normal;\n",
       "        border-color:#bbb;\n",
       "        color:#f2f2f2;\n",
       "        background-color:#4d9bcd;\n",
       "    }\n",
       "\n",
       "    .custom_table .table-head{\n",
       "        font-weight:bold;\n",
       "        text-align:justify;\n",
       "        vertical-align:middle\n",
       "    }\n",
       "    .custom_table .table_row{\n",
       "        text-align:justify;\n",
       "        font-size: 0.9em;\n",
       "        vertical-align:top\n",
       "    }\n",
       "    .custom_table .table_row_first{\n",
       "        font-family: 'consolas';\n",
       "        font-weight:bold;\n",
       "        text-align:justify;\n",
       "        vertical-align:top\n",
       "    }\n",
       "    .custom_table .table_row_last{\n",
       "        width: 120px;\n",
       "        font-weight:bold;\n",
       "        text-align:justify;\n",
       "        vertical-align:top\n",
       "    }\n",
       "    @media screen and (max-width: 900px) {\n",
       "        .custom_table {width: auto !important;}\n",
       "        .custom_table col {width: auto !important;}\n",
       "        .custom_table-wrap {overflow-x: auto;-webkit-overflow-scrolling: touch;}\n",
       "    }\n",
       "    \n",
       "</style>\n",
       "To show/hide this cell's raw code input, click <a href=\"javascript:code_toggle()\">here</a>."
      ],
      "text/plain": [
       "<IPython.core.display.HTML object>"
      ]
     },
     "metadata": {},
     "output_type": "display_data"
    }
   ],
   "source": [
    "from IPython.display import HTML\n",
    "from IPython.display import display\n",
    "\n",
    "# Taken from https://stackoverflow.com/questions/31517194/how-to-hide-one-specific-cell-input-or-output-in-ipython-notebook\n",
    "tag = HTML('''<script>\n",
    "code_show=true; \n",
    "function code_toggle() {\n",
    "    if (code_show){\n",
    "        $('div.cell.code_cell.rendered.selected div.input').hide();\n",
    "    } else {\n",
    "        $('div.cell.code_cell.rendered.selected div.input').show();\n",
    "    }\n",
    "    code_show = !code_show\n",
    "} \n",
    "$( document ).ready(code_toggle);\n",
    "</script>\n",
    "<style>\n",
    "    @import url('https://fonts.googleapis.com/css?family=Raleway&display=swap');\n",
    "    \n",
    "    div.text_cell_render h1 { /* Main titles bigger, centered */\n",
    "        font-size: 2.2em;\n",
    "        line-height:1.4em;\n",
    "        text-align:center;\n",
    "        color: #00090d;\n",
    "    }\n",
    "    div.text_cell_render h2 { /*  Parts names nearer from text */\n",
    "        font-size: 1.8em;\n",
    "        color:#f2f2f2;;\n",
    "        border-radius: 3px;\n",
    "        background: #2b916a;\n",
    "        padding: 15px;\n",
    "        width: 99%;\n",
    "        height: 2em;\n",
    "    }\n",
    "    div.text_cell_render h3 { /*  Parts names nearer from text */\n",
    "        font-size: 1.5em;\n",
    "        color:#f2f2f2;\n",
    "        background: #1eb4a6;\n",
    "        border-radius: 3px;\n",
    "        padding: 15px;\n",
    "        width: 99%;\n",
    "        height: 2em;\n",
    "    }\n",
    "    div.text_cell_render h4 { /*  Parts names nearer from text */\n",
    "        font-size: 1.2em; \n",
    "        font-style: normal;\n",
    "        color:#f2f2f2;\n",
    "        border-radius: 3px;\n",
    "        background: #008874;\n",
    "        padding: 5px;\n",
    "        display: inline-block;\n",
    "    }\n",
    "    div.text_cell_render h5 { /*  Parts names nearer from text */\n",
    "        font-size: 1em;\n",
    "        font-style: normal;\n",
    "        color:#f2f2f2;;\n",
    "        border-radius: 3px;\n",
    "        background: #0070b8;\n",
    "        padding: 5px;\n",
    "        display: inline-block;\n",
    "    }\n",
    "    div.text_cell_render h6 { /*  Parts names nearer from text */\n",
    "        font-size: 1em;\n",
    "        color: #0082a3;\n",
    "        font-style: normal;\n",
    "    }\n",
    "    \n",
    "    /* Customize text cells */\n",
    "    div.text_cell_render { \n",
    "        font-family: 'Raleway', sans-serif;\n",
    "        text-align: justify;\n",
    "    }    \n",
    "    \n",
    "    p,li,span {\n",
    "        color:#0f0f0f;\n",
    "        text-align: justify;\n",
    "    }\n",
    "       \n",
    "    .text_cell_render,.rendered_html {\n",
    "        font-style: normal;\n",
    "        text-align: justify;\n",
    "    }\n",
    "    \n",
    "    .link_background {\n",
    "        color: #f2f2f2;\n",
    "    }\n",
    "\n",
    "    .box {\n",
    "      border-radius: 3px;\n",
    "      border: 2px solid #60b985;\n",
    "      padding: 20px;\n",
    "      width: 99%;\n",
    "      height: 2em;\n",
    "    }\n",
    "\n",
    "    .key {\n",
    "        color: #b31919;\n",
    "        text-decoration: underline;\n",
    "    }\n",
    "    .highlight{\n",
    "        color:#b31919;\n",
    "        font-weight: bold;\n",
    "    }\n",
    "    .note{\n",
    "        background-color: #d9f3d8;\n",
    "    }\n",
    "    \n",
    "    .custom_table {\n",
    "        width: auto;\n",
    "        border-collapse:collapse;\n",
    "        border-spacing:0;\n",
    "        border-color:#4d9bcd;\n",
    "        font-size: 1.2em;\n",
    "    }\n",
    "    .custom_table td{\n",
    "        padding:10px 5px;\n",
    "        border-style:solid;\n",
    "        border-width:1px;\n",
    "        overflow:hidden;\n",
    "        word-break:normal;\n",
    "        border-color:#4d9bcd;\n",
    "    }\n",
    "    .custom_table th{\n",
    "        padding:3px 3px;\n",
    "        border-style:solid;\n",
    "        border-width:1px;\n",
    "        overflow:hidden;\n",
    "        word-break:normal;\n",
    "        border-color:#bbb;\n",
    "        color:#f2f2f2;\n",
    "        background-color:#4d9bcd;\n",
    "    }\n",
    "\n",
    "    .custom_table .table-head{\n",
    "        font-weight:bold;\n",
    "        text-align:justify;\n",
    "        vertical-align:middle\n",
    "    }\n",
    "    .custom_table .table_row{\n",
    "        text-align:justify;\n",
    "        font-size: 0.9em;\n",
    "        vertical-align:top\n",
    "    }\n",
    "    .custom_table .table_row_first{\n",
    "        font-family: 'consolas';\n",
    "        font-weight:bold;\n",
    "        text-align:justify;\n",
    "        vertical-align:top\n",
    "    }\n",
    "    .custom_table .table_row_last{\n",
    "        width: 120px;\n",
    "        font-weight:bold;\n",
    "        text-align:justify;\n",
    "        vertical-align:top\n",
    "    }\n",
    "    @media screen and (max-width: 900px) {\n",
    "        .custom_table {width: auto !important;}\n",
    "        .custom_table col {width: auto !important;}\n",
    "        .custom_table-wrap {overflow-x: auto;-webkit-overflow-scrolling: touch;}\n",
    "    }\n",
    "    \n",
    "</style>\n",
    "To show/hide this cell's raw code input, click <a href=\"javascript:code_toggle()\">here</a>.''')\n",
    "display(tag)\n",
    "\n",
    "############### Write code below ##################"
   ]
  },
  {
   "cell_type": "markdown",
   "metadata": {},
   "source": [
    "# Conditions in Python"
   ]
  },
  {
   "cell_type": "markdown",
   "metadata": {},
   "source": [
    "## Table Of Contents\n",
    "\n",
    "\n",
    "<ol>\n",
    "  <li type=\"1\"><a href='#History'>History</a>\n",
    "      <ol>\n",
    "        <li type=\"a\"><a href='#Development-Steps-of-Python'>Development Steps of Python</a>\n",
    "            <ol>\n",
    "                <li type=\"i\"><a href='#Some-changes-in-Python-3.0'>Changes in Python 3.0</a></li>\n",
    "            </ol>\n",
    "        </li>\n",
    "      </ol>\n",
    "  </li>\n",
    "</ol>"
   ]
  },
  {
   "cell_type": "markdown",
   "metadata": {},
   "source": [
    "## Condition Statements"
   ]
  },
  {
   "cell_type": "markdown",
   "metadata": {},
   "source": [
    "### Comparison Operators"
   ]
  },
  {
   "cell_type": "markdown",
   "metadata": {},
   "source": [
    "Comparison operations compare some value or operand and, based on a condition, they produce a Boolean. When comparing two values you can use these operators:\n",
    "\n",
    "<ul>\n",
    "    <li>equal: <b>==</b></li>\n",
    "    <li>not equal: <b>!=</b></li>\n",
    "    <li>greater than: <b>></b></li>\n",
    "    <li>less than: <b>&lt;</b></li>\n",
    "    <li>greater than or equal to: <b>>=</b></li>\n",
    "    <li>less than or equal to: <b>&lt;=</b></li>\n",
    "</ul>"
   ]
  },
  {
   "cell_type": "markdown",
   "metadata": {},
   "source": [
    "Let's assign <code>a</code> a value of 5. Use the equality operator denoted with two equal <b>==</b> signs to determine if two values are equal. The case below compares the variable <code>a</code> with 6."
   ]
  },
  {
   "cell_type": "code",
   "execution_count": null,
   "metadata": {},
   "outputs": [],
   "source": [
    "# Condition Equal\n",
    "\n",
    "a = 5\n",
    "a == 6"
   ]
  },
  {
   "cell_type": "markdown",
   "metadata": {},
   "source": [
    "The result is <b>False</b>, as 5 does not equal to 6."
   ]
  },
  {
   "cell_type": "markdown",
   "metadata": {},
   "source": [
    "Consider the following equality comparison operator <code>i > 5</code>. If the value of the left operand, in this case the variable <b>i</b>, is greater than the value of the right operand, in this case 5, then the statement is <b>True</b>. Otherwise, the statement is <b>False</b>.  If <b>i</b> is equal to 6, because 6 is larger than 5, the output is <b>True</b>."
   ]
  },
  {
   "cell_type": "code",
   "execution_count": null,
   "metadata": {},
   "outputs": [],
   "source": [
    "# Greater than Sign\n",
    "\n",
    "i = 6\n",
    "i > 5"
   ]
  },
  {
   "cell_type": "markdown",
   "metadata": {},
   "source": [
    "Set <code>i = 2</code>. The statement is false as 2 is not greater than 5:"
   ]
  },
  {
   "cell_type": "code",
   "execution_count": null,
   "metadata": {},
   "outputs": [],
   "source": [
    "# Greater than Sign\n",
    "\n",
    "i = 2\n",
    "i > 5"
   ]
  },
  {
   "cell_type": "markdown",
   "metadata": {},
   "source": [
    "The inequality test uses an exclamation mark preceding the equal sign, if two operands are not equal then the condition becomes **True**.  For example, the following condition will produce **True** as long as the value of <code>i</code> is not equal to 6:"
   ]
  },
  {
   "cell_type": "code",
   "execution_count": null,
   "metadata": {},
   "outputs": [],
   "source": [
    "# Inequality Sign\n",
    "\n",
    "i = 2\n",
    "i != 6"
   ]
  },
  {
   "cell_type": "markdown",
   "metadata": {},
   "source": [
    "When <code>i</code> equals 6 the inequality expression produces <b>False</b>. "
   ]
  },
  {
   "cell_type": "code",
   "execution_count": null,
   "metadata": {},
   "outputs": [],
   "source": [
    "# Inequality Sign\n",
    "\n",
    "i = 6\n",
    "i != 6"
   ]
  },
  {
   "cell_type": "markdown",
   "metadata": {},
   "source": [
    "We can apply the same methods on strings. For example, use an equality operator on two different strings. As the strings are not equal, we get a **False**."
   ]
  },
  {
   "cell_type": "code",
   "execution_count": null,
   "metadata": {},
   "outputs": [],
   "source": [
    "# Use Equality sign to compare the strings\n",
    "\n",
    "\"ACDC\" == \"Michael Jackson\""
   ]
  },
  {
   "cell_type": "markdown",
   "metadata": {},
   "source": [
    " If we use the inequality operator, the output is going to be **True** as the strings are not equal."
   ]
  },
  {
   "cell_type": "code",
   "execution_count": null,
   "metadata": {},
   "outputs": [],
   "source": [
    "# Use Inequality sign to compare the strings\n",
    "\n",
    "\"ACDC\" != \"Michael Jackson\""
   ]
  },
  {
   "cell_type": "markdown",
   "metadata": {},
   "source": [
    "Inequality operation is also used to compare the letters/words/symbols according to the ASCII value of letters. The decimal value shown in the following table represents the order of the character:\n",
    "For example, the ASCII code for <b>!</b> is 21, while the ASCII code for <b>+</b> is 43. Therefore <b>+</b> is larger than <b>!</b> as 43 is greater than 21.\n",
    "\n",
    "Similarly, the value for <b>A</b> is 101, and the value for <b>B</b> is 102 therefore:"
   ]
  },
  {
   "cell_type": "code",
   "execution_count": null,
   "metadata": {},
   "outputs": [],
   "source": [
    "# Compare characters\n",
    "\n",
    "'B' > 'A'"
   ]
  },
  {
   "cell_type": "markdown",
   "metadata": {},
   "source": [
    " When there are multiple letters, the first letter takes precedence in ordering:"
   ]
  },
  {
   "cell_type": "code",
   "execution_count": null,
   "metadata": {},
   "outputs": [],
   "source": [
    "# Compare characters\n",
    "\n",
    "'BA' > 'AB'"
   ]
  },
  {
   "cell_type": "markdown",
   "metadata": {},
   "source": [
    "<b>Note</b>: Upper Case Letters have different ASCII code than Lower Case Letters, which means the comparison between the letters in python is case-sensitive."
   ]
  },
  {
   "cell_type": "markdown",
   "metadata": {},
   "source": [
    "### Logical operators"
   ]
  },
  {
   "cell_type": "markdown",
   "metadata": {},
   "source": [
    "Sometimes you want to check more than one condition at once. For example, you might want to check if one condition and another condition is **True**. Logical operators allow you to combine or modify conditions.\n",
    "<ul>\n",
    "    <li><code>and</code></li>\n",
    "    <li><code>or</code></li>\n",
    "    <li><code>not</code></li>\n",
    "</ul>\n",
    "\n",
    "These operators are summarized for two variables using the following truth tables:  "
   ]
  },
  {
   "cell_type": "markdown",
   "metadata": {},
   "source": [
    "<img src='../../resources/images/truth-table-01.png' width='60%;' height='60%;'>"
   ]
  },
  {
   "cell_type": "markdown",
   "metadata": {},
   "source": [
    "## Conditionals"
   ]
  },
  {
   "cell_type": "markdown",
   "metadata": {},
   "source": [
    "A conditional is a construct that allows you to branch your code based on conditions being met (or not)"
   ]
  },
  {
   "cell_type": "markdown",
   "metadata": {},
   "source": [
    "This is achieved using <b><code>if</code></b>, <b><code>elif</code></b> and <b><code>else</code></b> or the **ternary operator** (aka conditional expression)"
   ]
  },
  {
   "cell_type": "code",
   "execution_count": null,
   "metadata": {},
   "outputs": [],
   "source": [
    "a = 2\n",
    "if a < 3:\n",
    "    print('a < 3')\n",
    "else:\n",
    "    print('a >= 3')"
   ]
  },
  {
   "cell_type": "markdown",
   "metadata": {},
   "source": [
    "<b><code>if</code></b> statements can be nested:"
   ]
  },
  {
   "cell_type": "code",
   "execution_count": null,
   "metadata": {},
   "outputs": [],
   "source": [
    "a = 15\n",
    "\n",
    "if a < 5:\n",
    "    print('a < 5')\n",
    "else:\n",
    "    if a < 10:\n",
    "        print('5 <= a < 10')\n",
    "    else:\n",
    "        print('a >= 10')"
   ]
  },
  {
   "cell_type": "markdown",
   "metadata": {},
   "source": [
    "But the <b><code>elif</code></b> statement provides far better readability:"
   ]
  },
  {
   "cell_type": "code",
   "execution_count": null,
   "metadata": {},
   "outputs": [],
   "source": [
    "a = 15\n",
    "if a < 5:\n",
    "    print('a < 5')\n",
    "elif a < 10:\n",
    "    print('5 <= a < 10')\n",
    "else:\n",
    "    print('a >= 10')"
   ]
  },
  {
   "cell_type": "markdown",
   "metadata": {},
   "source": [
    "In Python, <b><code>elif</code></b>is the closest you'll find to the switch/case statement available in some other languages."
   ]
  },
  {
   "cell_type": "markdown",
   "metadata": {},
   "source": [
    "Python also provides a conditional expression (ternary operator):\n",
    "\n",
    "X if (condition) else Y\n",
    "\n",
    "returns (and evaluates) X if (condition) is True, otherwise returns (and evaluates) Y"
   ]
  },
  {
   "cell_type": "code",
   "execution_count": null,
   "metadata": {},
   "outputs": [],
   "source": [
    "a = 5\n",
    "res = 'a < 10' if a < 10 else 'a >= 10'\n",
    "print(res)"
   ]
  },
  {
   "cell_type": "code",
   "execution_count": null,
   "metadata": {},
   "outputs": [],
   "source": [
    "a = 15\n",
    "res = 'a < 10' if a < 10 else 'a >= 10'\n",
    "print(res)"
   ]
  },
  {
   "cell_type": "markdown",
   "metadata": {},
   "source": [
    "Note that **X** and **Y** can be any expression, not just literal values:"
   ]
  },
  {
   "cell_type": "code",
   "execution_count": null,
   "metadata": {},
   "outputs": [],
   "source": [
    "def say_hello():\n",
    "    print('Hello!')\n",
    "    \n",
    "def say_goodbye():\n",
    "    print('Goodbye!')"
   ]
  },
  {
   "cell_type": "code",
   "execution_count": null,
   "metadata": {},
   "outputs": [],
   "source": [
    "a = 5\n",
    "say_hello() if a < 10 else say_goodbye()"
   ]
  },
  {
   "cell_type": "code",
   "execution_count": null,
   "metadata": {},
   "outputs": [],
   "source": [
    "a = 15\n",
    "say_hello() if a < 10 else say_goodbye()"
   ]
  }
 ],
 "metadata": {
  "kernelspec": {
   "display_name": "Python 3",
   "language": "python",
   "name": "python3"
  },
  "language_info": {
   "codemirror_mode": {
    "name": "ipython",
    "version": 3
   },
   "file_extension": ".py",
   "mimetype": "text/x-python",
   "name": "python",
   "nbconvert_exporter": "python",
   "pygments_lexer": "ipython3",
   "version": "3.7.4"
  }
 },
 "nbformat": 4,
 "nbformat_minor": 2
}
