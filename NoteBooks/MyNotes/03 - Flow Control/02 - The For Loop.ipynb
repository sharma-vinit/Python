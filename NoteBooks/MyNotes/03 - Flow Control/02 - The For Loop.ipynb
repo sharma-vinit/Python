{
 "cells": [
  {
   "cell_type": "code",
   "execution_count": 1,
   "metadata": {},
   "outputs": [
    {
     "data": {
      "text/html": [
       "<script>\n",
       "code_show=true; \n",
       "function code_toggle() {\n",
       "    if (code_show){\n",
       "        $('div.cell.code_cell.rendered.selected div.input').hide();\n",
       "    } else {\n",
       "        $('div.cell.code_cell.rendered.selected div.input').show();\n",
       "    }\n",
       "    code_show = !code_show\n",
       "} \n",
       "$( document ).ready(code_toggle);\n",
       "</script>\n",
       "<style>\n",
       "    @import url('https://fonts.googleapis.com/css?family=Raleway&display=swap');\n",
       "    \n",
       "    div.text_cell_render h1 { /* Main titles bigger, centered */\n",
       "        font-size: 2.2em;\n",
       "        line-height:1.4em;\n",
       "        text-align:center;\n",
       "        color: #00090d;\n",
       "    }\n",
       "    div.text_cell_render h2 { /*  Parts names nearer from text */\n",
       "        font-size: 1.8em;\n",
       "        color:#f2f2f2;;\n",
       "        border-radius: 3px;\n",
       "        background: #2b916a;\n",
       "        padding: 15px;\n",
       "        width: 99%;\n",
       "        height: 2em;\n",
       "    }\n",
       "    div.text_cell_render h3 { /*  Parts names nearer from text */\n",
       "        font-size: 1.5em;\n",
       "        color:#f2f2f2;\n",
       "        background: #1eb4a6;\n",
       "        border-radius: 3px;\n",
       "        padding: 15px;\n",
       "        width: 99%;\n",
       "        height: 2em;\n",
       "    }\n",
       "    div.text_cell_render h4 { /*  Parts names nearer from text */\n",
       "        font-size: 1.2em; \n",
       "        font-style: normal;\n",
       "        color:#f2f2f2;\n",
       "        border-radius: 3px;\n",
       "        background: #008874;\n",
       "        padding: 5px;\n",
       "        display: inline-block;\n",
       "    }\n",
       "    div.text_cell_render h5 { /*  Parts names nearer from text */\n",
       "        font-size: 1em;\n",
       "        font-style: normal;\n",
       "        color:#f2f2f2;;\n",
       "        border-radius: 3px;\n",
       "        background: #0070b8;\n",
       "        padding: 5px;\n",
       "        display: inline-block;\n",
       "    }\n",
       "    div.text_cell_render h6 { /*  Parts names nearer from text */\n",
       "        font-size: 1em;\n",
       "        color: #0082a3;\n",
       "        font-style: normal;\n",
       "    }\n",
       "    \n",
       "    /* Customize text cells */\n",
       "    div.text_cell_render { \n",
       "        font-family: 'Raleway', sans-serif;\n",
       "        text-align: justify;\n",
       "    }    \n",
       "    \n",
       "    p,li,span {\n",
       "        color:#0f0f0f;\n",
       "        text-align: justify;\n",
       "    }\n",
       "       \n",
       "    .text_cell_render,.rendered_html {\n",
       "        font-style: normal;\n",
       "        text-align: justify;\n",
       "    }\n",
       "    \n",
       "    .link_background {\n",
       "        color: #f2f2f2;\n",
       "    }\n",
       "\n",
       "    .box {\n",
       "      border-radius: 3px;\n",
       "      border: 2px solid #60b985;\n",
       "      padding: 20px;\n",
       "      width: 99%;\n",
       "      height: 2em;\n",
       "    }\n",
       "\n",
       "    .key {\n",
       "        color: #b31919;\n",
       "        text-decoration: underline;\n",
       "    }\n",
       "    .highlight{\n",
       "        color:#b31919;\n",
       "        font-weight: bold;\n",
       "    }\n",
       "    .note{\n",
       "        background-color: #d9f3d8;\n",
       "    }\n",
       "    \n",
       "    .custom_table {\n",
       "        width: auto;\n",
       "        border-collapse:collapse;\n",
       "        border-spacing:0;\n",
       "        border-color:#4d9bcd;\n",
       "        font-size: 1.2em;\n",
       "    }\n",
       "    .custom_table td{\n",
       "        padding:10px 5px;\n",
       "        border-style:solid;\n",
       "        border-width:1px;\n",
       "        overflow:hidden;\n",
       "        word-break:normal;\n",
       "        border-color:#4d9bcd;\n",
       "    }\n",
       "    .custom_table th{\n",
       "        padding:3px 3px;\n",
       "        border-style:solid;\n",
       "        border-width:1px;\n",
       "        overflow:hidden;\n",
       "        word-break:normal;\n",
       "        border-color:#bbb;\n",
       "        color:#f2f2f2;\n",
       "        background-color:#4d9bcd;\n",
       "    }\n",
       "\n",
       "    .custom_table .table-head{\n",
       "        font-weight:bold;\n",
       "        text-align:justify;\n",
       "        vertical-align:middle\n",
       "    }\n",
       "    .custom_table .table_row{\n",
       "        text-align:justify;\n",
       "        font-size: 0.9em;\n",
       "        vertical-align:top\n",
       "    }\n",
       "    .custom_table .table_row_first{\n",
       "        font-family: 'consolas';\n",
       "        font-weight:bold;\n",
       "        text-align:justify;\n",
       "        vertical-align:top\n",
       "    }\n",
       "    .custom_table .table_row_last{\n",
       "        width: 120px;\n",
       "        font-weight:bold;\n",
       "        text-align:justify;\n",
       "        vertical-align:top\n",
       "    }\n",
       "    @media screen and (max-width: 900px) {\n",
       "        .custom_table {width: auto !important;}\n",
       "        .custom_table col {width: auto !important;}\n",
       "        .custom_table-wrap {overflow-x: auto;-webkit-overflow-scrolling: touch;}\n",
       "    }\n",
       "    \n",
       "</style>\n",
       "To show/hide this cell's raw code input, click <a href=\"javascript:code_toggle()\">here</a>."
      ],
      "text/plain": [
       "<IPython.core.display.HTML object>"
      ]
     },
     "metadata": {},
     "output_type": "display_data"
    }
   ],
   "source": [
    "from IPython.display import HTML\n",
    "from IPython.display import display\n",
    "\n",
    "# Taken from https://stackoverflow.com/questions/31517194/how-to-hide-one-specific-cell-input-or-output-in-ipython-notebook\n",
    "tag = HTML('''<script>\n",
    "code_show=true; \n",
    "function code_toggle() {\n",
    "    if (code_show){\n",
    "        $('div.cell.code_cell.rendered.selected div.input').hide();\n",
    "    } else {\n",
    "        $('div.cell.code_cell.rendered.selected div.input').show();\n",
    "    }\n",
    "    code_show = !code_show\n",
    "} \n",
    "$( document ).ready(code_toggle);\n",
    "</script>\n",
    "<style>\n",
    "    @import url('https://fonts.googleapis.com/css?family=Raleway&display=swap');\n",
    "    \n",
    "    div.text_cell_render h1 { /* Main titles bigger, centered */\n",
    "        font-size: 2.2em;\n",
    "        line-height:1.4em;\n",
    "        text-align:center;\n",
    "        color: #00090d;\n",
    "    }\n",
    "    div.text_cell_render h2 { /*  Parts names nearer from text */\n",
    "        font-size: 1.8em;\n",
    "        color:#f2f2f2;;\n",
    "        border-radius: 3px;\n",
    "        background: #2b916a;\n",
    "        padding: 15px;\n",
    "        width: 99%;\n",
    "        height: 2em;\n",
    "    }\n",
    "    div.text_cell_render h3 { /*  Parts names nearer from text */\n",
    "        font-size: 1.5em;\n",
    "        color:#f2f2f2;\n",
    "        background: #1eb4a6;\n",
    "        border-radius: 3px;\n",
    "        padding: 15px;\n",
    "        width: 99%;\n",
    "        height: 2em;\n",
    "    }\n",
    "    div.text_cell_render h4 { /*  Parts names nearer from text */\n",
    "        font-size: 1.2em; \n",
    "        font-style: normal;\n",
    "        color:#f2f2f2;\n",
    "        border-radius: 3px;\n",
    "        background: #008874;\n",
    "        padding: 5px;\n",
    "        display: inline-block;\n",
    "    }\n",
    "    div.text_cell_render h5 { /*  Parts names nearer from text */\n",
    "        font-size: 1em;\n",
    "        font-style: normal;\n",
    "        color:#f2f2f2;;\n",
    "        border-radius: 3px;\n",
    "        background: #0070b8;\n",
    "        padding: 5px;\n",
    "        display: inline-block;\n",
    "    }\n",
    "    div.text_cell_render h6 { /*  Parts names nearer from text */\n",
    "        font-size: 1em;\n",
    "        color: #0082a3;\n",
    "        font-style: normal;\n",
    "    }\n",
    "    \n",
    "    /* Customize text cells */\n",
    "    div.text_cell_render { \n",
    "        font-family: 'Raleway', sans-serif;\n",
    "        text-align: justify;\n",
    "    }    \n",
    "    \n",
    "    p,li,span {\n",
    "        color:#0f0f0f;\n",
    "        text-align: justify;\n",
    "    }\n",
    "       \n",
    "    .text_cell_render,.rendered_html {\n",
    "        font-style: normal;\n",
    "        text-align: justify;\n",
    "    }\n",
    "    \n",
    "    .link_background {\n",
    "        color: #f2f2f2;\n",
    "    }\n",
    "\n",
    "    .box {\n",
    "      border-radius: 3px;\n",
    "      border: 2px solid #60b985;\n",
    "      padding: 20px;\n",
    "      width: 99%;\n",
    "      height: 2em;\n",
    "    }\n",
    "\n",
    "    .key {\n",
    "        color: #b31919;\n",
    "        text-decoration: underline;\n",
    "    }\n",
    "    .highlight{\n",
    "        color:#b31919;\n",
    "        font-weight: bold;\n",
    "    }\n",
    "    .note{\n",
    "        background-color: #d9f3d8;\n",
    "    }\n",
    "    \n",
    "    .custom_table {\n",
    "        width: auto;\n",
    "        border-collapse:collapse;\n",
    "        border-spacing:0;\n",
    "        border-color:#4d9bcd;\n",
    "        font-size: 1.2em;\n",
    "    }\n",
    "    .custom_table td{\n",
    "        padding:10px 5px;\n",
    "        border-style:solid;\n",
    "        border-width:1px;\n",
    "        overflow:hidden;\n",
    "        word-break:normal;\n",
    "        border-color:#4d9bcd;\n",
    "    }\n",
    "    .custom_table th{\n",
    "        padding:3px 3px;\n",
    "        border-style:solid;\n",
    "        border-width:1px;\n",
    "        overflow:hidden;\n",
    "        word-break:normal;\n",
    "        border-color:#bbb;\n",
    "        color:#f2f2f2;\n",
    "        background-color:#4d9bcd;\n",
    "    }\n",
    "\n",
    "    .custom_table .table-head{\n",
    "        font-weight:bold;\n",
    "        text-align:justify;\n",
    "        vertical-align:middle\n",
    "    }\n",
    "    .custom_table .table_row{\n",
    "        text-align:justify;\n",
    "        font-size: 0.9em;\n",
    "        vertical-align:top\n",
    "    }\n",
    "    .custom_table .table_row_first{\n",
    "        font-family: 'consolas';\n",
    "        font-weight:bold;\n",
    "        text-align:justify;\n",
    "        vertical-align:top\n",
    "    }\n",
    "    .custom_table .table_row_last{\n",
    "        width: 120px;\n",
    "        font-weight:bold;\n",
    "        text-align:justify;\n",
    "        vertical-align:top\n",
    "    }\n",
    "    @media screen and (max-width: 900px) {\n",
    "        .custom_table {width: auto !important;}\n",
    "        .custom_table col {width: auto !important;}\n",
    "        .custom_table-wrap {overflow-x: auto;-webkit-overflow-scrolling: touch;}\n",
    "    }\n",
    "    \n",
    "</style>\n",
    "To show/hide this cell's raw code input, click <a href=\"javascript:code_toggle()\">here</a>.''')\n",
    "display(tag)\n",
    "\n",
    "############### Write code below ##################"
   ]
  },
  {
   "cell_type": "markdown",
   "metadata": {},
   "source": [
    "# The For Loop"
   ]
  },
  {
   "cell_type": "markdown",
   "metadata": {},
   "source": [
    "## Table Of Contents\n",
    "\n",
    "\n",
    "<ol>\n",
    "  <li type=\"1\"><a href='#Definitions'>Definitions</a>\n",
    "      <ol>\n",
    "        <li type=\"a\"><a href='#Object-level-trace'>Object-level trace</a></li>\n",
    "        <li type=\"a\"><a href='#Objects'>Objects</a>\n",
    "            <ol>\n",
    "                <li type=\"i\"><a href='#Object-references'>Object references</a></li>\n",
    "                <li type=\"i\"><a href='#Object:-Memory-of-C-structure-with-common-header'>Memory of C structure with common header</a></li>\n",
    "            </ol>\n",
    "        </li>\n",
    "      </ol>\n",
    "  </li>\n",
    "</ol>"
   ]
  },
  {
   "cell_type": "markdown",
   "metadata": {},
   "source": [
    "Sometimes, you might want to repeat a given operation many times. Repeated executions like this are performed by <b>loops</b>. We will look at two types of loops, <code>for</code> loops and <code>while</code> loops."
   ]
  },
  {
   "cell_type": "markdown",
   "metadata": {},
   "source": [
    "## Range  <code>range()</code>"
   ]
  },
  {
   "cell_type": "markdown",
   "metadata": {},
   "source": [
    "Before we discuss loops lets discuss the <code>range</code> object. It is helpful to think of the range object as an ordered list."
   ]
  },
  {
   "cell_type": "markdown",
   "metadata": {},
   "source": [
    "The <b><code>range()</code></b> Function:<br>\n",
    "If you do need to iterate over a sequence of numbers, the built-in function <code>range()</code> comes in handy."
   ]
  },
  {
   "cell_type": "markdown",
   "metadata": {},
   "source": [
    "<code>range(n)</code> generates <code>n</code> values, the legal indices for items of a sequence of length <code>n</code>.\n",
    "\n",
    "It contains values from <code>0</code> to <code>n-1</code>.\n",
    "\n",
    "<span class=\"note\"> It generates arithmetic progressions and the given end point is never part of the generated sequence. </span>"
   ]
  },
  {
   "cell_type": "markdown",
   "metadata": {},
   "source": [
    "For now, let's look at the simplest case. If we would like to generate a sequence that contains ten elements ordered from 0 to 9 we simply use the following command:"
   ]
  },
  {
   "cell_type": "code",
   "execution_count": null,
   "metadata": {},
   "outputs": [],
   "source": [
    "range(10)"
   ]
  },
  {
   "cell_type": "markdown",
   "metadata": {},
   "source": [
    "## The For Loop"
   ]
  },
  {
   "cell_type": "markdown",
   "metadata": {},
   "source": [
    "In Python, an **iterable** is an **object** capable of returning values one at a time.\n",
    "\n",
    "Many objects in Python are iterable: lists, strings, file objects and many more."
   ]
  },
  {
   "cell_type": "markdown",
   "metadata": {},
   "source": [
    "<div class=\"alert alert-success alertsuccess\" style=\"margin-top: 20px; color: #00090d;\">\n",
    "    <b>Note:</b> Our definition of an iterable did not state it was a collection of values - we only said it is an object that can return values one at a time - that's a subtle difference that we'll examine when we look into iterators and generators.\n",
    "</div>"
   ]
  },
  {
   "cell_type": "markdown",
   "metadata": {},
   "source": [
    "<h3 id=\"for\">What is <code>for</code> loop?</h3>"
   ]
  },
  {
   "cell_type": "markdown",
   "metadata": {},
   "source": [
    "The **<code>for</code>** keyword can be used to iterate an iterable."
   ]
  },
  {
   "cell_type": "markdown",
   "metadata": {},
   "source": [
    "If you come with a background in another programming language, you have probably seen **for** loops defined this way:\n",
    "\n",
    "```Java\n",
    "for (int i=0; i < 5; i++) {\n",
    "    //code block\n",
    "}```"
   ]
  },
  {
   "cell_type": "markdown",
   "metadata": {},
   "source": [
    "To use the **<code>for</code>** loop in Python, we **require** an iterable object to work with. A simple iterable object is generated via the **<code>range()</code>** function."
   ]
  },
  {
   "cell_type": "code",
   "execution_count": null,
   "metadata": {},
   "outputs": [],
   "source": [
    "for i in range(5):\n",
    "    print(i)"
   ]
  },
  {
   "cell_type": "markdown",
   "metadata": {},
   "source": [
    "#### Many objects are iterable in Python:"
   ]
  },
  {
   "cell_type": "code",
   "execution_count": null,
   "metadata": {},
   "outputs": [],
   "source": [
    "# Iterating over a list\n",
    "for x in [1, 2, 3]:\n",
    "    print(x)"
   ]
  },
  {
   "cell_type": "code",
   "execution_count": null,
   "metadata": {},
   "outputs": [],
   "source": [
    "# Iterating over a string\n",
    "for x in 'hello':\n",
    "    print(x)"
   ]
  },
  {
   "cell_type": "code",
   "execution_count": null,
   "metadata": {},
   "outputs": [],
   "source": [
    "# Iterating over a tuple\n",
    "for x in ('a', 'b', 'c'):\n",
    "    print(x)"
   ]
  },
  {
   "cell_type": "markdown",
   "metadata": {},
   "source": [
    "<p id='list_code_ref'>A <code>for</code> loop iterates over elements of a sequence (tuple or list). A variable is created to represent the object in the sequence. For example,</p>"
   ]
  },
  {
   "cell_type": "code",
   "execution_count": null,
   "metadata": {},
   "outputs": [],
   "source": [
    "x = [100,200,300]\n",
    "for i in x:\n",
    "    print (i)   #these parenthesis are needed for the code to get executed in higher versions of Python"
   ]
  },
  {
   "cell_type": "markdown",
   "metadata": {},
   "source": [
    "In the example above, each of the elements in <code>x</code> is assigned to <code>i</code>.<br>"
   ]
  },
  {
   "cell_type": "markdown",
   "metadata": {},
   "source": [
    "<hr>\n",
    "When we iterate over an iterable, each iteration returns the \"next\" value (or object) in the iterable:"
   ]
  },
  {
   "cell_type": "code",
   "execution_count": null,
   "metadata": {},
   "outputs": [],
   "source": [
    "for x in [(1, 2), (3, 4), (5, 6)]:\n",
    "    print(x)"
   ]
  },
  {
   "cell_type": "markdown",
   "metadata": {},
   "source": [
    "We can even assign the individual tuple values to specific named variables:"
   ]
  },
  {
   "cell_type": "code",
   "execution_count": null,
   "metadata": {},
   "outputs": [],
   "source": [
    "for i, j in [(1, 2), (3, 4), (5, 6)]:\n",
    "    print(i, j)"
   ]
  },
  {
   "cell_type": "code",
   "execution_count": null,
   "metadata": {},
   "outputs": [],
   "source": [
    "# A for loop from 0 to 4\n",
    "for i in range(0, 5):\n",
    "    print(i)"
   ]
  },
  {
   "cell_type": "markdown",
   "metadata": {},
   "source": [
    "The next example uses a <span class=\"highlight\">negative</span> <b>step</b> (the third argument for the built-in <code>range</code> function):"
   ]
  },
  {
   "cell_type": "code",
   "execution_count": null,
   "metadata": {},
   "outputs": [],
   "source": [
    "# A for loop from 5 to 1\n",
    "for i in range(5, 0, -1):\n",
    "    print(i)"
   ]
  },
  {
   "cell_type": "code",
   "execution_count": null,
   "metadata": {},
   "outputs": [],
   "source": [
    "# A for loop from 0 to 4, step 2\n",
    "for i in range(0, 5, 2):\n",
    "    print(i)"
   ]
  },
  {
   "cell_type": "markdown",
   "metadata": {},
   "source": [
    "A built-in function called range exists to make creating sequential lists such as the one <a href='#list_code_ref'><b>here</b></a> easier. The loop above is equivalent to: "
   ]
  },
  {
   "cell_type": "code",
   "execution_count": null,
   "metadata": {},
   "outputs": [],
   "source": [
    "l = range(100,301,100)\n",
    "for i in l:\n",
    "    print (i)"
   ]
  },
  {
   "cell_type": "markdown",
   "metadata": {},
   "source": [
    "<b><code>for</code></b> loops can have names for each element of a tuple, if it loops over a sequence of tuples:"
   ]
  },
  {
   "cell_type": "code",
   "execution_count": null,
   "metadata": {},
   "outputs": [],
   "source": [
    "# A for loop with a two-tuple as its iterator\n",
    "tuple_in_list = [(1, 1), (2, 4), (3, 9), (4, 16), (5, 25)]\n",
    "for x, xsquared in tuple_in_list:\n",
    "    print(x, ':', xsquared)"
   ]
  },
  {
   "cell_type": "code",
   "execution_count": null,
   "metadata": {},
   "outputs": [],
   "source": [
    "# A for loop iterating two lists at once.\n",
    "l1 = [1, 2]; l2 = ['a', 'b']\n",
    "for i1, i2 in zip(l1, l2):\n",
    "    print(i1, i2)"
   ]
  },
  {
   "cell_type": "markdown",
   "metadata": {},
   "source": [
    "<hr>"
   ]
  },
  {
   "cell_type": "markdown",
   "metadata": {},
   "source": [
    "The <code>**break**</code> and <code>**continue**</code> statements work well in <code>**for**</code> loops:"
   ]
  },
  {
   "cell_type": "code",
   "execution_count": null,
   "metadata": {},
   "outputs": [],
   "source": [
    "for i in range(5):\n",
    "    if i == 3:\n",
    "        continue\n",
    "    print(i)"
   ]
  },
  {
   "cell_type": "code",
   "execution_count": null,
   "metadata": {},
   "outputs": [],
   "source": [
    "for i in range(5):\n",
    "    if i == 3:\n",
    "        break\n",
    "    print(i)"
   ]
  },
  {
   "cell_type": "markdown",
   "metadata": {},
   "source": [
    "<div class=\"alert alert-success alertsuccess\" style=\"margin-top: 20px; color: #00090d;\">\n",
    "    The <code><b>for</b></code> loop, also supports an <code><b>else</b></code> clause which is executed if and only if the loop terminates normally (i.e. did not exit because of a <code><b>break</b></code> statement)\n",
    "</div>"
   ]
  },
  {
   "cell_type": "code",
   "execution_count": null,
   "metadata": {},
   "outputs": [],
   "source": [
    "for i in range(1, 5):\n",
    "    print(i)\n",
    "    if i % 7 == 0:\n",
    "        print('multiple of 7 found')\n",
    "        break\n",
    "else:\n",
    "    print('No multiples of 7 encountered')"
   ]
  },
  {
   "cell_type": "code",
   "execution_count": null,
   "metadata": {},
   "outputs": [],
   "source": [
    "for i in range(1, 8):\n",
    "    print(i)\n",
    "    if i % 7 == 0:\n",
    "        print('multiple of 7 found')\n",
    "        break\n",
    "else:\n",
    "    print('No multiples of 7 encountered')"
   ]
  },
  {
   "cell_type": "markdown",
   "metadata": {},
   "source": [
    "<div class=\"alert alert-success alertsuccess\" style=\"margin-top: 20px; color: #00090d;\">\n",
    "<b><code>break</code></b> and <b><code>continue</code></b> work just the same in the context of a <b><code>try</code></b> statement's <b><code>finally</code></b> clause.\n",
    "</div>"
   ]
  },
  {
   "cell_type": "code",
   "execution_count": null,
   "metadata": {},
   "outputs": [],
   "source": [
    "for i in range(5):\n",
    "    print('--------------------')\n",
    "    try:\n",
    "        10 / (i - 3)\n",
    "    except ZeroDivisionError:\n",
    "        print('divided by 0')\n",
    "        continue\n",
    "    finally:\n",
    "        print('always runs')\n",
    "    print(i)"
   ]
  },
  {
   "cell_type": "markdown",
   "metadata": {},
   "source": [
    "There are a number of standard techniques to iterate over iterables:"
   ]
  },
  {
   "cell_type": "code",
   "execution_count": null,
   "metadata": {},
   "outputs": [],
   "source": [
    "s = 'hello'\n",
    "for c in s:\n",
    "    print(c)"
   ]
  },
  {
   "cell_type": "code",
   "execution_count": null,
   "metadata": {},
   "outputs": [],
   "source": [
    "s = 'hello'\n",
    "i = 0\n",
    "for c in s:\n",
    "    print(i, c)\n",
    "    i += 1"
   ]
  },
  {
   "cell_type": "markdown",
   "metadata": {},
   "source": [
    "Slightly better approach might be:"
   ]
  },
  {
   "cell_type": "code",
   "execution_count": null,
   "metadata": {},
   "outputs": [],
   "source": [
    "s = 'hello'\n",
    "\n",
    "for i in range(len(s)):\n",
    "    print(i, s[i])"
   ]
  },
  {
   "cell_type": "markdown",
   "metadata": {},
   "source": [
    "or even better:"
   ]
  },
  {
   "cell_type": "code",
   "execution_count": null,
   "metadata": {},
   "outputs": [],
   "source": [
    "s = 'hello'\n",
    "\n",
    "for i, c in enumerate(s):\n",
    "    print(i, c)"
   ]
  },
  {
   "cell_type": "code",
   "execution_count": null,
   "metadata": {},
   "outputs": [],
   "source": [
    "s = 'hello'\n",
    "\n",
    "for i, c in enumerate(s):\n",
    "    print(i, c)"
   ]
  }
 ],
 "metadata": {
  "kernelspec": {
   "display_name": "Python 3",
   "language": "python",
   "name": "python3"
  },
  "language_info": {
   "codemirror_mode": {
    "name": "ipython",
    "version": 3
   },
   "file_extension": ".py",
   "mimetype": "text/x-python",
   "name": "python",
   "nbconvert_exporter": "python",
   "pygments_lexer": "ipython3",
   "version": "3.7.4"
  }
 },
 "nbformat": 4,
 "nbformat_minor": 2
}
