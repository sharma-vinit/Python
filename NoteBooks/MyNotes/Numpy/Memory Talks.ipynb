{
 "cells": [
  {
   "cell_type": "markdown",
   "metadata": {},
   "source": [
    "### Memory related"
   ]
  },
  {
   "cell_type": "code",
   "execution_count": null,
   "metadata": {},
   "outputs": [],
   "source": [
    "import sys\n",
    "sys.getsizeof(0)  # integer"
   ]
  },
  {
   "cell_type": "code",
   "execution_count": null,
   "metadata": {},
   "outputs": [],
   "source": [
    "sys.getsizeof(1)  # integer"
   ]
  },
  {
   "cell_type": "code",
   "execution_count": null,
   "metadata": {},
   "outputs": [],
   "source": [
    "sys.getsizeof([]) # empty list"
   ]
  },
  {
   "cell_type": "code",
   "execution_count": null,
   "metadata": {},
   "outputs": [],
   "source": [
    "sys.getsizeof([1]) # list with one element"
   ]
  },
  {
   "cell_type": "code",
   "execution_count": null,
   "metadata": {},
   "outputs": [],
   "source": [
    "# import numpy library\n",
    "import numpy as np \n",
    "\n",
    "# Create a numpy array\n",
    "numpy_list = np.array([1,2], dtype='int8')\n",
    "\n",
    "print(sys.getsizeof(numpy_list[1]))\n",
    "print(sys.getsizeof(numpy_list))"
   ]
  },
  {
   "cell_type": "code",
   "execution_count": null,
   "metadata": {},
   "outputs": [],
   "source": [
    "sys.getsizeof(np.array([], dtype='int8')) # empty numpy array"
   ]
  },
  {
   "cell_type": "code",
   "execution_count": null,
   "metadata": {},
   "outputs": [],
   "source": [
    "sys.getsizeof(np.array([0], dtype='int8')) # numpy array with one element"
   ]
  },
  {
   "cell_type": "code",
   "execution_count": null,
   "metadata": {},
   "outputs": [],
   "source": [
    "sys.getsizeof(np.array([0], dtype='int16')) # numpy array with one element"
   ]
  },
  {
   "cell_type": "code",
   "execution_count": null,
   "metadata": {},
   "outputs": [],
   "source": [
    "sys.getsizeof(np.array([0], dtype='int32')) # numpy array with one element"
   ]
  },
  {
   "cell_type": "code",
   "execution_count": null,
   "metadata": {},
   "outputs": [],
   "source": [
    "def memory_locations_of(value):\n",
    "    for index, element in enumerate(value):\n",
    "        print(\"{: <15}{}\".format(\"index[\" + str(index) + \"] \", hex(id(element))))\n",
    "        print(\"{: <15}{}\".format(\"size\", sys.getsizeof(element)))\n",
    "        print(\"{: <15}{}\\n\".format(\"type\", type(element)))\n",
    "\n",
    "python_list = [0, 1, 2]\n",
    "print(\"Size of python list:\", sys.getsizeof(python_list))\n",
    "memory_locations_of(python_list)"
   ]
  },
  {
   "cell_type": "code",
   "execution_count": null,
   "metadata": {},
   "outputs": [],
   "source": [
    "# Create a numpy array\n",
    "numpy_list = np.array([0, 1, 2], dtype='int8')\n",
    "print(\"Size of Numpy array:\", sys.getsizeof(numpy_list))\n",
    "memory_locations_of(numpy_list)"
   ]
  },
  {
   "cell_type": "code",
   "execution_count": null,
   "metadata": {},
   "outputs": [],
   "source": [
    "pip install pympler"
   ]
  },
  {
   "cell_type": "code",
   "execution_count": null,
   "metadata": {},
   "outputs": [],
   "source": [
    "import sys\n",
    "from pympler import asizeof\n",
    "\n",
    "print(\"\\nSize metrices of Numpy list:\")\n",
    "print(sys.getsizeof(numpy_list))\n",
    "print(asizeof.asizeof(numpy_list))\n",
    "print(asizeof.asized(numpy_list, detail=1).format())\n",
    "\n",
    "print(\"\\nSize metrices of python list:\")\n",
    "print(sys.getsizeof(python_list))\n",
    "print(asizeof.asizeof(python_list))\n",
    "print(asizeof.asized(python_list, detail=1).format())"
   ]
  },
  {
   "cell_type": "markdown",
   "metadata": {},
   "source": [
    "So we see that ``sys.getsizeof`` reports the object size as ``96``, this is what is referred to as flat in the asized report. The total memory used for this list is ``184`` bytes in total. ``asizeof`` is recursing into the object here."
   ]
  },
  {
   "cell_type": "markdown",
   "metadata": {},
   "source": [
    "https://www.scrygroup.com/tutorial/2018-09-04/find-size-of-python-object/\n",
    "\n",
    "https://code.tutsplus.com/tutorials/understand-how-much-memory-your-python-objects-use--cms-25609\n",
    "\n",
    "https://webcourses.ucf.edu/courses/1249560/pages/python-lists-vs-numpy-arrays-what-is-the-difference\n",
    "\n",
    "https://goshippo.com/blog/measure-real-size-any-python-object/\n",
    "\n",
    "https://stackoverflow.com/questions/449560/how-do-i-determine-the-size-of-an-object-in-python#answer-30316760"
   ]
  }
 ],
 "metadata": {
  "kernelspec": {
   "display_name": "Python 3",
   "language": "python",
   "name": "python3"
  },
  "language_info": {
   "codemirror_mode": {
    "name": "ipython",
    "version": 3
   },
   "file_extension": ".py",
   "mimetype": "text/x-python",
   "name": "python",
   "nbconvert_exporter": "python",
   "pygments_lexer": "ipython3",
   "version": "3.8.1"
  }
 },
 "nbformat": 4,
 "nbformat_minor": 2
}
