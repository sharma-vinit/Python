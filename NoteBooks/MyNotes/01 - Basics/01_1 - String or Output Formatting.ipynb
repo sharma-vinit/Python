{
 "cells": [
  {
   "cell_type": "code",
   "execution_count": 2,
   "metadata": {},
   "outputs": [
    {
     "data": {
      "text/html": [
       "<script>\n",
       "\n",
       "//https://jupyter-notebook.readthedocs.io/en/latest/examples/Notebook/JavaScript%20Notebook%20Extensions.html\n",
       "$('#run_all_cells, #run_all_cells_above, #run_all_cells_below').click(function() {\n",
       "    setTimeout(function() {\n",
       "        // Find running cell and click the first one\n",
       "        if ($('.running').length > 0) {\n",
       "            $('.running')[0].click();\n",
       "        }\n",
       "    }, 250);\n",
       "});\n",
       "\n",
       "code_show=true; \n",
       "function code_toggle() {\n",
       "    if (code_show){\n",
       "        $('div.cell.code_cell.rendered.selected div.input').hide();\n",
       "    } else {\n",
       "        $('div.cell.code_cell.rendered.selected div.input').show();\n",
       "    }\n",
       "    code_show = !code_show\n",
       "} \n",
       "$( document ).ready(code_toggle);\n",
       "\n",
       "</script>\n",
       "<style>\n",
       "    @import url('https://fonts.googleapis.com/css?family=Raleway&display=swap');\n",
       "    \n",
       "    div.text_cell_render h1 { /* Main titles bigger, centered */\n",
       "        font-size: 2.2em;\n",
       "        line-height:1.4em;\n",
       "        text-align:center;\n",
       "        color: #00090d;\n",
       "    }\n",
       "    div.text_cell_render h2 { /*  Parts names nearer from text */\n",
       "        font-size: 1.8em;\n",
       "        color:#f2f2f2;;\n",
       "        border-radius: 3px;\n",
       "        background: #2b916a;\n",
       "        padding: 15px;\n",
       "        width: 99%;\n",
       "        height: 2em;\n",
       "    }\n",
       "    div.text_cell_render h3 { /*  Parts names nearer from text */\n",
       "        font-size: 1.5em;\n",
       "        color:#f2f2f2;\n",
       "        background: #1eb4a6;\n",
       "        border-radius: 3px;\n",
       "        padding: 15px;\n",
       "        width: 99%;\n",
       "        height: 2em;\n",
       "    }\n",
       "    div.text_cell_render h4 { /*  Parts names nearer from text */\n",
       "        font-size: 1.2em; \n",
       "        font-style: normal;\n",
       "        color:#f2f2f2;;\n",
       "        border-radius: 3px;\n",
       "        background: #008874;\n",
       "        padding: 5px;\n",
       "        display: inline-block;\n",
       "    }\n",
       "    div.text_cell_render h5 { /*  Parts names nearer from text */\n",
       "        font-size: 1em;\n",
       "        font-style: normal;\n",
       "        color:#f2f2f2;;\n",
       "        border-radius: 3px;\n",
       "        background: #0070b8;\n",
       "        padding: 5px;\n",
       "        display: inline-block;\n",
       "    }\n",
       "    div.text_cell_render h6 { /*  Parts names nearer from text */\n",
       "        font-size: 1em;\n",
       "        color: #0082a3;\n",
       "        font-style: normal;\n",
       "    }\n",
       "    \n",
       "    /* Customize text cells */\n",
       "    div.text_cell_render { \n",
       "        font-family: 'Raleway', sans-serif;\n",
       "        text-align: justify;\n",
       "    }    \n",
       "    \n",
       "    p,li,span {\n",
       "        color:#0f0f0f;\n",
       "        text-align: justify;\n",
       "    }\n",
       "       \n",
       "    .text_cell_render,.rendered_html {\n",
       "        font-style: normal;\n",
       "        text-align: justify;\n",
       "    }\n",
       "    \n",
       "    .link_background {\n",
       "        color: #f2f2f2;\n",
       "    }\n",
       "\n",
       "    .box {\n",
       "      border-radius: 3px;\n",
       "      border: 2px solid #60b985;\n",
       "      padding: 20px;\n",
       "      width: 99%;\n",
       "      height: 2em;\n",
       "    }\n",
       "\n",
       "    .key {\n",
       "        color: #b31919;\n",
       "        text-decoration: underline;\n",
       "    }\n",
       "    .highlight{\n",
       "        color:#b31919;\n",
       "        font-weight: bold;\n",
       "    }\n",
       "    .note{\n",
       "        background-color: #d9f3d8;\n",
       "    }\n",
       "    \n",
       "    .grow{\n",
       "        font-size: 2em;\n",
       "        font-weight: bold;\n",
       "        color: #b31919;\n",
       "    }\n",
       "</style>\n",
       "To show/hide this cell's raw code input, click <a href=\"javascript:code_toggle()\">here</a>."
      ],
      "text/plain": [
       "<IPython.core.display.HTML object>"
      ]
     },
     "metadata": {},
     "output_type": "display_data"
    }
   ],
   "source": [
    "from IPython.display import HTML\n",
    "from IPython.display import display\n",
    "\n",
    "# Taken from https://stackoverflow.com/questions/31517194/how-to-hide-one-specific-cell-input-or-output-in-ipython-notebook\n",
    "tag = HTML('''<script>\n",
    "\n",
    "//https://jupyter-notebook.readthedocs.io/en/latest/examples/Notebook/JavaScript%20Notebook%20Extensions.html\n",
    "$('#run_all_cells, #run_all_cells_above, #run_all_cells_below').click(function() {\n",
    "    setTimeout(function() {\n",
    "        // Find running cell and click the first one\n",
    "        if ($('.running').length > 0) {\n",
    "            $('.running')[0].click();\n",
    "        }\n",
    "    }, 250);\n",
    "});\n",
    "\n",
    "code_show=true; \n",
    "function code_toggle() {\n",
    "    if (code_show){\n",
    "        $('div.cell.code_cell.rendered.selected div.input').hide();\n",
    "    } else {\n",
    "        $('div.cell.code_cell.rendered.selected div.input').show();\n",
    "    }\n",
    "    code_show = !code_show\n",
    "} \n",
    "$( document ).ready(code_toggle);\n",
    "\n",
    "</script>\n",
    "<style>\n",
    "    @import url('https://fonts.googleapis.com/css?family=Raleway&display=swap');\n",
    "    \n",
    "    div.text_cell_render h1 { /* Main titles bigger, centered */\n",
    "        font-size: 2.2em;\n",
    "        line-height:1.4em;\n",
    "        text-align:center;\n",
    "        color: #00090d;\n",
    "    }\n",
    "    div.text_cell_render h2 { /*  Parts names nearer from text */\n",
    "        font-size: 1.8em;\n",
    "        color:#f2f2f2;;\n",
    "        border-radius: 3px;\n",
    "        background: #2b916a;\n",
    "        padding: 15px;\n",
    "        width: 99%;\n",
    "        height: 2em;\n",
    "    }\n",
    "    div.text_cell_render h3 { /*  Parts names nearer from text */\n",
    "        font-size: 1.5em;\n",
    "        color:#f2f2f2;\n",
    "        background: #1eb4a6;\n",
    "        border-radius: 3px;\n",
    "        padding: 15px;\n",
    "        width: 99%;\n",
    "        height: 2em;\n",
    "    }\n",
    "    div.text_cell_render h4 { /*  Parts names nearer from text */\n",
    "        font-size: 1.2em; \n",
    "        font-style: normal;\n",
    "        color:#f2f2f2;;\n",
    "        border-radius: 3px;\n",
    "        background: #008874;\n",
    "        padding: 5px;\n",
    "        display: inline-block;\n",
    "    }\n",
    "    div.text_cell_render h5 { /*  Parts names nearer from text */\n",
    "        font-size: 1em;\n",
    "        font-style: normal;\n",
    "        color:#f2f2f2;;\n",
    "        border-radius: 3px;\n",
    "        background: #0070b8;\n",
    "        padding: 5px;\n",
    "        display: inline-block;\n",
    "    }\n",
    "    div.text_cell_render h6 { /*  Parts names nearer from text */\n",
    "        font-size: 1em;\n",
    "        color: #0082a3;\n",
    "        font-style: normal;\n",
    "    }\n",
    "    \n",
    "    /* Customize text cells */\n",
    "    div.text_cell_render { \n",
    "        font-family: 'Raleway', sans-serif;\n",
    "        text-align: justify;\n",
    "    }    \n",
    "    \n",
    "    p,li,span {\n",
    "        color:#0f0f0f;\n",
    "        text-align: justify;\n",
    "    }\n",
    "       \n",
    "    .text_cell_render,.rendered_html {\n",
    "        font-style: normal;\n",
    "        text-align: justify;\n",
    "    }\n",
    "    \n",
    "    .link_background {\n",
    "        color: #f2f2f2;\n",
    "    }\n",
    "\n",
    "    .box {\n",
    "      border-radius: 3px;\n",
    "      border: 2px solid #60b985;\n",
    "      padding: 20px;\n",
    "      width: 99%;\n",
    "      height: 2em;\n",
    "    }\n",
    "\n",
    "    .key {\n",
    "        color: #b31919;\n",
    "        text-decoration: underline;\n",
    "    }\n",
    "    .highlight{\n",
    "        color:#b31919;\n",
    "        font-weight: bold;\n",
    "    }\n",
    "    .note{\n",
    "        background-color: #d9f3d8;\n",
    "    }\n",
    "    \n",
    "    .grow{\n",
    "        font-size: 2em;\n",
    "        font-weight: bold;\n",
    "        color: #b31919;\n",
    "    }\n",
    "</style>\n",
    "To show/hide this cell's raw code input, click <a href=\"javascript:code_toggle()\">here</a>.''')\n",
    "display(tag)\n",
    "\n",
    "############### Write code below ##################"
   ]
  },
  {
   "cell_type": "markdown",
   "metadata": {},
   "source": [
    "# Python String/Output Formatting Best Practices"
   ]
  },
  {
   "cell_type": "markdown",
   "metadata": {},
   "source": [
    "## Table of Contents:\n",
    "<br>\n",
    "<ol>\n",
    "    <li><a href='#Basic-formatting'>Basic formatting</a></li>\n",
    "    <li><a href='#Value-conversion'>Value conversion</a></li>\n",
    "    <li><a href='#Padding-and-aligning-strings'>Padding and aligning strings</a></li>\n",
    "    <li><a href='#Truncating-long-strings'>Truncating long strings</a></li>\n",
    "    <li><a href='#Combining-truncating-and-padding'>Combining truncating and padding</a></li>\n",
    "    <li><a href='#Numbers'>Numbers</a></li>\n",
    "    <li><a href='#Padding-numbers'>Padding numbers</a></li>\n",
    "    <li><a href='#Signed-numbers'>Signed numbers</a></li>\n",
    "    <li><a href='#Named-placeholders'>Named placeholders</a></li>\n",
    "    <li><a href='#Getitem-and-Getattr'>Getitem and Getattr</a></li>\n",
    "    <li><a href='#Datetime'>Datetime</a></li>\n",
    "    <li><a href='#Parametrized-formats'>Parametrized formats</a></li>\n",
    "    <li><a href='#Custom-objects'>Custom objects</a></li>\n",
    "</ol>"
   ]
  },
  {
   "cell_type": "markdown",
   "metadata": {},
   "source": [
    "## Basic formatting"
   ]
  },
  {
   "cell_type": "markdown",
   "metadata": {},
   "source": [
    "Simple positional formatting is probably the most common use-case. Use it if the order of your arguments is not likely to change and you only have very few elements you want to concatenate.\n",
    "\n",
    "Since the elements are not represented by something as descriptive as a name this simple style should only be used to format a relatively small number of elements."
   ]
  },
  {
   "cell_type": "code",
   "execution_count": null,
   "metadata": {},
   "outputs": [],
   "source": [
    "print('{} {}'.format('one', 'two'))"
   ]
  },
  {
   "cell_type": "code",
   "execution_count": null,
   "metadata": {},
   "outputs": [],
   "source": [
    "print('{} {}'.format(1, 2))"
   ]
  },
  {
   "cell_type": "markdown",
   "metadata": {},
   "source": [
    "With new style formatting it is possible (and in Python 2.6 even mandatory) to give placeholders an explicit positional index.\n",
    "\n",
    "This allows for re-arranging the order of display without changing the arguments."
   ]
  },
  {
   "cell_type": "code",
   "execution_count": null,
   "metadata": {},
   "outputs": [],
   "source": [
    "print('We have now, changed the order. Now we see {1} before {0}'.format('one', 'two'))"
   ]
  },
  {
   "cell_type": "markdown",
   "metadata": {},
   "source": [
    "## Value conversion"
   ]
  },
  {
   "cell_type": "markdown",
   "metadata": {},
   "source": [
    "The new-style simple formatter calls by default the <b><code>&lowbar;&lowbar;format&lowbar;&lowbar;()</code></b> method of an object for its representation. If you just want to render the output of <b><code>str(...)</code></b> or <b><code>repr(...)</code></b> you can use the <b><code>!s</code></b> or <b><code>!r</code></b> conversion flags.\n",
    "\n",
    "In <b><code>%</code></b>-style you usually use <b><code>%s</code></b> for the string representation but there is <b><code>%r</code></b> for a <b><code>repr(...)</code></b> conversion."
   ]
  },
  {
   "cell_type": "code",
   "execution_count": null,
   "metadata": {},
   "outputs": [],
   "source": [
    "class Data(object):\n",
    "\n",
    "    def __str__(self):\n",
    "        return 'str'\n",
    "\n",
    "    def __repr__(self):\n",
    "        return 'repr'"
   ]
  },
  {
   "cell_type": "code",
   "execution_count": null,
   "metadata": {},
   "outputs": [],
   "source": [
    "print('{0!s} {0!r}'.format(Data()))"
   ]
  },
  {
   "cell_type": "markdown",
   "metadata": {},
   "source": [
    "In Python 3 there exists an additional conversion flag that uses the output of <b><code>repr(...)</code></b> but uses <b><code>ascii(...)</code></b> instead."
   ]
  },
  {
   "cell_type": "code",
   "execution_count": null,
   "metadata": {},
   "outputs": [],
   "source": [
    "class Data(object):\n",
    "\n",
    "    def __repr__(self):\n",
    "        return 'räpr'"
   ]
  },
  {
   "cell_type": "code",
   "execution_count": null,
   "metadata": {},
   "outputs": [],
   "source": [
    "print('{0!r} {0!a}'.format(Data()))"
   ]
  },
  {
   "cell_type": "markdown",
   "metadata": {},
   "source": [
    "## Padding and aligning strings"
   ]
  },
  {
   "cell_type": "markdown",
   "metadata": {},
   "source": [
    "By default values are formatted to take up only as many characters as needed to represent the content. It is however also possible to define that a value should be padded to a specific length.The new style defaults to left aligned."
   ]
  },
  {
   "cell_type": "markdown",
   "metadata": {},
   "source": [
    "<b>Align right:</b>"
   ]
  },
  {
   "cell_type": "code",
   "execution_count": null,
   "metadata": {},
   "outputs": [],
   "source": [
    "print('{:>10}'.format('test'))"
   ]
  },
  {
   "cell_type": "markdown",
   "metadata": {},
   "source": [
    "<b>Align left:</b>"
   ]
  },
  {
   "cell_type": "code",
   "execution_count": null,
   "metadata": {},
   "outputs": [],
   "source": [
    "print('{:10}'.format('test'))"
   ]
  },
  {
   "cell_type": "markdown",
   "metadata": {},
   "source": [
    "<b>You could also choose the padding character:</b>"
   ]
  },
  {
   "cell_type": "code",
   "execution_count": null,
   "metadata": {},
   "outputs": [],
   "source": [
    "print('{:_<10}'.format('test'))"
   ]
  },
  {
   "cell_type": "markdown",
   "metadata": {},
   "source": [
    "<b>And also center align values:</b>"
   ]
  },
  {
   "cell_type": "code",
   "execution_count": null,
   "metadata": {},
   "outputs": [],
   "source": [
    "print('{:^10}'.format('test'))"
   ]
  },
  {
   "cell_type": "markdown",
   "metadata": {},
   "source": [
    "When using center alignment where the length of the string leads to an uneven split of the padding characters the extra character will be placed on the right side:"
   ]
  },
  {
   "cell_type": "code",
   "execution_count": null,
   "metadata": {},
   "outputs": [],
   "source": [
    "print('{:*^6}'.format('zip'))"
   ]
  },
  {
   "cell_type": "code",
   "execution_count": null,
   "metadata": {},
   "outputs": [],
   "source": [
    "print('{:*^5}'.format('zip'))"
   ]
  },
  {
   "cell_type": "markdown",
   "metadata": {},
   "source": [
    "## Truncating long strings"
   ]
  },
  {
   "cell_type": "markdown",
   "metadata": {},
   "source": [
    "Inverse to padding it is also possible to truncate overly long values to a specific number of characters.\n",
    "\n",
    "The number behind a <span class='grow'>.</span> in the format specifies the precision of the output. For strings that means that the output is truncated to the specified length. In our example this would be 5 characters."
   ]
  },
  {
   "cell_type": "code",
   "execution_count": null,
   "metadata": {},
   "outputs": [],
   "source": [
    "print('{:.5}'.format('xylophone'))"
   ]
  },
  {
   "cell_type": "markdown",
   "metadata": {},
   "source": [
    "## Combining truncating and padding"
   ]
  },
  {
   "cell_type": "markdown",
   "metadata": {},
   "source": [
    "It is also possible to combine truncating and padding:"
   ]
  },
  {
   "cell_type": "code",
   "execution_count": null,
   "metadata": {},
   "outputs": [],
   "source": [
    "print('{:10.5}'.format('xylophone'))"
   ]
  },
  {
   "cell_type": "markdown",
   "metadata": {},
   "source": [
    "## Numbers"
   ]
  },
  {
   "cell_type": "markdown",
   "metadata": {},
   "source": [
    " It is also possible to format numbers."
   ]
  },
  {
   "cell_type": "markdown",
   "metadata": {},
   "source": [
    "##### Integers:"
   ]
  },
  {
   "cell_type": "code",
   "execution_count": null,
   "metadata": {},
   "outputs": [],
   "source": [
    "print('{:d}'.format(42))"
   ]
  },
  {
   "cell_type": "code",
   "execution_count": null,
   "metadata": {},
   "outputs": [],
   "source": [
    "print('{:f}'.format(3.141592653589793))"
   ]
  },
  {
   "cell_type": "markdown",
   "metadata": {},
   "source": [
    "## Padding numbers"
   ]
  },
  {
   "cell_type": "markdown",
   "metadata": {},
   "source": [
    "Similar to strings numbers can also be constrained to a specific width."
   ]
  },
  {
   "cell_type": "code",
   "execution_count": null,
   "metadata": {},
   "outputs": [],
   "source": [
    "print('{:4d}'.format(42))"
   ]
  },
  {
   "cell_type": "markdown",
   "metadata": {},
   "source": [
    "Again similar to truncating strings the precision for floating point numbers limits the number of positions after the decimal point.\n",
    "\n",
    "For floating points the padding value represents the length of the complete output. In the example below we want our output to have at least 6 characters with 2 after the decimal point."
   ]
  },
  {
   "cell_type": "code",
   "execution_count": null,
   "metadata": {},
   "outputs": [],
   "source": [
    "print('{:06.2f}'.format(3.141592653589793))"
   ]
  },
  {
   "cell_type": "markdown",
   "metadata": {},
   "source": [
    "For integer values providing a precision doesn't make much sense and is actually forbidden in the new style (it will result in a ValueError)."
   ]
  },
  {
   "cell_type": "code",
   "execution_count": null,
   "metadata": {},
   "outputs": [],
   "source": [
    "print('{:04d}'.format(42))"
   ]
  },
  {
   "cell_type": "markdown",
   "metadata": {},
   "source": [
    "## Signed numbers"
   ]
  },
  {
   "cell_type": "markdown",
   "metadata": {},
   "source": [
    "By default only negative numbers are prefixed with a sign. This can be changed of course."
   ]
  },
  {
   "cell_type": "code",
   "execution_count": null,
   "metadata": {},
   "outputs": [],
   "source": [
    "print('{:+d}'.format(42))"
   ]
  },
  {
   "cell_type": "markdown",
   "metadata": {},
   "source": [
    "Use a space character to indicate that negative numbers should be prefixed with a minus symbol and a leading space should be used for positive ones."
   ]
  },
  {
   "cell_type": "code",
   "execution_count": null,
   "metadata": {},
   "outputs": [],
   "source": [
    "print('{: d}'.format((- 23)))"
   ]
  },
  {
   "cell_type": "code",
   "execution_count": null,
   "metadata": {},
   "outputs": [],
   "source": [
    "print('{: d}'.format(42))"
   ]
  },
  {
   "cell_type": "markdown",
   "metadata": {},
   "source": [
    "New style formatting is also able to control the position of the sign symbol relative to the padding."
   ]
  },
  {
   "cell_type": "code",
   "execution_count": null,
   "metadata": {},
   "outputs": [],
   "source": [
    "print('{:=5d}'.format((- 23)))"
   ]
  },
  {
   "cell_type": "code",
   "execution_count": null,
   "metadata": {},
   "outputs": [],
   "source": [
    "print('{:=+5d}'.format(23))"
   ]
  },
  {
   "cell_type": "markdown",
   "metadata": {},
   "source": [
    "## Named placeholders"
   ]
  },
  {
   "cell_type": "markdown",
   "metadata": {},
   "source": [
    "Both formatting styles support named placeholders."
   ]
  },
  {
   "cell_type": "code",
   "execution_count": null,
   "metadata": {},
   "outputs": [],
   "source": [
    "data = {'first': 'Hodor', 'last': 'Hodor!'}"
   ]
  },
  {
   "cell_type": "code",
   "execution_count": null,
   "metadata": {},
   "outputs": [],
   "source": [
    "print('{first} {last}'.format(**data))"
   ]
  },
  {
   "cell_type": "markdown",
   "metadata": {},
   "source": [
    "<code>.format()</code> also accepts keyword arguments."
   ]
  },
  {
   "cell_type": "code",
   "execution_count": null,
   "metadata": {},
   "outputs": [],
   "source": [
    "print('{first} {last}'.format(first='Hodor', last='Hodor!'))"
   ]
  },
  {
   "cell_type": "markdown",
   "metadata": {},
   "source": [
    "## Getitem and Getattr"
   ]
  },
  {
   "cell_type": "markdown",
   "metadata": {},
   "source": [
    "New style formatting allows even greater flexibility in accessing nested data structures.\n",
    "\n",
    "It supports accessing containers that support <code>&lowbar;&lowbar;getitem&lowbar;&lowbar;</code> like for example dictionaries and lists:"
   ]
  },
  {
   "cell_type": "code",
   "execution_count": null,
   "metadata": {},
   "outputs": [],
   "source": [
    "person = {'first': 'Jean-Luc', 'last': 'Picard'}"
   ]
  },
  {
   "cell_type": "code",
   "execution_count": null,
   "metadata": {},
   "outputs": [],
   "source": [
    "print('{p[first]} {p[last]}'.format(p=person))"
   ]
  },
  {
   "cell_type": "code",
   "execution_count": null,
   "metadata": {},
   "outputs": [],
   "source": [
    "data = [4, 8, 15, 16, 23, 42]"
   ]
  },
  {
   "cell_type": "code",
   "execution_count": null,
   "metadata": {},
   "outputs": [],
   "source": [
    "print('{d[4]} {d[5]}'.format(d=data))"
   ]
  },
  {
   "cell_type": "markdown",
   "metadata": {},
   "source": [
    "As well as accessing attributes on objects via <code>getattr()</code>:"
   ]
  },
  {
   "cell_type": "code",
   "execution_count": null,
   "metadata": {},
   "outputs": [],
   "source": [
    "class Plant(object):\n",
    "    type = 'tree'"
   ]
  },
  {
   "cell_type": "code",
   "execution_count": null,
   "metadata": {},
   "outputs": [],
   "source": [
    "print('{p.type}'.format(p=Plant()))"
   ]
  },
  {
   "cell_type": "markdown",
   "metadata": {},
   "source": [
    "Both type of access can be freely mixed and arbitrarily nested:"
   ]
  },
  {
   "cell_type": "code",
   "execution_count": null,
   "metadata": {},
   "outputs": [],
   "source": [
    "class Plant(object):\n",
    "    type = 'tree'\n",
    "    kinds = [{'name': 'oak'}, {'name': 'maple'}]"
   ]
  },
  {
   "cell_type": "code",
   "execution_count": null,
   "metadata": {},
   "outputs": [],
   "source": [
    "print('{p.type}: {p.kinds[0][name]}'.format(p=Plant()))"
   ]
  },
  {
   "cell_type": "markdown",
   "metadata": {},
   "source": [
    "## Datetime"
   ]
  },
  {
   "cell_type": "markdown",
   "metadata": {},
   "source": [
    "New style formatting also allows objects to control their own rendering. This for example allows datetime objects to be formatted inline:"
   ]
  },
  {
   "cell_type": "code",
   "execution_count": null,
   "metadata": {},
   "outputs": [],
   "source": [
    "from datetime import datetime"
   ]
  },
  {
   "cell_type": "code",
   "execution_count": null,
   "metadata": {},
   "outputs": [],
   "source": [
    "print('{:%Y-%m-%d %H:%M}'.format(datetime(2001, 2, 3, 4, 5)))"
   ]
  },
  {
   "cell_type": "markdown",
   "metadata": {},
   "source": [
    "## Parametrized formats"
   ]
  },
  {
   "cell_type": "code",
   "execution_count": null,
   "metadata": {},
   "outputs": [],
   "source": [
    "print('{:{align}{width}}'.format('test', align='^', width='10'))"
   ]
  },
  {
   "cell_type": "markdown",
   "metadata": {},
   "source": [
    "##### Parametrized precision:"
   ]
  },
  {
   "cell_type": "code",
   "execution_count": null,
   "metadata": {},
   "outputs": [],
   "source": [
    "print('%.*s = %.*f' % (3, 'Gibberish', 3, 2.7182))"
   ]
  },
  {
   "cell_type": "markdown",
   "metadata": {},
   "source": [
    "##### Width and precision:"
   ]
  },
  {
   "cell_type": "code",
   "execution_count": null,
   "metadata": {},
   "outputs": [],
   "source": [
    "print('{:{width}.{prec}f}'.format(2.7182, width=5, prec=2))"
   ]
  },
  {
   "cell_type": "markdown",
   "metadata": {},
   "source": [
    "The nested format can be used to replace any part of the format spec, so the precision example above could be rewritten as:"
   ]
  },
  {
   "cell_type": "code",
   "execution_count": null,
   "metadata": {},
   "outputs": [],
   "source": [
    "print('{:{prec}} = {:{prec}}'.format('Gibberish', 2.7182, prec='.3'))"
   ]
  },
  {
   "cell_type": "markdown",
   "metadata": {},
   "source": [
    "The components of a date-time can be set separately:"
   ]
  },
  {
   "cell_type": "code",
   "execution_count": null,
   "metadata": {},
   "outputs": [],
   "source": [
    "from datetime import datetime\n",
    "dt = datetime(2001, 2, 3, 4, 5)"
   ]
  },
  {
   "cell_type": "code",
   "execution_count": null,
   "metadata": {},
   "outputs": [],
   "source": [
    "print('{:{dfmt} {tfmt}}'.format(dt, dfmt='%Y-%m-%d', tfmt='%H:%M'))"
   ]
  },
  {
   "cell_type": "markdown",
   "metadata": {},
   "source": [
    "The nested formats can be positional arguments. Position depends on the order of the opening curly braces:"
   ]
  },
  {
   "cell_type": "code",
   "execution_count": null,
   "metadata": {},
   "outputs": [],
   "source": [
    "print('{:{}{}{}.{}}'.format(2.7182818284, '>', '+', 10, 3))"
   ]
  },
  {
   "cell_type": "markdown",
   "metadata": {},
   "source": [
    "## Custom objects"
   ]
  },
  {
   "cell_type": "markdown",
   "metadata": {},
   "source": [
    "The datetime example works through the use of the <code>&lowbar;&lowbar;format&lowbar;&lowbar;()</code> magic method. You can define custom format handling in your own objects by overriding this method. This gives you complete control over the format syntax used."
   ]
  },
  {
   "cell_type": "code",
   "execution_count": null,
   "metadata": {},
   "outputs": [],
   "source": [
    "class HAL9000(object):\n",
    "\n",
    "    def __format__(self, format):\n",
    "        if (format == 'open-the-pod-bay-doors'):\n",
    "            return \"I'm afraid I can't do that.\"\n",
    "        return 'HAL 9000'"
   ]
  },
  {
   "cell_type": "code",
   "execution_count": null,
   "metadata": {},
   "outputs": [],
   "source": [
    "print('{:open-the-pod-bay-doors}'.format(HAL9000()))"
   ]
  },
  {
   "cell_type": "code",
   "execution_count": null,
   "metadata": {},
   "outputs": [],
   "source": []
  },
  {
   "cell_type": "code",
   "execution_count": null,
   "metadata": {},
   "outputs": [],
   "source": []
  },
  {
   "cell_type": "code",
   "execution_count": null,
   "metadata": {},
   "outputs": [],
   "source": []
  },
  {
   "cell_type": "markdown",
   "metadata": {},
   "source": [
    "https://strftime.org/"
   ]
  }
 ],
 "metadata": {
  "kernelspec": {
   "display_name": "Python 3",
   "language": "python",
   "name": "python3"
  },
  "language_info": {
   "codemirror_mode": {
    "name": "ipython",
    "version": 3
   },
   "file_extension": ".py",
   "mimetype": "text/x-python",
   "name": "python",
   "nbconvert_exporter": "python",
   "pygments_lexer": "ipython3",
   "version": "3.7.4"
  }
 },
 "nbformat": 4,
 "nbformat_minor": 2
}
