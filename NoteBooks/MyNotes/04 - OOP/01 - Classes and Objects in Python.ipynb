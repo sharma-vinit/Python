{
 "cells": [
  {
   "cell_type": "code",
   "execution_count": 1,
   "metadata": {},
   "outputs": [
    {
     "data": {
      "text/html": [
       "<script>\n",
       "\n",
       "//https://jupyter-notebook.readthedocs.io/en/latest/examples/Notebook/JavaScript%20Notebook%20Extensions.html\n",
       "$('#run_all_cells, #run_all_cells_above, #run_all_cells_below').click(function() {\n",
       "    setTimeout(function() {\n",
       "        // Find running cell and click the first one\n",
       "        if ($('.running').length > 0) {\n",
       "            $('.running')[0].click();\n",
       "        }\n",
       "    }, 250);\n",
       "});\n",
       "\n",
       "code_show=true; \n",
       "function code_toggle() {\n",
       "    if (code_show){\n",
       "        $('div.cell.code_cell.rendered.selected div.input').hide();\n",
       "    } else {\n",
       "        $('div.cell.code_cell.rendered.selected div.input').show();\n",
       "    }\n",
       "    code_show = !code_show\n",
       "} \n",
       "$( document ).ready(code_toggle);\n",
       "\n",
       "</script>\n",
       "<style>\n",
       "    @import url('https://fonts.googleapis.com/css?family=Raleway&display=swap');\n",
       "    \n",
       "    div.text_cell_render h1 { /* Main titles bigger, centered */\n",
       "        font-size: 2.2em;\n",
       "        line-height:1.4em;\n",
       "        text-align:center;\n",
       "        color: #00090d;\n",
       "    }\n",
       "    div.text_cell_render h2 { /*  Parts names nearer from text */\n",
       "        font-size: 1.8em;\n",
       "        color:#f2f2f2;;\n",
       "        border-radius: 3px;\n",
       "        background: #2b916a;\n",
       "        padding: 15px;\n",
       "        width: 99%;\n",
       "        height: 2em;\n",
       "    }\n",
       "    div.text_cell_render h3 { /*  Parts names nearer from text */\n",
       "        font-size: 1.5em;\n",
       "        color:#f2f2f2;\n",
       "        background: #1eb4a6;\n",
       "        border-radius: 3px;\n",
       "        padding: 15px;\n",
       "        width: 99%;\n",
       "        height: 2em;\n",
       "    }\n",
       "    div.text_cell_render h4 { /*  Parts names nearer from text */\n",
       "        font-size: 1.2em; \n",
       "        font-style: normal;\n",
       "        color:#f2f2f2;;\n",
       "        border-radius: 3px;\n",
       "        background: #008874;\n",
       "        padding: 5px;\n",
       "        display: inline-block;\n",
       "    }\n",
       "    div.text_cell_render h5 { /*  Parts names nearer from text */\n",
       "        font-size: 1em;\n",
       "        font-style: normal;\n",
       "        color:#f2f2f2;;\n",
       "        border-radius: 3px;\n",
       "        background: #0070b8;\n",
       "        padding: 5px;\n",
       "        display: inline-block;\n",
       "    }\n",
       "    div.text_cell_render h6 { /*  Parts names nearer from text */\n",
       "        font-size: 1em;\n",
       "        color: #0082a3;\n",
       "        font-style: normal;\n",
       "    }\n",
       "    \n",
       "    /* Customize text cells */\n",
       "    div.text_cell_render { \n",
       "        font-family: 'Raleway', sans-serif;\n",
       "        text-align: justify;\n",
       "    }    \n",
       "    \n",
       "    p,li,span {\n",
       "        color:#0f0f0f;\n",
       "        text-align: justify;\n",
       "    }\n",
       "       \n",
       "    .text_cell_render,.rendered_html {\n",
       "        font-style: normal;\n",
       "        text-align: justify;\n",
       "    }\n",
       "    \n",
       "    .link_background {\n",
       "        color: #f2f2f2;\n",
       "    }\n",
       "\n",
       "    .box {\n",
       "      border-radius: 3px;\n",
       "      border: 2px solid #60b985;\n",
       "      padding: 20px;\n",
       "      width: 99%;\n",
       "      height: 2em;\n",
       "    }\n",
       "\n",
       "    .key {\n",
       "        color: #b31919;\n",
       "        text-decoration: underline;\n",
       "    }\n",
       "    .highlight{\n",
       "        color:#ca5e5e;\n",
       "    }\n",
       "    .mark{\n",
       "        background-color: #f1d3d3;\n",
       "        padding: 3px;\n",
       "    }\n",
       "    .note{\n",
       "        background-color: #d9f3d8;\n",
       "        color: #333333;\n",
       "        padding: 3px;\n",
       "    }\n",
       "    \n",
       "    .grow{\n",
       "        font-size: 2em;\n",
       "        font-weight: bold;\n",
       "        color: #b31919;\n",
       "    }\n",
       "</style>\n",
       "To show/hide this cell's raw code input, click <a href=\"javascript:code_toggle()\">here</a>."
      ],
      "text/plain": [
       "<IPython.core.display.HTML object>"
      ]
     },
     "metadata": {},
     "output_type": "display_data"
    }
   ],
   "source": [
    "from IPython.display import HTML\n",
    "from IPython.display import display\n",
    "\n",
    "# Taken from https://stackoverflow.com/questions/31517194/how-to-hide-one-specific-cell-input-or-output-in-ipython-notebook\n",
    "tag = HTML('''<script>\n",
    "\n",
    "//https://jupyter-notebook.readthedocs.io/en/latest/examples/Notebook/JavaScript%20Notebook%20Extensions.html\n",
    "$('#run_all_cells, #run_all_cells_above, #run_all_cells_below').click(function() {\n",
    "    setTimeout(function() {\n",
    "        // Find running cell and click the first one\n",
    "        if ($('.running').length > 0) {\n",
    "            $('.running')[0].click();\n",
    "        }\n",
    "    }, 250);\n",
    "});\n",
    "\n",
    "code_show=true; \n",
    "function code_toggle() {\n",
    "    if (code_show){\n",
    "        $('div.cell.code_cell.rendered.selected div.input').hide();\n",
    "    } else {\n",
    "        $('div.cell.code_cell.rendered.selected div.input').show();\n",
    "    }\n",
    "    code_show = !code_show\n",
    "} \n",
    "$( document ).ready(code_toggle);\n",
    "\n",
    "</script>\n",
    "<style>\n",
    "    @import url('https://fonts.googleapis.com/css?family=Raleway&display=swap');\n",
    "    \n",
    "    div.text_cell_render h1 { /* Main titles bigger, centered */\n",
    "        font-size: 2.2em;\n",
    "        line-height:1.4em;\n",
    "        text-align:center;\n",
    "        color: #00090d;\n",
    "    }\n",
    "    div.text_cell_render h2 { /*  Parts names nearer from text */\n",
    "        font-size: 1.8em;\n",
    "        color:#f2f2f2;;\n",
    "        border-radius: 3px;\n",
    "        background: #2b916a;\n",
    "        padding: 15px;\n",
    "        width: 99%;\n",
    "        height: 2em;\n",
    "    }\n",
    "    div.text_cell_render h3 { /*  Parts names nearer from text */\n",
    "        font-size: 1.5em;\n",
    "        color:#f2f2f2;\n",
    "        background: #1eb4a6;\n",
    "        border-radius: 3px;\n",
    "        padding: 15px;\n",
    "        width: 99%;\n",
    "        height: 2em;\n",
    "    }\n",
    "    div.text_cell_render h4 { /*  Parts names nearer from text */\n",
    "        font-size: 1.2em; \n",
    "        font-style: normal;\n",
    "        color:#f2f2f2;;\n",
    "        border-radius: 3px;\n",
    "        background: #008874;\n",
    "        padding: 5px;\n",
    "        display: inline-block;\n",
    "    }\n",
    "    div.text_cell_render h5 { /*  Parts names nearer from text */\n",
    "        font-size: 1em;\n",
    "        font-style: normal;\n",
    "        color:#f2f2f2;;\n",
    "        border-radius: 3px;\n",
    "        background: #0070b8;\n",
    "        padding: 5px;\n",
    "        display: inline-block;\n",
    "    }\n",
    "    div.text_cell_render h6 { /*  Parts names nearer from text */\n",
    "        font-size: 1em;\n",
    "        color: #0082a3;\n",
    "        font-style: normal;\n",
    "    }\n",
    "    \n",
    "    /* Customize text cells */\n",
    "    div.text_cell_render { \n",
    "        font-family: 'Raleway', sans-serif;\n",
    "        text-align: justify;\n",
    "    }    \n",
    "    \n",
    "    p,li,span {\n",
    "        color:#0f0f0f;\n",
    "        text-align: justify;\n",
    "    }\n",
    "       \n",
    "    .text_cell_render,.rendered_html {\n",
    "        font-style: normal;\n",
    "        text-align: justify;\n",
    "    }\n",
    "    \n",
    "    .link_background {\n",
    "        color: #f2f2f2;\n",
    "    }\n",
    "\n",
    "    .box {\n",
    "      border-radius: 3px;\n",
    "      border: 2px solid #60b985;\n",
    "      padding: 20px;\n",
    "      width: 99%;\n",
    "      height: 2em;\n",
    "    }\n",
    "\n",
    "    .key {\n",
    "        color: #b31919;\n",
    "        text-decoration: underline;\n",
    "    }\n",
    "    .highlight{\n",
    "        color:#ca5e5e;\n",
    "    }\n",
    "    .mark{\n",
    "        background-color: #f1d3d3;\n",
    "        padding: 3px;\n",
    "    }\n",
    "    .note{\n",
    "        background-color: #d9f3d8;\n",
    "        color: #333333;\n",
    "        padding: 3px;\n",
    "    }\n",
    "    \n",
    "    .grow{\n",
    "        font-size: 2em;\n",
    "        font-weight: bold;\n",
    "        color: #b31919;\n",
    "    }\n",
    "</style>\n",
    "To show/hide this cell's raw code input, click <a href=\"javascript:code_toggle()\">here</a>.''')\n",
    "display(tag)\n",
    "\n",
    "############### Write code below ##################"
   ]
  },
  {
   "cell_type": "markdown",
   "metadata": {},
   "source": [
    "# Classes and Objects in Python"
   ]
  },
  {
   "cell_type": "markdown",
   "metadata": {},
   "source": [
    "## Introduction to Classes and Objects"
   ]
  },
  {
   "cell_type": "markdown",
   "metadata": {},
   "source": [
    "<span class=\"note\">Python is an object oriented programming language.</span> Unlike procedure oriented programming, where the main emphasis is on functions, object oriented programming stress on objects.\n",
    "\n",
    "<span class=\"note\">Object is simply a collection of data (variables) and methods (functions) into a single entity that act on those data. And, class is a blueprint for the object. Objects are an encapsulation of variables and functions into a single entity. Objects get their variables and functions from classes. Classes are essentially a template to create your objects.</span>\n",
    "\n",
    "We can think of class as a sketch (prototype) of a person. It contains all the details about name, age, address, etc., with behaviors like walking, talking, breathing, and running. \n",
    "\n",
    "As, many persons exist based on the description provided, we can create many objects from a class. An object is also called an instance of a class and the process of creating this object is called instantiation."
   ]
  },
  {
   "cell_type": "markdown",
   "metadata": {},
   "source": [
    "### Creating a Class"
   ]
  },
  {
   "cell_type": "markdown",
   "metadata": {},
   "source": [
    "<img src=\"../../resources/images/rectangle.png\" height=\"30%\" width=\"30%\" align=\"center\">\n",
    "\n",
    "Figure 1: <code>Rectangle</code> Class, has it's own attributes. The <code>Rectangle</code> class has the attribute color, length and width."
   ]
  },
  {
   "cell_type": "markdown",
   "metadata": {},
   "source": [
    "<span class=\"note\">\n",
    "    To create a custom class we use the <code>class</code> keyword, and we can initialize class attributes in the special method <code>&lowbar;&lowbar;init&lowbar;&lowbar;</code>.\n",
    "</span>"
   ]
  },
  {
   "cell_type": "markdown",
   "metadata": {},
   "source": [
    "<span class=\"note\">The first part of creating a class is giving it a <b>name</b>: <b><code>Rectangle</code></b> in this case. We need to determine all the data that make up that class, and we call that an <b>attribute</b>.</span> Think about this step as creating a blue print that we will use to create objects.<span class=\"note\"> The class <b><code>Rectangle</code></b> has the attribute <b>color</b>, <b>length</b> and <b>width</b>.</span>"
   ]
  },
  {
   "cell_type": "markdown",
   "metadata": {},
   "source": [
    "<span class=\"note\">\n",
    "    The next step is a special method called a constructor <code>&#95;&#95;init&#95;&#95;</code>, which is used to initialize the object. The input are data attributes.\n",
    "</span>"
   ]
  },
  {
   "cell_type": "code",
   "execution_count": 94,
   "metadata": {},
   "outputs": [],
   "source": [
    "# Create a class Rectangle\n",
    "class Rectangle (object):\n",
    "    \n",
    "    # Constructor\n",
    "    def __init__(self, color, length, width):\n",
    "        self.color = color\n",
    "        self.length = length\n",
    "        self.width = width"
   ]
  },
  {
   "cell_type": "markdown",
   "metadata": {},
   "source": [
    "<span class=\"note\">We create **instances** of the <code>Rectangle</code> class by calling it with arguments that are passed to the `__init__` method as the second and third arguments. The first argument (<code>self</code>) is automatically filled in by Python and contains the object being created.</span>\n",
    "<br><br>\n",
    "<span class=\"note\">\n",
    "    <b>Note</b> that using <code>self</code> is just a convention (although a good one, and you should use it to make your code more understandable by others), you could really call it whatever (valid) name you choose.\n",
    "</span><br>\n",
    "<span class=\"mark\">But just because you can does not mean you should!</span>\n"
   ]
  },
  {
   "cell_type": "markdown",
   "metadata": {},
   "source": [
    "#### Instance of a Class: Objects and Attributes"
   ]
  },
  {
   "cell_type": "markdown",
   "metadata": {},
   "source": [
    "An instance of an object is the realisation of a class, and in Figure 2 below we see three instances of the class <code>Rectangle</code>. We give each object a name: <span style=\"color:blue;font-weight: bold;\">blue</span> rectangle, <span style=\"color:orange;font-weight: bold;\">orange</span> rectangle and <span style=\"color:green;font-weight: bold;\">green</span> rectangle. Each object has different attributes, so let's focus on the attribute of colour for each object."
   ]
  },
  {
   "cell_type": "markdown",
   "metadata": {},
   "source": [
    "<img src=\"../../resources/images/rectangles.png\" height=\"20%\" width=\"20%\" align=\"center\">\n",
    "\n",
    "Figure 2: Six instances of the class <code>Rectangle</code> or six objects of type <code>Rectangle</code>."
   ]
  },
  {
   "cell_type": "markdown",
   "metadata": {},
   "source": [
    " The colour attribute for the blue circle is the colour blue, for the green circle object the colour attribute is green, and for the orange circle the colour attribute is orange.   "
   ]
  },
  {
   "cell_type": "markdown",
   "metadata": {},
   "source": [
    "##### Creating an instance of a class Circle"
   ]
  },
  {
   "cell_type": "code",
   "execution_count": 95,
   "metadata": {},
   "outputs": [],
   "source": [
    "# Creating object/instance of Rectangle as first_rectangle, second_rectangle\n",
    "\n",
    "first_rectangle = Rectangle('green', 10, 20)\n",
    "\n",
    "# Create a blue rectangle with a given dimensions\n",
    "second_rectangle = Rectangle(color='blue', length=3, width=5)"
   ]
  },
  {
   "cell_type": "markdown",
   "metadata": {},
   "source": [
    "<span class=\"mark\">See, how <code>first_rectangle</code> intantiation is different from <code>second_rectangle</code>'s instantiation.</span>"
   ]
  },
  {
   "cell_type": "code",
   "execution_count": 98,
   "metadata": {},
   "outputs": [
    {
     "name": "stdout",
     "output_type": "stream",
     "text": [
      "first_rectangle is instance of <class '__main__.Rectangle'> : True \n"
     ]
    }
   ],
   "source": [
    "isinstance(first_rectangle, Rectangle)\n",
    "print('first_rectangle is instance of {0} : {1} '.format(Rectangle, isinstance(first_rectangle, Rectangle)))"
   ]
  },
  {
   "cell_type": "code",
   "execution_count": null,
   "metadata": {},
   "outputs": [],
   "source": [
    "# Print the object attributes\n",
    "print('Rectangle has following attributes:')\n",
    "print('Color: {0}, Length: {1}, Width: {2} '.format(first_rectangle.color, first_rectangle.length, first_rectangle.width))\n",
    "\n",
    "print('Color: {0}, Length: {1}, Width: {2} '.format(second_rectangle.color, second_rectangle.length, second_rectangle.width))"
   ]
  },
  {
   "cell_type": "markdown",
   "metadata": {},
   "source": [
    "`color`, `width` and `height` are attributes of the `Rectangle` class.<br><br>\n",
    "\n",
    "<span class=\"mark\">\n",
    "    Attributes like <b><code>color</code></b>, <b><code>length</code></b> and <b><code>width</code></b> are just values (not callables), we call them <b>properties</b>. <br><br>Attributes that are callables are called <b>methods</b>.\n",
    "</span>"
   ]
  },
  {
   "cell_type": "markdown",
   "metadata": {},
   "source": [
    "You'll note that we were able to retrieve the `color`,`width` and `height` attributes (properties) using a <b>dot</b> notation, where we specify the object we are interested in, then a dot, then the attribute we are interested in. For example:\n",
    "`first_rectangle.color`"
   ]
  },
  {
   "cell_type": "markdown",
   "metadata": {},
   "source": [
    "We can add callable attributes to our class (methods), that will also be referenced using the dot notation.\n",
    "\n",
    "Again, we will create instance methods, which means the method will require the first argument to be the object being used when the method is called."
   ]
  },
  {
   "cell_type": "markdown",
   "metadata": {},
   "source": [
    "#### Methods"
   ]
  },
  {
   "cell_type": "markdown",
   "metadata": {},
   "source": [
    "Methods give you a way to change or interact with the object; they are functions that interact with objects. For example, let’s say we would like to measure the area of a <code>Rectangle</code>. We can create a method called **area()** that calculates the area of a given rectangle. \n",
    "\n",
    "The <b>“dot”</b> notation means to apply the method to the object, which is essentially applying a function to the information in the object."
   ]
  },
  {
   "cell_type": "markdown",
   "metadata": {},
   "source": [
    "<span class=\"mark\">We can use the <b><code>dir</code></b> command to get a list of the object's methods. Many of them are default Python methods.</span>"
   ]
  },
  {
   "cell_type": "code",
   "execution_count": null,
   "metadata": {},
   "outputs": [],
   "source": [
    "# Find out the methods can be used on the object first_rectangle\n",
    "\n",
    "dir(first_rectangle)"
   ]
  },
  {
   "cell_type": "markdown",
   "metadata": {},
   "source": [
    "Now we are going to create a class <code>Rectangle</code> with some functional methods in it, but first, we are going to import a library to draw the objects: "
   ]
  },
  {
   "cell_type": "code",
   "execution_count": null,
   "metadata": {},
   "outputs": [],
   "source": [
    "# Import the library\n",
    "\n",
    "import matplotlib.pyplot as plt\n",
    "%matplotlib inline  "
   ]
  },
  {
   "cell_type": "code",
   "execution_count": null,
   "metadata": {},
   "outputs": [],
   "source": [
    "# Create a class Rectangle\n",
    "class Rectangle(object):\n",
    "    \n",
    "    # Constructor\n",
    "    def __init__(self, color, length, width):\n",
    "        self.color = color\n",
    "        self.length = length\n",
    "        self.width = width\n",
    "        \n",
    "    # Method\n",
    "    def area(self):\n",
    "        return self.length * self.width\n",
    "    \n",
    "    # In this method, we replaced 'self' with 'the_referenced_object'\n",
    "    def perimeter(the_referenced_object):\n",
    "        return 2 * (the_referenced_object.length + the_referenced_object.width)\n",
    "    \n",
    "    # Method from matplotlib.pyplot\n",
    "    def drawRectangle(self):\n",
    "        rectangle = plt.Rectangle((0, 0), self.length, self.width, fc=self.color)\n",
    "        plt.gca().add_patch(rectangle)\n",
    "        plt.axis('scaled')\n",
    "        plt.show()"
   ]
  },
  {
   "cell_type": "code",
   "execution_count": null,
   "metadata": {},
   "outputs": [],
   "source": [
    "first_rectangle = Rectangle('skyblue', 15, 20)"
   ]
  },
  {
   "cell_type": "code",
   "execution_count": null,
   "metadata": {},
   "outputs": [],
   "source": [
    "print('Area of rectangle is: {}'.format(first_rectangle.area()))"
   ]
  },
  {
   "cell_type": "markdown",
   "metadata": {},
   "source": [
    "When we ran the above line of code, our object was `first_rectangle`, so when `area` was called, Python in fact called the method `area` in the Rectangle class automatically passing `first_rectangle` to the `self` parameter.\n",
    "\n",
    "This is why we can use a name other than self, such as in the perimeter method:"
   ]
  },
  {
   "cell_type": "code",
   "execution_count": null,
   "metadata": {},
   "outputs": [],
   "source": [
    "print('Perimeter of rectangle is: {}'.format(first_rectangle.perimeter()))"
   ]
  },
  {
   "cell_type": "code",
   "execution_count": null,
   "metadata": {},
   "outputs": [],
   "source": [
    "first_rectangle.drawRectangle()"
   ]
  },
  {
   "cell_type": "markdown",
   "metadata": {},
   "source": [
    "#### Special Methods"
   ]
  },
  {
   "cell_type": "markdown",
   "metadata": {},
   "source": [
    "Python defines a bunch of **special** methods that we can use to give our classes functionality that resembles functionality of built-in and standard library objects.\n",
    "\n",
    "Many people refer to them as <b><i>magic</i></b> methods, but there's nothing magical about them - unlike magic, they are well documented and understood!!\n",
    "\n",
    "These **special** methods provide us an easy way to overload operators in Python."
   ]
  },
  {
   "cell_type": "markdown",
   "metadata": {},
   "source": [
    "For example, we can obtain the string representation of an integer using the built-in `str` function:"
   ]
  },
  {
   "cell_type": "code",
   "execution_count": null,
   "metadata": {},
   "outputs": [],
   "source": [
    "str(10)"
   ]
  },
  {
   "cell_type": "markdown",
   "metadata": {},
   "source": [
    "What happens if we try this with our Rectangle object?"
   ]
  },
  {
   "cell_type": "code",
   "execution_count": null,
   "metadata": {},
   "outputs": [],
   "source": [
    "str(first_rectangle)"
   ]
  },
  {
   "cell_type": "markdown",
   "metadata": {},
   "source": [
    "Not exactly what we might have expected. On the other hand, how is Python supposed to know how to display our rectangle as a string?\n",
    "\n",
    "We could write a method in the class such as:"
   ]
  },
  {
   "cell_type": "code",
   "execution_count": null,
   "metadata": {},
   "outputs": [],
   "source": [
    "# Create a class Rectangle\n",
    "class Rectangle(object):\n",
    "    \n",
    "    # Constructor\n",
    "    def __init__(self, color, length, width):\n",
    "        self.color = color\n",
    "        self.length = length\n",
    "        self.width = width\n",
    "        \n",
    "    # Method\n",
    "    def area(self):\n",
    "        return self.length * self.width\n",
    "    \n",
    "    # In this method, we replaced 'self' with 'the_referenced_object'\n",
    "    def perimeter(the_referenced_object):\n",
    "        return 2 * (the_referenced_object.length + the_referenced_object.width)\n",
    "    \n",
    "    # Method from matplotlib.pyplot\n",
    "    def drawRectangle(self):\n",
    "        rectangle = plt.Rectangle((0, 0), self.length, self.width, fc=self.color)\n",
    "        plt.gca().add_patch(rectangle)\n",
    "        plt.axis('scaled')\n",
    "        plt.show()\n",
    "        \n",
    "    # Method\n",
    "    def to_str(self):\n",
    "        return 'Rectangle (width={0}, length={1})'.format(self.width, self.length)"
   ]
  },
  {
   "cell_type": "markdown",
   "metadata": {},
   "source": [
    "So now we could get a string from our object as follows:"
   ]
  },
  {
   "cell_type": "code",
   "execution_count": null,
   "metadata": {},
   "outputs": [],
   "source": [
    "first_rectangle = Rectangle('skyblue', 15, 20)\n",
    "first_rectangle.to_str()"
   ]
  },
  {
   "cell_type": "markdown",
   "metadata": {},
   "source": [
    "But of course, using the built-in `str` function still does not work:"
   ]
  },
  {
   "cell_type": "code",
   "execution_count": null,
   "metadata": {},
   "outputs": [],
   "source": [
    "str(first_rectangle)"
   ]
  },
  {
   "cell_type": "markdown",
   "metadata": {},
   "source": [
    "Does this mean we are out of luck, and anyone who writes a class in Python will need to provide some method to do this, and probably come up with their own name for the method too, maybe `to_str`, `make_string`, `stringify`, and who knows what else."
   ]
  },
  {
   "cell_type": "markdown",
   "metadata": {},
   "source": [
    "Fortunately, this is where these special methods come in. \n",
    "<span class=\"note\">When we call `str(r1)`, Python will first look to see if our class (`Rectangle`) has a special method called `__str__`.<br><br>\n",
    "    If the `__str__` method is present, then Python will call it and return that value.\n",
    "</span>\n",
    "There's actually another one called `__repr__` which is related, but we'll just focus on `__str__` for now."
   ]
  },
  {
   "cell_type": "code",
   "execution_count": null,
   "metadata": {},
   "outputs": [],
   "source": [
    "# Create a class Rectangle\n",
    "class Rectangle(object):\n",
    "    \n",
    "    # Constructor\n",
    "    def __init__(self, color, length, width):\n",
    "        self.color = color\n",
    "        self.length = length\n",
    "        self.width = width\n",
    "        \n",
    "    # Method\n",
    "    def area(self):\n",
    "        return self.length * self.width\n",
    "    \n",
    "    # In this method, we replaced 'self' with 'the_referenced_object'\n",
    "    def perimeter(the_referenced_object):\n",
    "        return 2 * (the_referenced_object.length + the_referenced_object.width)\n",
    "    \n",
    "    # Method from matplotlib.pyplot\n",
    "    def drawRectangle(self):\n",
    "        rectangle = plt.Rectangle((0, 0), self.length, self.width, fc=self.color)\n",
    "        plt.gca().add_patch(rectangle)\n",
    "        plt.axis('scaled')\n",
    "        plt.show()\n",
    "        \n",
    "    # Method\n",
    "    def __str__(self):\n",
    "        return 'Rectangle (width={0}, length={1}, color={2})'.format(self.length, self.width, self.color)"
   ]
  },
  {
   "cell_type": "code",
   "execution_count": null,
   "metadata": {},
   "outputs": [],
   "source": [
    "first_rectangle = Rectangle('skyblue', 15, 20)\n",
    "str(first_rectangle)"
   ]
  },
  {
   "cell_type": "markdown",
   "metadata": {},
   "source": [
    "However, in Jupyter (and interactive console if you are using that), look what happens here:"
   ]
  },
  {
   "cell_type": "code",
   "execution_count": null,
   "metadata": {},
   "outputs": [],
   "source": [
    "first_rectangle"
   ]
  },
  {
   "cell_type": "markdown",
   "metadata": {},
   "source": [
    "As you can see we still get that default. That's because here Python is not converting `first_rectangle` to a string, but instead looking for a string *representation* of the object. It is looking for the `__repr__` method (which we'll come back to later)."
   ]
  },
  {
   "cell_type": "code",
   "execution_count": null,
   "metadata": {},
   "outputs": [],
   "source": [
    "# Create a class Rectangle\n",
    "class Rectangle(object):\n",
    "    \n",
    "    '''We have now instantiated our Rectangle object'''\n",
    "    # Constructor\n",
    "    def __init__(self, color, length, width):\n",
    "        self.color = color\n",
    "        self.length = length\n",
    "        self.width = width\n",
    "        \n",
    "    # Method\n",
    "    def area(self):\n",
    "        return self.length * self.width\n",
    "    \n",
    "    # In this method, we replaced 'self' with 'the_referenced_object'\n",
    "    def perimeter(the_referenced_object):\n",
    "        return 2 * (the_referenced_object.length + the_referenced_object.width)\n",
    "    \n",
    "    # Method from matplotlib.pyplot\n",
    "    def drawRectangle(self):\n",
    "        rectangle = plt.Rectangle((0, 0), self.length, self.width, fc=self.color)\n",
    "        plt.gca().add_patch(rectangle)\n",
    "        plt.axis('scaled')\n",
    "        plt.show()\n",
    "        \n",
    "    # Method\n",
    "    def __str__(self):\n",
    "        return 'Rectangle (width={0}, length={1}, color={2})'.format(self.length, self.width, self.color)\n",
    "\n",
    "    # Method\n",
    "    def __repr__(self):\n",
    "        return 'Rectangle({0}, {1}, {2})'.format(self.length, self.width, self.color)"
   ]
  },
  {
   "cell_type": "code",
   "execution_count": null,
   "metadata": {},
   "outputs": [],
   "source": [
    "first_rectangle = Rectangle('skyblue', 15, 20)"
   ]
  },
  {
   "cell_type": "code",
   "execution_count": null,
   "metadata": {},
   "outputs": [],
   "source": [
    "print(first_rectangle)  # uses __str__"
   ]
  },
  {
   "cell_type": "code",
   "execution_count": null,
   "metadata": {},
   "outputs": [],
   "source": [
    "first_rectangle  # uses __repr__"
   ]
  },
  {
   "cell_type": "code",
   "execution_count": null,
   "metadata": {},
   "outputs": [],
   "source": [
    "first_rectangle.__doc__  # calls __init__ docstring"
   ]
  },
  {
   "cell_type": "markdown",
   "metadata": {},
   "source": [
    "##### How about the comparison operators, such as `==` or `<`  ?"
   ]
  },
  {
   "cell_type": "code",
   "execution_count": null,
   "metadata": {},
   "outputs": [],
   "source": [
    "first_rectangle = Rectangle('green', 10, 20)\n",
    "second_rectangle = Rectangle('blue', 3, 5)"
   ]
  },
  {
   "cell_type": "code",
   "execution_count": null,
   "metadata": {},
   "outputs": [],
   "source": [
    "first_rectangle == second_rectangle"
   ]
  },
  {
   "cell_type": "markdown",
   "metadata": {},
   "source": [
    "As you can see, Python does not consider `first_rectangle` and `second_rectangle` as equal (using the `==` operator). Again,<span class=\"note\"> how is Python supposed to know that two Rectangle objects with the same height and width should be considered equal?</span>"
   ]
  },
  {
   "cell_type": "markdown",
   "metadata": {},
   "source": [
    "<span class=\"mark\">We just need to tell Python how to do it, using the special method `__eq__`.</span>"
   ]
  },
  {
   "cell_type": "code",
   "execution_count": null,
   "metadata": {},
   "outputs": [],
   "source": [
    "# Create a class Rectangle\n",
    "class Rectangle(object):\n",
    "    \n",
    "    # Constructor\n",
    "    def __init__(self, color, length, width):\n",
    "        self.color = color\n",
    "        self.length = length\n",
    "        self.width = width\n",
    "        \n",
    "    # Method\n",
    "    def area(self):\n",
    "        return self.length * self.width\n",
    "    \n",
    "    # In this method, we replaced 'self' with 'the_referenced_object'\n",
    "    def perimeter(the_referenced_object):\n",
    "        return 2 * (the_referenced_object.length + the_referenced_object.width)\n",
    "    \n",
    "    # Method from matplotlib.pyplot\n",
    "    def drawRectangle(self):\n",
    "        rectangle = plt.Rectangle((0, 0), self.length, self.width, fc=self.color)\n",
    "        plt.gca().add_patch(rectangle)\n",
    "        plt.axis('scaled')\n",
    "        plt.show()\n",
    "        \n",
    "    # Method\n",
    "    def __str__(self):\n",
    "        return 'Rectangle (width={0}, length={1}, color={2})'.format(self.length, self.width, self.color)\n",
    "\n",
    "    # Method\n",
    "    def __repr__(self):\n",
    "        return 'Rectangle({0}, {1}, {2})'.format(self.length, self.width, self.color)\n",
    "    \n",
    "    # Method\n",
    "    def __eq__(self, other):\n",
    "        print('self={0}, other={1}'.format(self, other))\n",
    "        if isinstance(other, Rectangle):\n",
    "            return (self.length, self.width, self.color) == (other.length, other.width, other.color)\n",
    "        else:\n",
    "            return False"
   ]
  },
  {
   "cell_type": "code",
   "execution_count": null,
   "metadata": {},
   "outputs": [],
   "source": [
    "first_rectangle = Rectangle('green', 10, 20)\n",
    "second_rectangle = Rectangle('blue', 3, 5)"
   ]
  },
  {
   "cell_type": "code",
   "execution_count": null,
   "metadata": {},
   "outputs": [],
   "source": [
    "first_rectangle is second_rectangle"
   ]
  },
  {
   "cell_type": "code",
   "execution_count": null,
   "metadata": {},
   "outputs": [],
   "source": [
    "first_rectangle == second_rectangle"
   ]
  },
  {
   "cell_type": "code",
   "execution_count": null,
   "metadata": {},
   "outputs": [],
   "source": [
    "third_rectangle = Rectangle('white', 8, 15)"
   ]
  },
  {
   "cell_type": "code",
   "execution_count": null,
   "metadata": {},
   "outputs": [],
   "source": [
    "first_rectangle == third_rectangle"
   ]
  },
  {
   "cell_type": "markdown",
   "metadata": {},
   "source": [
    "And if we try to compare our Rectangle to a different type:"
   ]
  },
  {
   "cell_type": "code",
   "execution_count": null,
   "metadata": {},
   "outputs": [],
   "source": [
    "first_rectangle == 100"
   ]
  },
  {
   "cell_type": "markdown",
   "metadata": {},
   "source": [
    "<div class=\"note\">\n",
    "    What about <code>&lt;</code>, <code>&gt;</code>, <code>&lt;=</code>, etc.?<br>\n",
    "Again, Python has special methods we can use to provide that functionality.\n",
    "<br>\n",
    "These are methods such as <code>&lowbar;&lowbar;lt&lowbar;&lowbar;</code>, <code>&lowbar;&lowbar;gt&lowbar;&lowbar;</code>, <code>&lowbar;&lowbar;le&lowbar;&lowbar;</code>, etc.\n",
    "</div>"
   ]
  },
  {
   "cell_type": "code",
   "execution_count": null,
   "metadata": {},
   "outputs": [],
   "source": [
    "# Create a class Rectangle\n",
    "class Rectangle(object):\n",
    "    \n",
    "    # Constructor\n",
    "    def __init__(self, color, length, width):\n",
    "        self.color = color\n",
    "        self.length = length\n",
    "        self.width = width\n",
    "        \n",
    "    # Method\n",
    "    def area(self):\n",
    "        return self.length * self.width\n",
    "    \n",
    "    # In this method, we replaced 'self' with 'the_referenced_object'\n",
    "    def perimeter(the_referenced_object):\n",
    "        return 2 * (the_referenced_object.length + the_referenced_object.width)\n",
    "    \n",
    "    # Method from matplotlib.pyplot\n",
    "    def drawRectangle(self):\n",
    "        rectangle = plt.Rectangle((0, 0), self.length, self.width, fc=self.color)\n",
    "        plt.gca().add_patch(rectangle)\n",
    "        plt.axis('scaled')\n",
    "        plt.show()\n",
    "\n",
    "    def __str__(self):\n",
    "        return 'Rectangle (width={0}, length={1}, color={2})'.format(self.length, self.width, self.color)\n",
    "\n",
    "    def __repr__(self):\n",
    "        return 'Rectangle({0}, {1}, {2})'.format(self.length, self.width, self.color)\n",
    "\n",
    "    def __eq__(self, other):\n",
    "        print('self={0}, other={1}'.format(self, other))\n",
    "        if isinstance(other, Rectangle):\n",
    "            return (self.length, self.width, self.color) == (other.length, other.width, other.color)\n",
    "        else:\n",
    "            return False\n",
    "        \n",
    "    def __lt__(self, other):\n",
    "        if isinstance(other, Rectangle):\n",
    "            return self.area() < other.area()\n",
    "        else:\n",
    "            return NotImplemented"
   ]
  },
  {
   "cell_type": "code",
   "execution_count": null,
   "metadata": {},
   "outputs": [],
   "source": [
    "first_rectangle = Rectangle('green', 10, 20)\n",
    "second_rectangle = Rectangle('blue', 3, 5)"
   ]
  },
  {
   "cell_type": "code",
   "execution_count": null,
   "metadata": {},
   "outputs": [],
   "source": [
    "first_rectangle < second_rectangle"
   ]
  },
  {
   "cell_type": "code",
   "execution_count": null,
   "metadata": {},
   "outputs": [],
   "source": [
    "second_rectangle < first_rectangle"
   ]
  },
  {
   "cell_type": "markdown",
   "metadata": {},
   "source": [
    "<span class=\"note\">What about <b>`>`</b> ?</span>"
   ]
  },
  {
   "cell_type": "code",
   "execution_count": null,
   "metadata": {},
   "outputs": [],
   "source": [
    "first_rectangle > second_rectangle"
   ]
  },
  {
   "cell_type": "markdown",
   "metadata": {},
   "source": [
    "<span class=\"mark\">How did that work? We did not define a `__gt__` method.</span>\n",
    "\n",
    "Well, Python cleverly decided that since `first_rectangle > second_rectangle` was not implemented, it would give `second_rectangle < first_rectangle` a try. And since, `__lt__` **is** defined, it worked!"
   ]
  },
  {
   "cell_type": "markdown",
   "metadata": {},
   "source": [
    "Of course, `<=` is not going to magically work!"
   ]
  },
  {
   "cell_type": "code",
   "execution_count": null,
   "metadata": {},
   "outputs": [],
   "source": [
    "first_rectangle <= second_rectangle"
   ]
  },
  {
   "cell_type": "markdown",
   "metadata": {},
   "source": [
    "If you come from a Java background, you are probably thinking that using \"bare\" properties (direct access), such as `height` and `width` is a terrible design idea.\n",
    "\n",
    "It is for Java, but not for Python.\n",
    "\n",
    "Although you can use bare properties in Java, if you ever need to intercept the getting or setting of a property, you will need to write a method (such as `getWidth` and `setWidth`. The problem is that if you used a bare `width` property for example, a lot of your code might be using `obj.width` (as we have been doing here). The instant you make the `width` private and instead implement getters and setters, you break your code.\n",
    "Hence one of the reasons why in Java we just write getters and setters for properties from the beginning.\n",
    "\n",
    "With Python this is not the case - we can change any bare property into getters and setters without breaking the code that uses that bare property.\n",
    "\n",
    "I'll show you a quick example here, but we'll come back to this topic in much more detail later."
   ]
  },
  {
   "cell_type": "markdown",
   "metadata": {},
   "source": [
    "Let's take our Rectangle class once again. We will use a simplified version to keep the code short."
   ]
  },
  {
   "cell_type": "code",
   "execution_count": null,
   "metadata": {},
   "outputs": [],
   "source": [
    "# Create a class Rectangle\n",
    "class Rectangle(object):\n",
    "    \n",
    "    # Constructor\n",
    "    def __init__(self, color, length, width):\n",
    "        self.color = color\n",
    "        self.length = length\n",
    "        self.width = width\n",
    "    \n",
    "    def __repr__(self):\n",
    "        return 'Rectangle({0}, {1}, {2})'.format(self.length, self.width, self.color)"
   ]
  },
  {
   "cell_type": "code",
   "execution_count": null,
   "metadata": {},
   "outputs": [],
   "source": [
    "first_rectangle = Rectangle('green', 10, 20)"
   ]
  },
  {
   "cell_type": "code",
   "execution_count": null,
   "metadata": {},
   "outputs": [],
   "source": [
    "first_rectangle.width"
   ]
  },
  {
   "cell_type": "code",
   "execution_count": null,
   "metadata": {},
   "outputs": [],
   "source": [
    "first_rectangle.width = 50"
   ]
  },
  {
   "cell_type": "code",
   "execution_count": null,
   "metadata": {},
   "outputs": [],
   "source": [
    "first_rectangle"
   ]
  },
  {
   "cell_type": "markdown",
   "metadata": {},
   "source": [
    "As you saw we can *get* and *set* the `width` property directly.\n",
    "\n",
    "But let's say after this code has been released for a while and users of our class have been using it (and specifically setting and getting the `width` and `height` attribute a lot), but now we want to make sure users cannot set a non-positive value (i.e. <= 0) for width (or height, but we'll focus on width as an example)."
   ]
  },
  {
   "cell_type": "markdown",
   "metadata": {},
   "source": [
    "In a language like Java, we would implement `getWidth` and `setWidth` and make `width` private - which would break any code directly accessing the `width` property."
   ]
  },
  {
   "cell_type": "markdown",
   "metadata": {},
   "source": [
    "In Python we can use some special **decorators** (more on those later) to encapsulate our property getters and setters:"
   ]
  },
  {
   "cell_type": "code",
   "execution_count": null,
   "metadata": {},
   "outputs": [],
   "source": [
    "# Create a class Rectangle\n",
    "class Rectangle(object):\n",
    "    \n",
    "    # Constructor\n",
    "    def __init__(self, color, length, width):\n",
    "        self.color = color\n",
    "        self.length = length\n",
    "        self.width = width\n",
    "    \n",
    "    def __repr__(self):\n",
    "        return 'Rectangle({0}, {1}, {2})'.format(self.length, self.width, self.color)\n",
    "    \n",
    "    @property\n",
    "    def length(self):\n",
    "        return self._length\n",
    "    \n",
    "    @length.setter\n",
    "    def length(self, length):\n",
    "        if length <= 0:\n",
    "            raise ValueError('Length must be positive.')\n",
    "        self._length = length\n",
    "    \n",
    "    @property\n",
    "    def width(self):\n",
    "        return self._width\n",
    "    \n",
    "    @width.setter\n",
    "    def width(self, width):\n",
    "        if width <= 0:\n",
    "            raise ValueError('Width must be positive.')\n",
    "        self._width = width"
   ]
  },
  {
   "cell_type": "code",
   "execution_count": null,
   "metadata": {},
   "outputs": [],
   "source": [
    "first_rectangle = Rectangle('green', 10, 20)"
   ]
  },
  {
   "cell_type": "code",
   "execution_count": null,
   "metadata": {},
   "outputs": [],
   "source": [
    "first_rectangle.width"
   ]
  },
  {
   "cell_type": "code",
   "execution_count": null,
   "metadata": {},
   "outputs": [],
   "source": [
    "first_rectangle.width = 50"
   ]
  },
  {
   "cell_type": "code",
   "execution_count": null,
   "metadata": {},
   "outputs": [],
   "source": [
    "first_rectangle"
   ]
  },
  {
   "cell_type": "code",
   "execution_count": null,
   "metadata": {},
   "outputs": [],
   "source": [
    "first_rectangle.width = -50"
   ]
  },
  {
   "cell_type": "code",
   "execution_count": null,
   "metadata": {},
   "outputs": [],
   "source": [
    "# Create a class Rectangle\n",
    "class Rectangle(object):\n",
    "    \n",
    "    # Constructor\n",
    "    # Inititalizing rectangle with default color to be white\n",
    "    def __init__(self, length, width, color = 'white'):\n",
    "        self._color = color\n",
    "        self._length = None\n",
    "        self._width = None\n",
    "        \n",
    "        # now we call our accessor methods to set the color, width and height\n",
    "        self.color = color\n",
    "        self.length = length\n",
    "        self.width = width\n",
    "    \n",
    "    def __repr__(self):\n",
    "        return 'Rectangle({0}, {1}, {2})'.format(self.length, self.width, self.color)\n",
    "    \n",
    "    @property\n",
    "    def color(self):\n",
    "        return self._color\n",
    "    \n",
    "    @color.setter\n",
    "    def color(self, color):\n",
    "        if (color == None or color == ''):\n",
    "            raise ValueError('We got rectangle in white color.')\n",
    "        self._color = color\n",
    "    \n",
    "    @property\n",
    "    def length(self):\n",
    "        return self._length\n",
    "    \n",
    "    @length.setter\n",
    "    def length(self, length):\n",
    "        if length <= 0:\n",
    "            raise ValueError('Length must be positive.')\n",
    "        self._length = length\n",
    "    \n",
    "    @property\n",
    "    def width(self):\n",
    "        return self._width\n",
    "    \n",
    "    @width.setter\n",
    "    def width(self, width):\n",
    "        if width <= 0:\n",
    "            raise ValueError('Width must be positive.')\n",
    "        self._width = width"
   ]
  },
  {
   "cell_type": "code",
   "execution_count": null,
   "metadata": {},
   "outputs": [],
   "source": [
    "first_rectangle = Rectangle(0, 20, 'green')"
   ]
  },
  {
   "cell_type": "code",
   "execution_count": null,
   "metadata": {},
   "outputs": [],
   "source": [
    "first_rectangle = Rectangle(10, -20, 'orange')"
   ]
  },
  {
   "cell_type": "code",
   "execution_count": null,
   "metadata": {},
   "outputs": [],
   "source": [
    "first_rectangle = Rectangle(10, 20, '')"
   ]
  },
  {
   "cell_type": "code",
   "execution_count": null,
   "metadata": {},
   "outputs": [],
   "source": [
    "first_rectangle = Rectangle(10, 20, 'blue')\n",
    "first_rectangle"
   ]
  },
  {
   "cell_type": "code",
   "execution_count": null,
   "metadata": {},
   "outputs": [],
   "source": [
    "\"\"\" See how our rectangle objects gets default white color, \n",
    "    whenever we do not pass any color as parameter in constructor\n",
    "\"\"\"\n",
    "first_rectangle = Rectangle(10, 20)\n",
    "first_rectangle"
   ]
  },
  {
   "cell_type": "markdown",
   "metadata": {},
   "source": [
    "There more we should be doing, like checking that the width and height being passed in are numeric types, and so on. Especially during the `__init__` phase - we would rather raise an exception when the object is being created rather than delay things and raise an exception when the user calls some method like `area` - that way the exception will be on the line that creates the object - makes debugging much easier!"
   ]
  }
 ],
 "metadata": {
  "kernelspec": {
   "display_name": "Python 3",
   "language": "python",
   "name": "python3"
  },
  "language_info": {
   "codemirror_mode": {
    "name": "ipython",
    "version": 3
   },
   "file_extension": ".py",
   "mimetype": "text/x-python",
   "name": "python",
   "nbconvert_exporter": "python",
   "pygments_lexer": "ipython3",
   "version": "3.7.4"
  }
 },
 "nbformat": 4,
 "nbformat_minor": 2
}
