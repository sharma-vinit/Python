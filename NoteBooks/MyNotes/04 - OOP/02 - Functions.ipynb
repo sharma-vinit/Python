{
 "cells": [
  {
   "cell_type": "code",
   "execution_count": 2,
   "metadata": {},
   "outputs": [
    {
     "data": {
      "text/html": [
       "\n",
       "<script>\n",
       "//https://jupyter-notebook.readthedocs.io/en/latest/examples/Notebook/JavaScript%20Notebook%20Extensions.html\n",
       "$('#run_all_cells, #run_all_cells_above, #run_all_cells_below').click(function() {\n",
       "    setTimeout(function() {\n",
       "        // Find running cell and click the first one\n",
       "        if ($('.running').length > 0) {\n",
       "            $('.running')[0].click();\n",
       "        }        \n",
       "    }, 250);\n",
       "});\n",
       "\n",
       "code_show=true; \n",
       "function code_toggle() {\n",
       "    if (code_show){\n",
       "        $('div.cell.code_cell.rendered.selected div.input').hide();\n",
       "        //$('.hide_iframe').parents('div.inner_cell').parents('div.cell.text_cell').hide();\n",
       "        //$('.hide_iframe').parents('div.inner_cell').parents('div.cell.text_cell').next().children('.input').hide();\n",
       "    } else {\n",
       "        $('div.cell.code_cell.rendered.selected div.input').show();\n",
       "        //$('.hide_iframe').parents('div.inner_cell').parents('div.cell.text_cell').show();\n",
       "        //$('.hide_iframe').parents('div.inner_cell').parents('div.cell.text_cell').next().children('.input').show();\n",
       "    }\n",
       "    code_show = !code_show\n",
       "} \n",
       "$( document).ready(code_toggle);\n",
       "\n",
       "</script>\n",
       "\n",
       "<style>\n",
       "    @import url('https://fonts.googleapis.com/css?family=Raleway&display=swap');\n",
       "    \n",
       "    div.text_cell_render h1 { /* Main titles bigger, centered */\n",
       "        font-size: 2.2em;\n",
       "        line-height:1.4em;\n",
       "        text-align:center;\n",
       "        color: #00090d;\n",
       "    }\n",
       "    div.text_cell_render h2 { /*  Parts names nearer from text */\n",
       "        font-size: 1.8em;\n",
       "        color:#f2f2f2;;\n",
       "        border-radius: 3px;\n",
       "        background: #2b916a;\n",
       "        padding: 15px;\n",
       "        width: 99%;\n",
       "        height: 2em;\n",
       "    }\n",
       "    div.text_cell_render h3 { /*  Parts names nearer from text */\n",
       "        font-size: 1.5em;\n",
       "        color:#f2f2f2;\n",
       "        background: #1eb4a6;\n",
       "        border-radius: 3px;\n",
       "        padding: 15px;\n",
       "        width: 99%;\n",
       "        height: 2em;\n",
       "    }\n",
       "    div.text_cell_render h4 { /*  Parts names nearer from text */\n",
       "        font-size: 1.2em; \n",
       "        font-style: normal;\n",
       "        color:#f2f2f2;;\n",
       "        border-radius: 3px;\n",
       "        background: #008874;\n",
       "        padding: 5px;\n",
       "        display: inline-block;\n",
       "    }\n",
       "    div.text_cell_render h5 { /*  Parts names nearer from text */\n",
       "        font-size: 1em;\n",
       "        font-style: normal;\n",
       "        color:#f2f2f2;;\n",
       "        border-radius: 3px;\n",
       "        background: #0070b8;\n",
       "        padding: 5px;\n",
       "        display: inline-block;\n",
       "    }\n",
       "    div.text_cell_render h6 { /*  Parts names nearer from text */\n",
       "        font-size: 1em;\n",
       "        color: #0082a3;\n",
       "        font-style: normal;\n",
       "    }\n",
       "    \n",
       "    /* Customize text cells */\n",
       "    div.text_cell_render { \n",
       "        font-family: 'Raleway', sans-serif;\n",
       "        text-align: justify;\n",
       "    }    \n",
       "    \n",
       "    p,li,span {\n",
       "        color:#0f0f0f;\n",
       "        text-align: justify;\n",
       "    }\n",
       "       \n",
       "    .text_cell_render,.rendered_html {\n",
       "        font-style: normal;\n",
       "        text-align: justify;\n",
       "    }\n",
       "    \n",
       "    .link_background {\n",
       "        color: #f2f2f2;\n",
       "    }\n",
       "\n",
       "    .box {\n",
       "      border-radius: 3px;\n",
       "      border: 2px solid #60b985;\n",
       "      padding: 20px;\n",
       "      width: 99%;\n",
       "      height: 2em;\n",
       "    }\n",
       "\n",
       "    .key {\n",
       "        color: #fdfdfd;\n",
       "        background-color: #d37a7a;\n",
       "        padding: 3px;\n",
       "    }\n",
       "    .highlight{\n",
       "        color:#ca5e5e;\n",
       "        background-color: #fbfacb;\n",
       "        padding: 3px;\n",
       "    }\n",
       "    .mark{\n",
       "        background-color: #f1d3d3;\n",
       "        padding: 3px;\n",
       "    }\n",
       "    .note{\n",
       "        background-color: #d9f3d8;\n",
       "        color: #333333;\n",
       "        padding: 3px;\n",
       "    }\n",
       "    \n",
       "    .grow{\n",
       "        font-size: 2em;\n",
       "        font-weight: bold;\n",
       "        color: #b31919;\n",
       "    }\n",
       "</style>\n",
       "To show/hide this cell's raw code input, click <a href=\"javascript:code_toggle()\">here</a>.\n",
       "<a id=\"button\"></a>"
      ],
      "text/plain": [
       "<IPython.core.display.HTML object>"
      ]
     },
     "metadata": {},
     "output_type": "display_data"
    }
   ],
   "source": [
    "from IPython.display import HTML\n",
    "from IPython.display import display\n",
    "\n",
    "# Taken from https://stackoverflow.com/questions/31517194/how-to-hide-one-specific-cell-input-or-output-in-ipython-notebook\n",
    "tag = HTML('''\n",
    "<script>\n",
    "//https://jupyter-notebook.readthedocs.io/en/latest/examples/Notebook/JavaScript%20Notebook%20Extensions.html\n",
    "$('#run_all_cells, #run_all_cells_above, #run_all_cells_below').click(function() {\n",
    "    setTimeout(function() {\n",
    "        // Find running cell and click the first one\n",
    "        if ($('.running').length > 0) {\n",
    "            $('.running')[0].click();\n",
    "        }        \n",
    "    }, 250);\n",
    "});\n",
    "\n",
    "code_show=true; \n",
    "function code_toggle() {\n",
    "    if (code_show){\n",
    "        $('div.cell.code_cell.rendered.selected div.input').hide();\n",
    "        //$('.hide_iframe').parents('div.inner_cell').parents('div.cell.text_cell').hide();\n",
    "        //$('.hide_iframe').parents('div.inner_cell').parents('div.cell.text_cell').next().children('.input').hide();\n",
    "    } else {\n",
    "        $('div.cell.code_cell.rendered.selected div.input').show();\n",
    "        //$('.hide_iframe').parents('div.inner_cell').parents('div.cell.text_cell').show();\n",
    "        //$('.hide_iframe').parents('div.inner_cell').parents('div.cell.text_cell').next().children('.input').show();\n",
    "    }\n",
    "    code_show = !code_show\n",
    "} \n",
    "$( document).ready(code_toggle);\n",
    "\n",
    "</script>\n",
    "\n",
    "<style>\n",
    "    @import url('https://fonts.googleapis.com/css?family=Raleway&display=swap');\n",
    "    \n",
    "    div.text_cell_render h1 { /* Main titles bigger, centered */\n",
    "        font-size: 2.2em;\n",
    "        line-height:1.4em;\n",
    "        text-align:center;\n",
    "        color: #00090d;\n",
    "    }\n",
    "    div.text_cell_render h2 { /*  Parts names nearer from text */\n",
    "        font-size: 1.8em;\n",
    "        color:#f2f2f2;;\n",
    "        border-radius: 3px;\n",
    "        background: #2b916a;\n",
    "        padding: 15px;\n",
    "        width: 99%;\n",
    "        height: 2em;\n",
    "    }\n",
    "    div.text_cell_render h3 { /*  Parts names nearer from text */\n",
    "        font-size: 1.5em;\n",
    "        color:#f2f2f2;\n",
    "        background: #1eb4a6;\n",
    "        border-radius: 3px;\n",
    "        padding: 15px;\n",
    "        width: 99%;\n",
    "        height: 2em;\n",
    "    }\n",
    "    div.text_cell_render h4 { /*  Parts names nearer from text */\n",
    "        font-size: 1.2em; \n",
    "        font-style: normal;\n",
    "        color:#f2f2f2;;\n",
    "        border-radius: 3px;\n",
    "        background: #008874;\n",
    "        padding: 5px;\n",
    "        display: inline-block;\n",
    "    }\n",
    "    div.text_cell_render h5 { /*  Parts names nearer from text */\n",
    "        font-size: 1em;\n",
    "        font-style: normal;\n",
    "        color:#f2f2f2;;\n",
    "        border-radius: 3px;\n",
    "        background: #0070b8;\n",
    "        padding: 5px;\n",
    "        display: inline-block;\n",
    "    }\n",
    "    div.text_cell_render h6 { /*  Parts names nearer from text */\n",
    "        font-size: 1em;\n",
    "        color: #0082a3;\n",
    "        font-style: normal;\n",
    "    }\n",
    "    \n",
    "    /* Customize text cells */\n",
    "    div.text_cell_render { \n",
    "        font-family: 'Raleway', sans-serif;\n",
    "        text-align: justify;\n",
    "    }    \n",
    "    \n",
    "    p,li,span {\n",
    "        color:#0f0f0f;\n",
    "        text-align: justify;\n",
    "    }\n",
    "       \n",
    "    .text_cell_render,.rendered_html {\n",
    "        font-style: normal;\n",
    "        text-align: justify;\n",
    "    }\n",
    "    \n",
    "    .link_background {\n",
    "        color: #f2f2f2;\n",
    "    }\n",
    "\n",
    "    .box {\n",
    "      border-radius: 3px;\n",
    "      border: 2px solid #60b985;\n",
    "      padding: 20px;\n",
    "      width: 99%;\n",
    "      height: 2em;\n",
    "    }\n",
    "\n",
    "    .key {\n",
    "        color: #fdfdfd;\n",
    "        background-color: #d37a7a;\n",
    "        padding: 3px;\n",
    "    }\n",
    "    .highlight{\n",
    "        color:#ca5e5e;\n",
    "        background-color: #fbfacb;\n",
    "        padding: 3px;\n",
    "    }\n",
    "    .mark{\n",
    "        background-color: #f1d3d3;\n",
    "        padding: 3px;\n",
    "    }\n",
    "    .note{\n",
    "        background-color: #d9f3d8;\n",
    "        color: #333333;\n",
    "        padding: 3px;\n",
    "    }\n",
    "    \n",
    "    .grow{\n",
    "        font-size: 2em;\n",
    "        font-weight: bold;\n",
    "        color: #b31919;\n",
    "    }\n",
    "</style>\n",
    "To show/hide this cell's raw code input, click <a href=\"javascript:code_toggle()\">here</a>.\n",
    "<a id=\"button\"></a>''')\n",
    "display(tag)\n",
    "\n",
    "############### Write code below ##################"
   ]
  },
  {
   "cell_type": "markdown",
   "metadata": {},
   "source": [
    "# Functions"
   ]
  },
  {
   "cell_type": "markdown",
   "metadata": {},
   "source": [
    "A function is a reusable block of code which performs operations specified in the function.  They let you break down tasks and allow you to reuse your code in different programs.\n",
    "\n",
    "There are two types of functions :\n",
    "\n",
    "- <b>User defined functions</b>\n",
    "- <b>Pre-defined functions</b>"
   ]
  },
  {
   "cell_type": "markdown",
   "metadata": {},
   "source": [
    "## What is a Function?"
   ]
  },
  {
   "cell_type": "markdown",
   "metadata": {},
   "source": [
    "You can define functions to provide the required functionality. Here are simple rules to define a function in Python:\n",
    "-  Functions blocks begin <code>def</code> followed by the function <code>name</code> and parentheses <code>()</code>.\n",
    "-  There are input parameters or arguments that should be placed within these parentheses. \n",
    "-  You can also define parameters inside these parentheses.\n",
    "-  There is a body within every function that starts with a colon (<code>:</code>) and is indented.\n",
    "-  You can also place documentation before the body \n",
    "-  The statement <code>return</code> exits a function, optionally passing back a value "
   ]
  },
  {
   "cell_type": "markdown",
   "metadata": {},
   "source": [
    "### User defined functions"
   ]
  },
  {
   "cell_type": "markdown",
   "metadata": {},
   "source": [
    "<h4>Definition</h4>"
   ]
  },
  {
   "cell_type": "code",
   "execution_count": null,
   "metadata": {},
   "outputs": [],
   "source": [
    "def f():\n",
    "    \"\"\"return 'Hello, World!'\"\"\"\n",
    "    return \"Hello, World!\"\n",
    "\n",
    "print(f())\n",
    "print(f.__doc__)"
   ]
  },
  {
   "cell_type": "markdown",
   "metadata": {},
   "source": [
    "<div class='hide_iframe'>Visualize execution</div>"
   ]
  },
  {
   "cell_type": "code",
   "execution_count": null,
   "metadata": {},
   "outputs": [],
   "source": [
    "from IPython.display import IFrame\n",
    "url = \"http://pythontutor.com/iframe-embed.html#code=def%20f%28%29%3A%0A%20%20%20%20%22%22%22return%20'Hello,%20World!'%22%22%22%0A%20%20%20%20return%20%22Hello,%20World!%22%0A%0Aprint%28f%28%29%29%0Aprint%28f.__doc__%29&codeDivHeight=400&codeDivWidth=350&cumulative=true&curInstr=6&heapPrimitives=true&origin=opt-frontend.js&py=3&rawInputLstJSON=%5B%5D&textReferences=false\"\n",
    "IFrame(url, width=800, height=350)"
   ]
  },
  {
   "cell_type": "markdown",
   "metadata": {},
   "source": [
    "Type of any function (without parentheses <code>()</code>) is always `function`."
   ]
  },
  {
   "cell_type": "code",
   "execution_count": null,
   "metadata": {},
   "outputs": [],
   "source": [
    "type(f)"
   ]
  },
  {
   "cell_type": "code",
   "execution_count": null,
   "metadata": {},
   "outputs": [],
   "source": [
    "type(f())"
   ]
  },
  {
   "cell_type": "markdown",
   "metadata": {},
   "source": [
    "The **def** keyword is an executable piece of code that creates the function (an instance of the **function** class) and essentially assigns it to a variable name (the function **name**). \n",
    "\n",
    "Note that the function is defined when **def** is reached, but the code inside it is not evaluated until the function is called.\n",
    "\n",
    "This is why we can define functions that call other functions defined later - as long as we don't call them before all the necessary functions are defined."
   ]
  },
  {
   "cell_type": "markdown",
   "metadata": {},
   "source": [
    "For example, the following will work:"
   ]
  },
  {
   "cell_type": "code",
   "execution_count": null,
   "metadata": {},
   "outputs": [],
   "source": [
    "def fn_1():\n",
    "    fn_2()\n",
    "    \n",
    "def fn_2():\n",
    "    print('Hello')\n",
    "    \n",
    "fn_1()"
   ]
  },
  {
   "cell_type": "markdown",
   "metadata": {},
   "source": [
    "But this will not work:"
   ]
  },
  {
   "cell_type": "code",
   "execution_count": null,
   "metadata": {},
   "outputs": [],
   "source": [
    "def fn_3():\n",
    "    fn_4()\n",
    "\n",
    "fn_3()\n",
    "\n",
    "def fn_4():\n",
    "    print('Hello')"
   ]
  },
  {
   "cell_type": "markdown",
   "metadata": {},
   "source": [
    "#### Arguments"
   ]
  },
  {
   "cell_type": "code",
   "execution_count": null,
   "metadata": {},
   "outputs": [],
   "source": [
    "## default arguments\n",
    "def f(name = \"World\"):\n",
    "    \"\"\"return 'Hello, $name'\"\"\"\n",
    "    return \"Hello, {}!\".format(name)\n",
    "\n",
    "print(f())\n",
    "print(f(\"Python\"))"
   ]
  },
  {
   "cell_type": "markdown",
   "metadata": {},
   "source": [
    "<div class='hide_iframe'>Visualize execution</div>"
   ]
  },
  {
   "cell_type": "code",
   "execution_count": null,
   "metadata": {},
   "outputs": [],
   "source": [
    "from IPython.display import IFrame\n",
    "url = \"http://pythontutor.com/iframe-embed.html#code=%23%23%20default%20arguments%0Adef%20f%28name%20%3D%20%22World%22%29%3A%0A%20%20%20%20%22%22%22return%20'Hello,%20%24name'%22%22%22%0A%20%20%20%20return%20%22Hello,%20%7B%7D!%22.format%28name%29%0A%0Aprint%28f%28%29%29%0Aprint%28f%28%22Python%22%29%29&codeDivHeight=400&codeDivWidth=350&cumulative=true&curInstr=9&heapPrimitives=true&origin=opt-frontend.js&py=3&rawInputLstJSON=%5B%5D&textReferences=false\"\n",
    "IFrame(url, width=800, height=480)"
   ]
  },
  {
   "cell_type": "code",
   "execution_count": null,
   "metadata": {},
   "outputs": [],
   "source": [
    "## keyword arguments\n",
    "def f(v, l = \"Python\"):\n",
    "    \"\"\"return '$v, $l'\"\"\"\n",
    "    return \"{}, {}!\".format(v, l)\n",
    "\n",
    "print(f(\"Hello\"))\n",
    "print(f(\"Bye\", \"C/C++\"))"
   ]
  },
  {
   "cell_type": "markdown",
   "metadata": {},
   "source": [
    "<div class='hide_iframe'>Visualize execution</div>"
   ]
  },
  {
   "cell_type": "code",
   "execution_count": null,
   "metadata": {},
   "outputs": [],
   "source": [
    "from IPython.display import IFrame\n",
    "url = \"http://pythontutor.com/iframe-embed.html#code=def%20f%28v,%20l%20%3D%20%22Python%22%29%3A%0A%20%20%20%20%22%22%22return%20'%24v,%20%24l'%22%22%22%0A%20%20%20%20return%20%22%7B%7D,%20%7B%7D!%22.format%28v,%20l%29%0A%0Aprint%28f%28%22Hello%22%29%29%0Aprint%28f%28%22Bye%22,%20%22C/C%2B%2B%22%29%29&codeDivHeight=400&codeDivWidth=350&cumulative=true&curInstr=9&heapPrimitives=true&origin=opt-frontend.js&py=3&rawInputLstJSON=%5B%5D&textReferences=false\"\n",
    "IFrame(url, width=800, height=580)"
   ]
  },
  {
   "cell_type": "code",
   "execution_count": null,
   "metadata": {},
   "outputs": [],
   "source": [
    "## arbitrary arguments\n",
    "def f(*args, con = \" & \"):\n",
    "    print(isinstance(args, tuple))\n",
    "    print(\"Hello\", con.join(args))\n",
    "\n",
    "f(\"Python\", \"C\", \"C++\", con = \"/\")"
   ]
  },
  {
   "cell_type": "markdown",
   "metadata": {},
   "source": [
    "<div class='hide_iframe'>Visualize execution</div>"
   ]
  },
  {
   "cell_type": "code",
   "execution_count": null,
   "metadata": {},
   "outputs": [],
   "source": [
    "from IPython.display import IFrame\n",
    "url = \"http://pythontutor.com/iframe-embed.html#code=%23%23%20arbitrary%20arguments%0Adef%20f%28*args,%20con%20%3D%20%22%20%26%20%22%29%3A%0A%20%20%20%20print%28isinstance%28args,%20tuple%29%29%0A%20%20%20%20print%28%22Hello%22,%20con.join%28args%29%29%0A%0Af%28%22Python%22,%20%22C%22,%20%22C%2B%2B%22,%20con%20%3D%20%22/%22%29&codeDivHeight=400&codeDivWidth=350&cumulative=true&curInstr=6&heapPrimitives=true&origin=opt-frontend.js&py=3&rawInputLstJSON=%5B%5D&textReferences=false\"\n",
    "IFrame(url, width=800, height=760)"
   ]
  },
  {
   "cell_type": "code",
   "execution_count": null,
   "metadata": {},
   "outputs": [],
   "source": [
    "def f(*args, **kargs):\n",
    "    print(\"args \", args)\n",
    "    print(\"kargs \", kargs)\n",
    "    print(\"FP: {} & Scripts: {}\".format(kargs.get(\"fp\"), \"/\".join(args)))\n",
    "    \n",
    "f(\"Python\", \"Javascript\", ms = \"C++\", fp = \"Haskell\")"
   ]
  },
  {
   "cell_type": "markdown",
   "metadata": {},
   "source": [
    "Functions **must** always return something. If you do not specify a return value, Python will automatically return the **None** object:"
   ]
  },
  {
   "cell_type": "markdown",
   "metadata": {},
   "source": [
    "<div class='hide_iframe'>Visualize execution</div>"
   ]
  },
  {
   "cell_type": "code",
   "execution_count": null,
   "metadata": {},
   "outputs": [],
   "source": [
    "from IPython.display import IFrame\n",
    "url = \"http://pythontutor.com/iframe-embed.html#code=def%20f%28*args,%20**kargs%29%3A%0A%20%20%20%20print%28%22args%20%22,%20args%29%0A%20%20%20%20print%28%22kargs%20%22,%20kargs%29%0A%20%20%20%20print%28%22FP%3A%20%7B%7D%20%26%20Scripts%3A%20%7B%7D%22.format%28kargs.get%28%22fp%22%29,%20%22/%22.join%28args%29%29%29%0A%20%20%20%20%0Af%28%22Python%22,%20%22Javascript%22,%20ms%20%3D%20%22C%2B%2B%22,%20fp%20%3D%20%22Haskell%22%29&codeDivHeight=400&codeDivWidth=350&cumulative=true&curInstr=7&heapPrimitives=true&origin=opt-frontend.js&py=3&rawInputLstJSON=%5B%5D&textReferences=false\"\n",
    "IFrame(url, width=980, height=920)"
   ]
  },
  {
   "cell_type": "markdown",
   "metadata": {},
   "source": [
    "An example of a function that adds on to the parameter <code>a</code> and <code>b</code> prints and returns the output as <code>c</code>:"
   ]
  },
  {
   "cell_type": "code",
   "execution_count": null,
   "metadata": {},
   "outputs": [],
   "source": [
    "# First function example: Add a and b, and store as c\n",
    "\n",
    "def add(a, b):\n",
    "    '''Adding two values 'a' with 'b'. '''''\n",
    "    c = a + b\n",
    "    print(\"We get {0}, after adding {1} and {2}\".format(c, a, b))\n",
    "    return(c)\n",
    "\n",
    "# Below is the way we call a user defined function\n",
    "add(2,3)"
   ]
  },
  {
   "cell_type": "markdown",
   "metadata": {},
   "source": [
    "<div class='hide_iframe'>Visualize execution</div>"
   ]
  },
  {
   "cell_type": "code",
   "execution_count": 5,
   "metadata": {},
   "outputs": [
    {
     "data": {
      "text/html": [
       "\n",
       "        <iframe\n",
       "            width=\"900\"\n",
       "            height=\"450\"\n",
       "            src=\"http://pythontutor.com/iframe-embed.html#code=%23%20First%20function%20example%3A%20Add%201%20to%20a%20and%20store%20as%20b%0A%0Adef%20add%28a,%20b%29%3A%0A%20%20%20%20'''Adding%20two%20values%20'a'%20with%20'b'.%20'''''%0A%20%20%20%20c%20%3D%20a%20%2B%20b%0A%20%20%20%20print%28%22We%20get%20%7B0%7D,%20after%20adding%20%7B1%7D%20and%20%7B2%7D%22.format%28c,%20a,%20b%29%29%0A%20%20%20%20return%28c%29%0A%20%20%20%20%0Aadd%282,3%29&codeDivHeight=400&codeDivWidth=350&cumulative=true&curInstr=7&heapPrimitives=true&origin=opt-frontend.js&py=3&rawInputLstJSON=%5B%5D&textReferences=false\"\n",
       "            frameborder=\"0\"\n",
       "            allowfullscreen\n",
       "        ></iframe>\n",
       "        "
      ],
      "text/plain": [
       "<IPython.lib.display.IFrame at 0x107b8dc90>"
      ]
     },
     "execution_count": 5,
     "metadata": {},
     "output_type": "execute_result"
    }
   ],
   "source": [
    "from IPython.display import IFrame\n",
    "url = \"http://pythontutor.com/iframe-embed.html#code=%23%20First%20function%20example%3A%20Add%201%20to%20a%20and%20store%20as%20b%0A%0Adef%20add%28a,%20b%29%3A%0A%20%20%20%20'''Adding%20two%20values%20'a'%20with%20'b'.%20'''''%0A%20%20%20%20c%20%3D%20a%20%2B%20b%0A%20%20%20%20print%28%22We%20get%20%7B0%7D,%20after%20adding%20%7B1%7D%20and%20%7B2%7D%22.format%28c,%20a,%20b%29%29%0A%20%20%20%20return%28c%29%0A%20%20%20%20%0Aadd%282,3%29&codeDivHeight=400&codeDivWidth=350&cumulative=true&curInstr=7&heapPrimitives=true&origin=opt-frontend.js&py=3&rawInputLstJSON=%5B%5D&textReferences=false\"\n",
    "IFrame(url, width=900, height=450)"
   ]
  },
  {
   "cell_type": "markdown",
   "metadata": {},
   "source": [
    "We can obtain help about a function :"
   ]
  },
  {
   "cell_type": "code",
   "execution_count": null,
   "metadata": {},
   "outputs": [],
   "source": [
    "# Get a help on add function\n",
    "help(add)"
   ]
  },
  {
   "cell_type": "markdown",
   "metadata": {},
   "source": [
    "We can call the function:"
   ]
  },
  {
   "cell_type": "markdown",
   "metadata": {},
   "source": [
    "Note that to \"call\" or \"invoke\" a function we need to use the **()**.\n",
    "\n",
    "Simply using the function name without the **()** refers to the function, but does not call it:"
   ]
  },
  {
   "cell_type": "code",
   "execution_count": null,
   "metadata": {},
   "outputs": [],
   "source": [
    "add"
   ]
  },
  {
   "cell_type": "code",
   "execution_count": null,
   "metadata": {},
   "outputs": [],
   "source": [
    "# Call the function add()\n",
    "add(1, 2)"
   ]
  },
  {
   "cell_type": "markdown",
   "metadata": {},
   "source": [
    "If we call the function with a new input we get a new result:"
   ]
  },
  {
   "cell_type": "code",
   "execution_count": null,
   "metadata": {},
   "outputs": [],
   "source": [
    "# Call the function add()\n",
    "add(2.5, -1.0)"
   ]
  },
  {
   "cell_type": "markdown",
   "metadata": {},
   "source": [
    "We could pass different data types as well. But, only those data types which is logically accepted by functions.\n",
    "\n",
    "Note that **a** and **b** can be any type (this is an example of polymorphism - which we will look into more detail later). \n",
    "\n",
    "But the function will fail to run if **a** and **b** are types that are not \"compatible\" with the operator in consideration, <span style='font-size:1.8em;font-weight:bold;'>+</span> in this case."
   ]
  },
  {
   "cell_type": "code",
   "execution_count": null,
   "metadata": {},
   "outputs": [],
   "source": [
    "# Call the function add()\n",
    "add('one', 'two')"
   ]
  },
  {
   "cell_type": "code",
   "execution_count": null,
   "metadata": {},
   "outputs": [],
   "source": [
    "# Call the function add()\n",
    "add('one', 1)"
   ]
  },
  {
   "cell_type": "markdown",
   "metadata": {},
   "source": [
    "It is possible to use **type annotations**:"
   ]
  },
  {
   "cell_type": "code",
   "execution_count": null,
   "metadata": {},
   "outputs": [],
   "source": [
    "# First function example: Add a and b, and store as c\n",
    "\n",
    "def add(a: int, b:int):\n",
    "    '''Adding two values 'a' with 'b'. '''''\n",
    "    c = a + b\n",
    "    print(\"We get {0}, after adding {1} and {2}\".format(c, a, b))\n",
    "    return(c)\n",
    "\n",
    "# Below is the way we call a user defined function\n",
    "add(2,3)"
   ]
  },
  {
   "cell_type": "code",
   "execution_count": null,
   "metadata": {},
   "outputs": [],
   "source": [
    "# Call the function add()\n",
    "add('one', 'two')"
   ]
  },
  {
   "cell_type": "code",
   "execution_count": null,
   "metadata": {},
   "outputs": [],
   "source": [
    "# Call the function add()\n",
    "add('one', 1)"
   ]
  },
  {
   "cell_type": "markdown",
   "metadata": {},
   "source": [
    "Functions are objects, just like integers are objects, and they can be assigned to variables just as an integer can:"
   ]
  },
  {
   "cell_type": "code",
   "execution_count": null,
   "metadata": {},
   "outputs": [],
   "source": [
    "my_func = add\n",
    "my_func('a', 'b')"
   ]
  },
  {
   "cell_type": "markdown",
   "metadata": {},
   "source": [
    "## Variables"
   ]
  },
  {
   "cell_type": "markdown",
   "metadata": {},
   "source": [
    "The input to a function is called a **formal parameter**.\n",
    "\n",
    "<span class=\"note\">A variable that is declared inside a function is called a  <b>local variable</b>. The parameter only <span class=\"key\">exists within the function</span> (i.e. the point where the function starts and stops).</span>"
   ]
  },
  {
   "cell_type": "code",
   "execution_count": 6,
   "metadata": {},
   "outputs": [
    {
     "name": "stdout",
     "output_type": "stream",
     "text": [
      "Local Variable\n",
      "10\n"
     ]
    },
    {
     "ename": "NameError",
     "evalue": "name 'b' is not defined",
     "output_type": "error",
     "traceback": [
      "\u001b[0;31m---------------------------------------------------------------------------\u001b[0m",
      "\u001b[0;31mNameError\u001b[0m                                 Traceback (most recent call last)",
      "\u001b[0;32m<ipython-input-6-571476a777ea>\u001b[0m in \u001b[0;36m<module>\u001b[0;34m\u001b[0m\n\u001b[1;32m      6\u001b[0m \u001b[0mfunction\u001b[0m\u001b[0;34m(\u001b[0m\u001b[0;34m)\u001b[0m\u001b[0;34m\u001b[0m\u001b[0;34m\u001b[0m\u001b[0m\n\u001b[1;32m      7\u001b[0m \u001b[0mprint\u001b[0m\u001b[0;34m(\u001b[0m\u001b[0ma\u001b[0m\u001b[0;34m)\u001b[0m\u001b[0;34m\u001b[0m\u001b[0;34m\u001b[0m\u001b[0m\n\u001b[0;32m----> 8\u001b[0;31m \u001b[0mprint\u001b[0m\u001b[0;34m(\u001b[0m\u001b[0mb\u001b[0m\u001b[0;34m)\u001b[0m\u001b[0;34m\u001b[0m\u001b[0;34m\u001b[0m\u001b[0m\n\u001b[0m",
      "\u001b[0;31mNameError\u001b[0m: name 'b' is not defined"
     ]
    }
   ],
   "source": [
    "a = 10\n",
    "def function():\n",
    "    print(\"Local Variable\")\n",
    "    b = 20\n",
    "\n",
    "function()\n",
    "print(a)\n",
    "print(b)"
   ]
  },
  {
   "cell_type": "markdown",
   "metadata": {},
   "source": [
    "<div class='hide_iframe'>Visualize execution</div>"
   ]
  },
  {
   "cell_type": "code",
   "execution_count": 2,
   "metadata": {},
   "outputs": [
    {
     "data": {
      "text/html": [
       "\n",
       "        <iframe\n",
       "            width=\"900\"\n",
       "            height=\"450\"\n",
       "            src=\"http://pythontutor.com/iframe-embed.html#code=a%20%3D%2010%0Adef%20function%28%29%3A%0A%20%20%20%20print%28%22Local%20Variable%22%29%0A%20%20%20%20b%20%3D%2020%0A%0Afunction%28%29%0Aprint%28a%29%0Aprint%28b%29&codeDivHeight=400&codeDivWidth=350&cumulative=true&curInstr=9&heapPrimitives=true&origin=opt-frontend.js&py=3&rawInputLstJSON=%5B%5D&textReferences=false\"\n",
       "            frameborder=\"0\"\n",
       "            allowfullscreen\n",
       "        ></iframe>\n",
       "        "
      ],
      "text/plain": [
       "<IPython.lib.display.IFrame at 0x107b8dd10>"
      ]
     },
     "execution_count": 2,
     "metadata": {},
     "output_type": "execute_result"
    }
   ],
   "source": [
    "from IPython.display import IFrame\n",
    "url = \"http://pythontutor.com/iframe-embed.html#code=a%20%3D%2010%0Adef%20function%28%29%3A%0A%20%20%20%20print%28%22Local%20Variable%22%29%0A%20%20%20%20b%20%3D%2020%0A%0Afunction%28%29%0Aprint%28a%29%0Aprint%28b%29&codeDivHeight=400&codeDivWidth=350&cumulative=true&curInstr=9&heapPrimitives=true&origin=opt-frontend.js&py=3&rawInputLstJSON=%5B%5D&textReferences=false\"\n",
    "IFrame(url, width=900, height=450)"
   ]
  },
  {
   "cell_type": "markdown",
   "metadata": {},
   "source": [
    "In the above example, we see that Python prints the value of variable **`a`** but it cannot find variable **`b`**. <br>\n",
    "Instead, <b>We got a Name Error:  <code>name 'b' is not defined</code>. Why?</b>  \n",
    "\n",
    "This is because **`b`** was defined as a local scope in the function so, we cannot access the variable outside the function. This is the nature of the local scope.\n",
    "\n",
    "But there is a way to create <b>global variables</b> from within a function.<span class=\"note\">A variable that is declared outside a function definition is a **global variable**, and its value is <span class=\"key\">accessible and modifiable throughout the program.</span>   </span>"
   ]
  },
  {
   "cell_type": "code",
   "execution_count": 8,
   "metadata": {},
   "outputs": [
    {
     "name": "stdout",
     "output_type": "stream",
     "text": [
      "This is declared globally\n"
     ]
    }
   ],
   "source": [
    "Msg = 'This is declared globally'\n",
    "\n",
    "def function():\n",
    "    #local scope of function\n",
    "    print(Msg)\n",
    "\n",
    "function()"
   ]
  },
  {
   "cell_type": "markdown",
   "metadata": {},
   "source": [
    "<div class='hide_iframe'>Visualize execution</div>"
   ]
  },
  {
   "cell_type": "code",
   "execution_count": 7,
   "metadata": {},
   "outputs": [
    {
     "data": {
      "text/html": [
       "\n",
       "        <iframe\n",
       "            width=\"900\"\n",
       "            height=\"400\"\n",
       "            src=\"http://pythontutor.com/iframe-embed.html#code=Msg%20%3D%20'This%20is%20declared%20globally'%0A%0Adef%20function%28%29%3A%0A%20%20%20%20%23local%20scope%20of%20function%0A%20%20%20%20print%28Msg%29%0A%0Afunction%28%29&codeDivHeight=400&codeDivWidth=350&cumulative=true&curInstr=6&heapPrimitives=true&origin=opt-frontend.js&py=3&rawInputLstJSON=%5B%5D&textReferences=false\"\n",
       "            frameborder=\"0\"\n",
       "            allowfullscreen\n",
       "        ></iframe>\n",
       "        "
      ],
      "text/plain": [
       "<IPython.lib.display.IFrame at 0x107c14cd0>"
      ]
     },
     "execution_count": 7,
     "metadata": {},
     "output_type": "execute_result"
    }
   ],
   "source": [
    "from IPython.display import IFrame\n",
    "url = \"http://pythontutor.com/iframe-embed.html#code=Msg%20%3D%20'This%20is%20declared%20globally'%0A%0Adef%20function%28%29%3A%0A%20%20%20%20%23local%20scope%20of%20function%0A%20%20%20%20print%28Msg%29%0A%0Afunction%28%29&codeDivHeight=400&codeDivWidth=350&cumulative=true&curInstr=6&heapPrimitives=true&origin=opt-frontend.js&py=3&rawInputLstJSON=%5B%5D&textReferences=false\"\n",
    "IFrame(url, width=900, height=400)"
   ]
  },
  {
   "cell_type": "markdown",
   "metadata": {},
   "source": [
    "<span class=\"highlight\">But, what would happen if you declare a local variable with the same name as a global variable inside a function?</span>"
   ]
  },
  {
   "cell_type": "code",
   "execution_count": 9,
   "metadata": {},
   "outputs": [
    {
     "name": "stdout",
     "output_type": "stream",
     "text": [
      "local variable\n",
      "global variable\n"
     ]
    }
   ],
   "source": [
    "msg = 'global variable'\n",
    "\n",
    "def function():\n",
    "    #local scope of function\n",
    "    msg = 'local variable'\n",
    "    print(msg)\n",
    "\n",
    "function()\n",
    "print(msg)"
   ]
  },
  {
   "cell_type": "markdown",
   "metadata": {},
   "source": [
    "<div class='hide_iframe'>Visualize execution</div>"
   ]
  },
  {
   "cell_type": "code",
   "execution_count": 4,
   "metadata": {},
   "outputs": [
    {
     "data": {
      "text/html": [
       "\n",
       "        <iframe\n",
       "            width=\"900\"\n",
       "            height=\"450\"\n",
       "            src=\"http://pythontutor.com/iframe-embed.html#code=msg%20%3D%20'global%20variable'%0A%0Adef%20function%28%29%3A%0A%20%20%20%20%23local%20scope%20of%20function%0A%20%20%20%20msg%20%3D%20'local%20variable'%0A%20%20%20%20print%28msg%29%0A%0Afunction%28%29%0Aprint%28msg%29&codeDivHeight=400&codeDivWidth=350&cumulative=true&curInstr=8&heapPrimitives=true&origin=opt-frontend.js&py=3&rawInputLstJSON=%5B%5D&textReferences=false\"\n",
       "            frameborder=\"0\"\n",
       "            allowfullscreen\n",
       "        ></iframe>\n",
       "        "
      ],
      "text/plain": [
       "<IPython.lib.display.IFrame at 0x1079bbcd0>"
      ]
     },
     "execution_count": 4,
     "metadata": {},
     "output_type": "execute_result"
    }
   ],
   "source": [
    "from IPython.display import IFrame\n",
    "url = \"http://pythontutor.com/iframe-embed.html#code=msg%20%3D%20'global%20variable'%0A%0Adef%20function%28%29%3A%0A%20%20%20%20%23local%20scope%20of%20function%0A%20%20%20%20msg%20%3D%20'local%20variable'%0A%20%20%20%20print%28msg%29%0A%0Afunction%28%29%0Aprint%28msg%29&codeDivHeight=400&codeDivWidth=350&cumulative=true&curInstr=8&heapPrimitives=true&origin=opt-frontend.js&py=3&rawInputLstJSON=%5B%5D&textReferences=false\"\n",
    "IFrame(url, width=900, height=450)"
   ]
  },
  {
   "cell_type": "markdown",
   "metadata": {},
   "source": [
    "As you can see, if we declare a local variable (`msg`) with the same name as a global variable (`msg`) then the local scope will use the local variable. If you want to use the global variable inside local scope then you will need to use the **global** keyword which we will discuss soon."
   ]
  },
  {
   "cell_type": "markdown",
   "metadata": {},
   "source": [
    "<span class=\"note\">If we want to print out the dictionary mapping of the global and local variables, we can use the the functions `global()` and `local()`.</span>"
   ]
  },
  {
   "cell_type": "code",
   "execution_count": null,
   "metadata": {},
   "outputs": [],
   "source": [
    "global_var = 'global variable'\n",
    "\n",
    "def function():\n",
    "    #local scope of function\n",
    "    local_var = 'local variable'\n",
    "    print('local_var in function():', 'local_var' in locals())\n",
    "\n",
    "function()\n",
    "\n",
    "print('local_var in global:', 'local_var' in globals())    \n",
    "print('global_var in global:', 'global_var' in globals())"
   ]
  },
  {
   "cell_type": "markdown",
   "metadata": {},
   "source": [
    "<span class='note'>A python variable scope that isn’t **global** or **local** is **nonlocal**. This is also called **enclosing scope**.</span>"
   ]
  },
  {
   "cell_type": "code",
   "execution_count": null,
   "metadata": {},
   "outputs": [],
   "source": [
    "def vehicle():\n",
    "    fun= 'Start'\n",
    "    def car():\n",
    "        model= 'Toyota'\n",
    "        print(fun)\n",
    "        print(model)\n",
    "    \n",
    "    car()\n",
    "vehicle()"
   ]
  },
  {
   "cell_type": "markdown",
   "metadata": {},
   "source": [
    "<div class='hide_iframe'>Visualize execution</div>"
   ]
  },
  {
   "cell_type": "code",
   "execution_count": 10,
   "metadata": {},
   "outputs": [
    {
     "data": {
      "text/html": [
       "\n",
       "        <iframe\n",
       "            width=\"900\"\n",
       "            height=\"500\"\n",
       "            src=\"http://pythontutor.com/iframe-embed.html#code=def%20vehicle%28%29%3A%0A%20%20%20%20fun%3D%20'Start'%0A%20%20%20%20def%20car%28%29%3A%0A%20%20%20%20%20%20%20%20model%3D%20'Toyota'%0A%20%20%20%20%20%20%20%20print%28fun%29%0A%20%20%20%20%20%20%20%20print%28model%29%0A%20%20%20%20%0A%20%20%20%20car%28%29%0Avehicle%28%29&codeDivHeight=400&codeDivWidth=350&cumulative=true&curInstr=12&heapPrimitives=true&origin=opt-frontend.js&py=3&rawInputLstJSON=%5B%5D&textReferences=false\"\n",
       "            frameborder=\"0\"\n",
       "            allowfullscreen\n",
       "        ></iframe>\n",
       "        "
      ],
      "text/plain": [
       "<IPython.lib.display.IFrame at 0x107c4ed90>"
      ]
     },
     "execution_count": 10,
     "metadata": {},
     "output_type": "execute_result"
    }
   ],
   "source": [
    "from IPython.display import IFrame\n",
    "url = \"http://pythontutor.com/iframe-embed.html#code=def%20vehicle%28%29%3A%0A%20%20%20%20fun%3D%20'Start'%0A%20%20%20%20def%20car%28%29%3A%0A%20%20%20%20%20%20%20%20model%3D%20'Toyota'%0A%20%20%20%20%20%20%20%20print%28fun%29%0A%20%20%20%20%20%20%20%20print%28model%29%0A%20%20%20%20%0A%20%20%20%20car%28%29%0Avehicle%28%29&codeDivHeight=400&codeDivWidth=350&cumulative=true&curInstr=12&heapPrimitives=true&origin=opt-frontend.js&py=3&rawInputLstJSON=%5B%5D&textReferences=false\"\n",
    "IFrame(url, width=900, height=500)"
   ]
  },
  {
   "cell_type": "markdown",
   "metadata": {},
   "source": [
    "We will cover other scopes and how they should be used later in detail."
   ]
  },
  {
   "cell_type": "markdown",
   "metadata": {},
   "source": [
    "### Pre-defined functions"
   ]
  },
  {
   "cell_type": "markdown",
   "metadata": {},
   "source": [
    "There are many pre-defined functions in Python and are <i>available by <b>default</b></i>, so let's start with the simple ones."
   ]
  },
  {
   "cell_type": "markdown",
   "metadata": {},
   "source": [
    "The <code>print()</code> function:"
   ]
  },
  {
   "cell_type": "code",
   "execution_count": null,
   "metadata": {},
   "outputs": [],
   "source": [
    "# Build-in function print()\n",
    "\n",
    "marks = [10.0, 8.5, 9.5, 7.0, 7.0] \n",
    "print(marks)"
   ]
  },
  {
   "cell_type": "markdown",
   "metadata": {},
   "source": [
    "The <code>sum()</code> function adds all the  elements in a list or tuple:"
   ]
  },
  {
   "cell_type": "code",
   "execution_count": null,
   "metadata": {},
   "outputs": [],
   "source": [
    "# Use sum() to add every element in a list or tuple together\n",
    "\n",
    "sum(marks)"
   ]
  },
  {
   "cell_type": "markdown",
   "metadata": {},
   "source": [
    "The <code>len()</code> function returns the length of a list or tuple: "
   ]
  },
  {
   "cell_type": "code",
   "execution_count": null,
   "metadata": {},
   "outputs": [],
   "source": [
    "# Show the length of the list or tuple\n",
    "\n",
    "len(marks)"
   ]
  },
  {
   "cell_type": "markdown",
   "metadata": {},
   "source": [
    "The <code>return()</code> function is particularly useful if you have any IF statements in the function, when you want your output to be dependent on some condition: "
   ]
  },
  {
   "cell_type": "code",
   "execution_count": null,
   "metadata": {},
   "outputs": [],
   "source": [
    "def message():\n",
    "    return 'Hello!'\n",
    "\n",
    "message()"
   ]
  },
  {
   "cell_type": "code",
   "execution_count": null,
   "metadata": {},
   "outputs": [],
   "source": [
    "def compare(a, b):\n",
    "    isGreater = None\n",
    "    if b > a:\n",
    "        isGreater = \"{0} is greater than {1}\".format(b,a)\n",
    "    elif b < a:\n",
    "        isGreater = \"{0} is less than {1}\".format(b,a)\n",
    "    \n",
    "    return isGreater\n",
    "\n",
    "compare(5, 4)"
   ]
  },
  {
   "cell_type": "markdown",
   "metadata": {},
   "source": [
    "While <i>some need to be <b>imported</b></i>:"
   ]
  },
  {
   "cell_type": "code",
   "execution_count": null,
   "metadata": {},
   "outputs": [],
   "source": [
    "from math import sqrt\n",
    "sqrt(4)"
   ]
  },
  {
   "cell_type": "markdown",
   "metadata": {},
   "source": [
    "Even entire modules can be imported:"
   ]
  },
  {
   "cell_type": "code",
   "execution_count": null,
   "metadata": {},
   "outputs": [],
   "source": [
    "import math\n",
    "math.exp(1)"
   ]
  },
  {
   "cell_type": "markdown",
   "metadata": {},
   "source": [
    "<iframe width=\"800\" height=\"500\" frameborder=\"0\" src=\"http://pythontutor.com/iframe-embed.html#code=a%20%3D%2010%0Adef%20func%28%29%3A%0A%20%20b%20%3D%2020%0A%20%20return%20b%0A%0Aobj%20%3D%20func%28%29%0Aprint%28obj%29%0Aprint%28a%29%0Aprint%28b%29&codeDivHeight=400&codeDivWidth=350&cumulative=true&curInstr=10&heapPrimitives=true&origin=opt-frontend.js&py=3&rawInputLstJSON=%5B%5D&textReferences=true\"> </iframe>"
   ]
  }
 ],
 "metadata": {
  "kernelspec": {
   "display_name": "Python 3",
   "language": "python",
   "name": "python3"
  },
  "language_info": {
   "codemirror_mode": {
    "name": "ipython",
    "version": 3
   },
   "file_extension": ".py",
   "mimetype": "text/x-python",
   "name": "python",
   "nbconvert_exporter": "python",
   "pygments_lexer": "ipython3",
   "version": "3.7.4"
  }
 },
 "nbformat": 4,
 "nbformat_minor": 2
}
