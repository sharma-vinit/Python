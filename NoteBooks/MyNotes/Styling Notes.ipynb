{
 "cells": [
  {
   "cell_type": "code",
   "execution_count": 1,
   "metadata": {},
   "outputs": [
    {
     "data": {
      "text/html": [
       "<script>\n",
       "\n",
       "//https://jupyter-notebook.readthedocs.io/en/latest/examples/Notebook/JavaScript%20Notebook%20Extensions.html\n",
       "$('#run_all_cells, #run_all_cells_above, #run_all_cells_below').click(function() {\n",
       "    setTimeout(function() {\n",
       "        // Find running cell and click the first one\n",
       "        if ($('.running').length > 0) {\n",
       "            $('.running')[0].click();\n",
       "        }\n",
       "    }, 250);\n",
       "});\n",
       "\n",
       "code_show=true; \n",
       "function code_toggle() {\n",
       "    if (code_show){\n",
       "        $('div.cell.code_cell.rendered.selected div.input').hide();\n",
       "    } else {\n",
       "        $('div.cell.code_cell.rendered.selected div.input').show();\n",
       "    }\n",
       "    code_show = !code_show\n",
       "} \n",
       "$( document ).ready(code_toggle);\n",
       "\n",
       "</script>\n",
       "<style>\n",
       "    @import url('https://fonts.googleapis.com/css?family=Raleway&display=swap');\n",
       "    \n",
       "    div.text_cell_render h1 { /* Main titles bigger, centered */\n",
       "        font-size: 2.2em;\n",
       "        line-height:1.4em;\n",
       "        text-align:center;\n",
       "        color: #00090d;\n",
       "    }\n",
       "    div.text_cell_render h2 { /*  Parts names nearer from text */\n",
       "        font-size: 1.8em;\n",
       "        color:#f2f2f2;;\n",
       "        border-radius: 3px;\n",
       "        background: #2b916a;\n",
       "        padding: 15px;\n",
       "        width: 99%;\n",
       "        height: 2em;\n",
       "    }\n",
       "    div.text_cell_render h3 { /*  Parts names nearer from text */\n",
       "        font-size: 1.5em;\n",
       "        color:#f2f2f2;\n",
       "        background: #1eb4a6;\n",
       "        border-radius: 3px;\n",
       "        padding: 15px;\n",
       "        width: 99%;\n",
       "        height: 2em;\n",
       "    }\n",
       "    div.text_cell_render h4 { /*  Parts names nearer from text */\n",
       "        font-size: 1.2em; \n",
       "        font-style: normal;\n",
       "        color:#f2f2f2;;\n",
       "        border-radius: 3px;\n",
       "        background: #008874;\n",
       "        padding: 5px;\n",
       "        display: inline-block;\n",
       "    }\n",
       "    div.text_cell_render h5 { /*  Parts names nearer from text */\n",
       "        font-size: 1em;\n",
       "        font-style: normal;\n",
       "        color:#f2f2f2;;\n",
       "        border-radius: 3px;\n",
       "        background: #0070b8;\n",
       "        padding: 5px;\n",
       "        display: inline-block;\n",
       "    }\n",
       "    div.text_cell_render h6 { /*  Parts names nearer from text */\n",
       "        font-size: 1em;\n",
       "        color: #0082a3;\n",
       "        font-style: normal;\n",
       "    }\n",
       "    \n",
       "    /* Customize text cells */\n",
       "    div.text_cell_render { \n",
       "        font-family: 'Raleway', sans-serif;\n",
       "        text-align: justify;\n",
       "    }    \n",
       "    \n",
       "    p,li,span {\n",
       "        color:#0f0f0f;\n",
       "        text-align: justify;\n",
       "    }\n",
       "       \n",
       "    .text_cell_render,.rendered_html {\n",
       "        font-style: normal;\n",
       "        text-align: justify;\n",
       "    }\n",
       "    \n",
       "    .link_background {\n",
       "        color: #f2f2f2;\n",
       "    }\n",
       "\n",
       "    .box {\n",
       "      border-radius: 3px;\n",
       "      border: 2px solid #60b985;\n",
       "      padding: 20px;\n",
       "      width: 99%;\n",
       "      height: 2em;\n",
       "    }\n",
       "\n",
       "    .key {\n",
       "        color: #fdfdfd;\n",
       "        background-color: #d37a7a;\n",
       "        padding: 3px;\n",
       "    }\n",
       "    .highlight{\n",
       "        color:#ca5e5e;\n",
       "        background-color: #fbfacb;\n",
       "        padding: 3px;\n",
       "    }\n",
       "    .mark{\n",
       "        background-color: #f1d3d3;\n",
       "        padding: 3px;\n",
       "    }\n",
       "    .note{\n",
       "        background-color: #d9f3d8;\n",
       "        color: #333333;\n",
       "        padding: 3px;\n",
       "    }\n",
       "    \n",
       "    .grow{\n",
       "        font-size: 2em;\n",
       "        font-weight: bold;\n",
       "        color: #b31919;\n",
       "    }\n",
       "</style>\n",
       "To show/hide this cell's raw code input, click <a href=\"javascript:code_toggle()\">here</a>."
      ],
      "text/plain": [
       "<IPython.core.display.HTML object>"
      ]
     },
     "metadata": {},
     "output_type": "display_data"
    }
   ],
   "source": [
    "from IPython.display import HTML\n",
    "from IPython.display import display\n",
    "\n",
    "# Taken from https://stackoverflow.com/questions/31517194/how-to-hide-one-specific-cell-input-or-output-in-ipython-notebook\n",
    "tag = HTML('''<script>\n",
    "\n",
    "//https://jupyter-notebook.readthedocs.io/en/latest/examples/Notebook/JavaScript%20Notebook%20Extensions.html\n",
    "$('#run_all_cells, #run_all_cells_above, #run_all_cells_below').click(function() {\n",
    "    setTimeout(function() {\n",
    "        // Find running cell and click the first one\n",
    "        if ($('.running').length > 0) {\n",
    "            $('.running')[0].click();\n",
    "        }\n",
    "    }, 250);\n",
    "});\n",
    "\n",
    "code_show=true; \n",
    "function code_toggle() {\n",
    "    if (code_show){\n",
    "        $('div.cell.code_cell.rendered.selected div.input').hide();\n",
    "    } else {\n",
    "        $('div.cell.code_cell.rendered.selected div.input').show();\n",
    "    }\n",
    "    code_show = !code_show\n",
    "} \n",
    "$( document ).ready(code_toggle);\n",
    "\n",
    "</script>\n",
    "<style>\n",
    "    @import url('https://fonts.googleapis.com/css?family=Raleway&display=swap');\n",
    "    \n",
    "    div.text_cell_render h1 { /* Main titles bigger, centered */\n",
    "        font-size: 2.2em;\n",
    "        line-height:1.4em;\n",
    "        text-align:center;\n",
    "        color: #00090d;\n",
    "    }\n",
    "    div.text_cell_render h2 { /*  Parts names nearer from text */\n",
    "        font-size: 1.8em;\n",
    "        color:#f2f2f2;;\n",
    "        border-radius: 3px;\n",
    "        background: #2b916a;\n",
    "        padding: 15px;\n",
    "        width: 99%;\n",
    "        height: 2em;\n",
    "    }\n",
    "    div.text_cell_render h3 { /*  Parts names nearer from text */\n",
    "        font-size: 1.5em;\n",
    "        color:#f2f2f2;\n",
    "        background: #1eb4a6;\n",
    "        border-radius: 3px;\n",
    "        padding: 15px;\n",
    "        width: 99%;\n",
    "        height: 2em;\n",
    "    }\n",
    "    div.text_cell_render h4 { /*  Parts names nearer from text */\n",
    "        font-size: 1.2em; \n",
    "        font-style: normal;\n",
    "        color:#f2f2f2;;\n",
    "        border-radius: 3px;\n",
    "        background: #008874;\n",
    "        padding: 5px;\n",
    "        display: inline-block;\n",
    "    }\n",
    "    div.text_cell_render h5 { /*  Parts names nearer from text */\n",
    "        font-size: 1em;\n",
    "        font-style: normal;\n",
    "        color:#f2f2f2;;\n",
    "        border-radius: 3px;\n",
    "        background: #0070b8;\n",
    "        padding: 5px;\n",
    "        display: inline-block;\n",
    "    }\n",
    "    div.text_cell_render h6 { /*  Parts names nearer from text */\n",
    "        font-size: 1em;\n",
    "        color: #0082a3;\n",
    "        font-style: normal;\n",
    "    }\n",
    "    \n",
    "    /* Customize text cells */\n",
    "    div.text_cell_render { \n",
    "        font-family: 'Raleway', sans-serif;\n",
    "        text-align: justify;\n",
    "    }    \n",
    "    \n",
    "    p,li,span {\n",
    "        color:#0f0f0f;\n",
    "        text-align: justify;\n",
    "    }\n",
    "       \n",
    "    .text_cell_render,.rendered_html {\n",
    "        font-style: normal;\n",
    "        text-align: justify;\n",
    "    }\n",
    "    \n",
    "    .link_background {\n",
    "        color: #f2f2f2;\n",
    "    }\n",
    "\n",
    "    .box {\n",
    "      border-radius: 3px;\n",
    "      border: 2px solid #60b985;\n",
    "      padding: 20px;\n",
    "      width: 99%;\n",
    "      height: 2em;\n",
    "    }\n",
    "\n",
    "    .key {\n",
    "        color: #fdfdfd;\n",
    "        background-color: #d37a7a;\n",
    "        padding: 3px;\n",
    "    }\n",
    "    .highlight{\n",
    "        color:#ca5e5e;\n",
    "        background-color: #fbfacb;\n",
    "        padding: 3px;\n",
    "    }\n",
    "    .mark{\n",
    "        background-color: #f1d3d3;\n",
    "        padding: 3px;\n",
    "    }\n",
    "    .note{\n",
    "        background-color: #d9f3d8;\n",
    "        color: #333333;\n",
    "        padding: 3px;\n",
    "    }\n",
    "    \n",
    "    .grow{\n",
    "        font-size: 2em;\n",
    "        font-weight: bold;\n",
    "        color: #b31919;\n",
    "    }\n",
    "</style>\n",
    "To show/hide this cell's raw code input, click <a href=\"javascript:code_toggle()\">here</a>.''')\n",
    "display(tag)\n",
    "\n",
    "############### Write code below ##################"
   ]
  },
  {
   "cell_type": "markdown",
   "metadata": {},
   "source": [
    "<h1>Heading1</h1>"
   ]
  },
  {
   "cell_type": "markdown",
   "metadata": {},
   "source": [
    "<h2>Heading2</h2>"
   ]
  },
  {
   "cell_type": "markdown",
   "metadata": {},
   "source": [
    "<h3>Heading3</h3>"
   ]
  },
  {
   "cell_type": "markdown",
   "metadata": {},
   "source": [
    "<h4>Heading4</h4>"
   ]
  },
  {
   "cell_type": "markdown",
   "metadata": {},
   "source": [
    "<h5>Heading5</h5>"
   ]
  },
  {
   "cell_type": "markdown",
   "metadata": {},
   "source": [
    "<h6>Heading2</h6>"
   ]
  },
  {
   "cell_type": "markdown",
   "metadata": {},
   "source": [
    "<p>Paragraph</p>"
   ]
  },
  {
   "cell_type": "markdown",
   "metadata": {},
   "source": [
    "<ul>\n",
    "    <li>List 1</li>\n",
    "    <li>List 2</li>\n",
    "</ul>"
   ]
  },
  {
   "cell_type": "markdown",
   "metadata": {},
   "source": [
    "<span>Span text</span>"
   ]
  },
  {
   "cell_type": "markdown",
   "metadata": {},
   "source": [
    "<div style=\"background-color: #6a6a6a; padding: 10px;\">\n",
    "    <a class=\"link_background\" href=\"https://xyz.com\">link_background</a>\n",
    "</div>"
   ]
  },
  {
   "cell_type": "markdown",
   "metadata": {},
   "source": [
    "<div class=\"box\">Box class effect</div>"
   ]
  },
  {
   "cell_type": "markdown",
   "metadata": {},
   "source": [
    "<span class=\"key\">Key</span>"
   ]
  },
  {
   "cell_type": "markdown",
   "metadata": {},
   "source": [
    "<span class=\"highlight\">Highlight class effect</span>"
   ]
  },
  {
   "cell_type": "markdown",
   "metadata": {},
   "source": [
    "<span class=\"mark\">Mark class effect</span>"
   ]
  },
  {
   "cell_type": "markdown",
   "metadata": {},
   "source": [
    "<span class=\"note\">Note class effect</span>"
   ]
  },
  {
   "cell_type": "markdown",
   "metadata": {},
   "source": [
    "<span class=\"grow\">Grow class effect</span>"
   ]
  }
 ],
 "metadata": {
  "kernelspec": {
   "display_name": "Python 3",
   "language": "python",
   "name": "python3"
  },
  "language_info": {
   "codemirror_mode": {
    "name": "ipython",
    "version": 3
   },
   "file_extension": ".py",
   "mimetype": "text/x-python",
   "name": "python",
   "nbconvert_exporter": "python",
   "pygments_lexer": "ipython3",
   "version": "3.8.1"
  }
 },
 "nbformat": 4,
 "nbformat_minor": 2
}
